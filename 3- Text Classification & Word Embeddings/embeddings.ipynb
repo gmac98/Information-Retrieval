{
  "nbformat": 4,
  "nbformat_minor": 0,
  "metadata": {
    "colab": {
      "name": "CrossLanguageEmbeddings.ipynb",
      "provenance": [],
      "include_colab_link": true
    },
    "kernelspec": {
      "name": "python3",
      "display_name": "Python 3"
    }
  },
  "cells": [
    {
      "cell_type": "markdown",
      "metadata": {
        "id": "view-in-github",
        "colab_type": "text"
      },
      "source": [
        "<a href=\"https://colab.research.google.com/github/NULabTMN/homework-3-gmac98/blob/main/embeddings.ipynb\" target=\"_parent\"><img src=\"https://colab.research.google.com/assets/colab-badge.svg\" alt=\"Open In Colab\"/></a>"
      ]
    },
    {
      "cell_type": "markdown",
      "metadata": {
        "id": "oDsn_Motja8Q"
      },
      "source": [
        "# Cross-Language Word Embeddings\n",
        "\n",
        "In class, we discussed how we can reduce the dimensionality of word representations from their original vector space to an embedding space on the order of a few hundred dimensions. Different modeling choices for word embeddings may be ultimately evaluated by the effectiveness of classification or retrieval models.\n",
        "\n",
        "In this assignment, however, we will consider another common method of evaluating word embeddings: by judging the usefulness of pairwise distances between words in the embedding space.\n",
        "\n",
        "Follow along with the examples in this notebook, and implement the sections of code flagged with **TODO**."
      ]
    },
    {
      "cell_type": "code",
      "metadata": {
        "id": "UKm5cPMQ2xHU"
      },
      "source": [
        "import gensim\n",
        "import numpy as np\n",
        "from gensim.test.utils import datapath, get_tmpfile\n",
        "from gensim.models import Word2Vec\n",
        "from gensim.models.word2vec import LineSentence"
      ],
      "execution_count": 1,
      "outputs": []
    },
    {
      "cell_type": "markdown",
      "metadata": {
        "id": "sfKjYFDklB4c"
      },
      "source": [
        "We'll start by downloading a plain-text version of the plays of William Shakespeare."
      ]
    },
    {
      "cell_type": "code",
      "metadata": {
        "id": "Dw3bvl1yf5FB",
        "outputId": "d695126b-e170-436b-b0a2-6a38396ad87f",
        "colab": {
          "base_uri": "https://localhost:8080/"
        }
      },
      "source": [
        "!wget http://www.ccs.neu.edu/home/dasmith/courses/cs6200/shakespeare_plays.txt\n",
        "lines = [s.split() for s in open('shakespeare_plays.txt')]"
      ],
      "execution_count": 2,
      "outputs": [
        {
          "output_type": "stream",
          "name": "stdout",
          "text": [
            "--2022-04-09 22:15:25--  http://www.ccs.neu.edu/home/dasmith/courses/cs6200/shakespeare_plays.txt\n",
            "Resolving www.ccs.neu.edu (www.ccs.neu.edu)... 52.70.229.197\n",
            "Connecting to www.ccs.neu.edu (www.ccs.neu.edu)|52.70.229.197|:80... connected.\n",
            "HTTP request sent, awaiting response... 301 Moved Permanently\n",
            "Location: https://www.ccs.neu.edu/home/dasmith/courses/cs6200/shakespeare_plays.txt [following]\n",
            "--2022-04-09 22:15:25--  https://www.ccs.neu.edu/home/dasmith/courses/cs6200/shakespeare_plays.txt\n",
            "Connecting to www.ccs.neu.edu (www.ccs.neu.edu)|52.70.229.197|:443... connected.\n",
            "HTTP request sent, awaiting response... 200 OK\n",
            "Length: 4746840 (4.5M) [text/plain]\n",
            "Saving to: ‘shakespeare_plays.txt.1’\n",
            "\n",
            "shakespeare_plays.t 100%[===================>]   4.53M  24.9MB/s    in 0.2s    \n",
            "\n",
            "2022-04-09 22:15:26 (24.9 MB/s) - ‘shakespeare_plays.txt.1’ saved [4746840/4746840]\n",
            "\n"
          ]
        }
      ]
    },
    {
      "cell_type": "markdown",
      "metadata": {
        "id": "5cZ52pEflKKM"
      },
      "source": [
        "Then, we'll estimate a simple word2vec model on the Shakespeare texts."
      ]
    },
    {
      "cell_type": "code",
      "metadata": {
        "id": "eXT5BNPs_zjM"
      },
      "source": [
        "model = Word2Vec(lines)"
      ],
      "execution_count": 3,
      "outputs": []
    },
    {
      "cell_type": "markdown",
      "metadata": {
        "id": "Fzt3lG1-lw33"
      },
      "source": [
        "Even with such a small training set size, you can perform some standard analogy tasks."
      ]
    },
    {
      "cell_type": "code",
      "metadata": {
        "id": "i4ruAqhKC3-R",
        "outputId": "016437ec-8791-4ff5-d103-55abd6218681",
        "colab": {
          "base_uri": "https://localhost:8080/"
        }
      },
      "source": [
        "model.wv.most_similar(positive=['king','woman'], negative=['man'])"
      ],
      "execution_count": 4,
      "outputs": [
        {
          "output_type": "execute_result",
          "data": {
            "text/plain": [
              "[('queen', 0.8294721841812134),\n",
              " ('prince', 0.7473874092102051),\n",
              " ('clarence', 0.7261805534362793),\n",
              " ('duke', 0.7200121879577637),\n",
              " ('york', 0.7096157073974609),\n",
              " ('gloucester', 0.7092002630233765),\n",
              " ('margaret', 0.6989930868148804),\n",
              " ('warwick', 0.6986757516860962),\n",
              " ('cardinal', 0.6986408233642578),\n",
              " ('princess', 0.6977097392082214)]"
            ]
          },
          "metadata": {},
          "execution_count": 4
        }
      ]
    },
    {
      "cell_type": "markdown",
      "metadata": {
        "id": "AJL45y5emjA9"
      },
      "source": [
        "In other words, we want a vector close to `king` and `woman` but subtracting the dimensions that are important to `man`, i.e., `queen`. Other words are mostly noble titles important in Shakespeare's \"history\" plays.\n",
        "\n",
        "For the rest of this assignment, we will focus on finding words with similar embeddings, both within and across languages. For example, what words are similar to the name of the title character of *Othello*?"
      ]
    },
    {
      "cell_type": "code",
      "metadata": {
        "id": "1EZGroU0KPyj",
        "outputId": "4a519d72-df4d-4e65-e8f7-7815e6501076",
        "colab": {
          "base_uri": "https://localhost:8080/"
        }
      },
      "source": [
        "model.wv.most_similar(positive=['othello'])\n",
        "#model.wv.most_similar(positive=['brutus'])"
      ],
      "execution_count": 5,
      "outputs": [
        {
          "output_type": "execute_result",
          "data": {
            "text/plain": [
              "[('desdemona', 0.9639438390731812),\n",
              " ('emilia', 0.9393848776817322),\n",
              " ('iago', 0.9315193295478821),\n",
              " ('countess', 0.9233903288841248),\n",
              " ('lucio', 0.9186805486679077),\n",
              " ('ham', 0.9124850034713745),\n",
              " ('imogen', 0.9101074934005737),\n",
              " ('rosalind', 0.9075084328651428),\n",
              " ('cleopatra', 0.9070605039596558),\n",
              " ('proteus', 0.9009823203086853)]"
            ]
          },
          "metadata": {},
          "execution_count": 5
        }
      ]
    },
    {
      "cell_type": "markdown",
      "metadata": {
        "id": "UM2BT_7zZle3"
      },
      "source": [
        "If you know the play, you might see some familiar names.\n",
        "\n",
        "This search uses cosine similarity. In the default API, you should see the same similarity between the words `othello` and `desdemona` as in the search results above."
      ]
    },
    {
      "cell_type": "code",
      "metadata": {
        "id": "-e32-u4zYFda",
        "outputId": "857871b2-5946-4a81-9193-383e2b5b16f7",
        "colab": {
          "base_uri": "https://localhost:8080/"
        }
      },
      "source": [
        "model.wv.similarity('othello', 'desdemona')"
      ],
      "execution_count": 6,
      "outputs": [
        {
          "output_type": "execute_result",
          "data": {
            "text/plain": [
              "0.9639438"
            ]
          },
          "metadata": {},
          "execution_count": 6
        }
      ]
    },
    {
      "cell_type": "markdown",
      "metadata": {
        "id": "c49DwfAmZ6PU"
      },
      "source": [
        "**TODO**: Your **first task**, therefore, is to implement your own cosine similarity function so that you can reuse it outside of the context of the gensim model object."
      ]
    },
    {
      "cell_type": "code",
      "metadata": {
        "id": "rEj2PqpuZ5xs",
        "colab": {
          "base_uri": "https://localhost:8080/"
        },
        "outputId": "aac4e1fe-afda-4bc7-d768-ca89d29eef00"
      },
      "source": [
        "## TODO: Implement cosim\n",
        "def cosim(v1, v2):\n",
        "  ## return cosine similarity between v1 and v2\n",
        "  val1 = np.linalg.norm(v1)\n",
        "  val2 = np.linalg.norm(v2)\n",
        "  if val1 > 0 and val2 > 0:\n",
        "        return np.dot(v1, v2) / (val1 * val2)\n",
        "  else:\n",
        "      return 0.0\n",
        "\n",
        "## This should give a result similar to model.wv.similarity:\n",
        "cosim(model.wv['othello'], model.wv['desdemona'])"
      ],
      "execution_count": 7,
      "outputs": [
        {
          "output_type": "execute_result",
          "data": {
            "text/plain": [
              "0.9639438"
            ]
          },
          "metadata": {},
          "execution_count": 7
        }
      ]
    },
    {
      "cell_type": "markdown",
      "metadata": {
        "id": "3TbDqBIHbHfB"
      },
      "source": [
        "## Evaluation\n",
        "\n",
        "We could collect a lot of human judgments about how similar pairs of words, or pairs of Shakespearean characters, are. Then we could compare different word-embedding models by their ability to replicate these human judgments.\n",
        "\n",
        "If we extend our ambition to multiple languages, however, we can use a word translation task to evaluate word embeddings.\n",
        "\n",
        "We will use a subset of [Facebook AI's FastText cross-language embeddings](https://fasttext.cc/docs/en/aligned-vectors.html) for several languages. Your task will be to compare English both to French, and to *one more language* from the following set: Arabic, German, Portuguese, Russian, Spanish, Vietnamese, and Chinese."
      ]
    },
    {
      "cell_type": "code",
      "metadata": {
        "id": "FC_FXRnfq1BO",
        "colab": {
          "base_uri": "https://localhost:8080/"
        },
        "outputId": "120538d6-735b-4cca-b6eb-4e842afe859c"
      },
      "source": [
        "!wget http://www.ccs.neu.edu/home/dasmith/courses/cs6200/30k.en.vec\n",
        "!wget http://www.ccs.neu.edu/home/dasmith/courses/cs6200/30k.fr.vec\n",
        "\n",
        "# TODO: uncomment at least one of these to work with another language\n",
        "# !wget http://www.ccs.neu.edu/home/dasmith/courses/cs6200/30k.ar.vec\n",
        "# !wget http://www.ccs.neu.edu/home/dasmith/courses/cs6200/30k.de.vec\n",
        "!wget http://www.ccs.neu.edu/home/dasmith/courses/cs6200/30k.pt.vec\n",
        "# !wget http://www.ccs.neu.edu/home/dasmith/courses/cs6200/30k.ru.vec\n",
        "# !wget http://www.ccs.neu.edu/home/dasmith/courses/cs6200/30k.es.vec\n",
        "# !wget http://www.ccs.neu.edu/home/dasmith/courses/cs6200/30k.vi.vec\n",
        "# !wget http://www.ccs.neu.edu/home/dasmith/courses/cs6200/30k.zh.vec"
      ],
      "execution_count": 8,
      "outputs": [
        {
          "output_type": "stream",
          "name": "stdout",
          "text": [
            "--2022-04-09 22:15:38--  http://www.ccs.neu.edu/home/dasmith/courses/cs6200/30k.en.vec\n",
            "Resolving www.ccs.neu.edu (www.ccs.neu.edu)... 52.70.229.197\n",
            "Connecting to www.ccs.neu.edu (www.ccs.neu.edu)|52.70.229.197|:80... connected.\n",
            "HTTP request sent, awaiting response... 301 Moved Permanently\n",
            "Location: https://www.ccs.neu.edu/home/dasmith/courses/cs6200/30k.en.vec [following]\n",
            "--2022-04-09 22:15:38--  https://www.ccs.neu.edu/home/dasmith/courses/cs6200/30k.en.vec\n",
            "Connecting to www.ccs.neu.edu (www.ccs.neu.edu)|52.70.229.197|:443... connected.\n",
            "HTTP request sent, awaiting response... 200 OK\n",
            "Length: 67681172 (65M)\n",
            "Saving to: ‘30k.en.vec.1’\n",
            "\n",
            "30k.en.vec.1        100%[===================>]  64.54M   107MB/s    in 0.6s    \n",
            "\n",
            "2022-04-09 22:15:39 (107 MB/s) - ‘30k.en.vec.1’ saved [67681172/67681172]\n",
            "\n",
            "--2022-04-09 22:15:39--  http://www.ccs.neu.edu/home/dasmith/courses/cs6200/30k.fr.vec\n",
            "Resolving www.ccs.neu.edu (www.ccs.neu.edu)... 52.70.229.197\n",
            "Connecting to www.ccs.neu.edu (www.ccs.neu.edu)|52.70.229.197|:80... connected.\n",
            "HTTP request sent, awaiting response... 301 Moved Permanently\n",
            "Location: https://www.ccs.neu.edu/home/dasmith/courses/cs6200/30k.fr.vec [following]\n",
            "--2022-04-09 22:15:39--  https://www.ccs.neu.edu/home/dasmith/courses/cs6200/30k.fr.vec\n",
            "Connecting to www.ccs.neu.edu (www.ccs.neu.edu)|52.70.229.197|:443... connected.\n",
            "HTTP request sent, awaiting response... 200 OK\n",
            "Length: 67802327 (65M)\n",
            "Saving to: ‘30k.fr.vec.1’\n",
            "\n",
            "30k.fr.vec.1        100%[===================>]  64.66M  92.1MB/s    in 0.7s    \n",
            "\n",
            "2022-04-09 22:15:40 (92.1 MB/s) - ‘30k.fr.vec.1’ saved [67802327/67802327]\n",
            "\n",
            "--2022-04-09 22:15:40--  http://www.ccs.neu.edu/home/dasmith/courses/cs6200/30k.pt.vec\n",
            "Resolving www.ccs.neu.edu (www.ccs.neu.edu)... 52.70.229.197\n",
            "Connecting to www.ccs.neu.edu (www.ccs.neu.edu)|52.70.229.197|:80... connected.\n",
            "HTTP request sent, awaiting response... 301 Moved Permanently\n",
            "Location: https://www.ccs.neu.edu/home/dasmith/courses/cs6200/30k.pt.vec [following]\n",
            "--2022-04-09 22:15:40--  https://www.ccs.neu.edu/home/dasmith/courses/cs6200/30k.pt.vec\n",
            "Connecting to www.ccs.neu.edu (www.ccs.neu.edu)|52.70.229.197|:443... connected.\n",
            "HTTP request sent, awaiting response... 200 OK\n",
            "Length: 67767960 (65M)\n",
            "Saving to: ‘30k.pt.vec.1’\n",
            "\n",
            "30k.pt.vec.1        100%[===================>]  64.63M  99.0MB/s    in 0.7s    \n",
            "\n",
            "2022-04-09 22:15:41 (99.0 MB/s) - ‘30k.pt.vec.1’ saved [67767960/67767960]\n",
            "\n"
          ]
        }
      ]
    },
    {
      "cell_type": "markdown",
      "metadata": {
        "id": "nmuIvGpNrJPe"
      },
      "source": [
        "We'll start by loading the word vectors from their textual file format to a dictionary mapping words to numpy arrays."
      ]
    },
    {
      "cell_type": "code",
      "metadata": {
        "id": "VbWORXkP2Vvn"
      },
      "source": [
        "def vecref(s):\n",
        "  (word, srec) = s.split(' ', 1)\n",
        "  return (word, np.fromstring(srec, sep=' '))\n",
        "\n",
        "def ftvectors(fname):\n",
        "  return { k:v for (k, v) in [vecref(s) for s in open(fname)] if len(v) > 1} \n",
        "\n",
        "envec = ftvectors('30k.en.vec')\n",
        "frvec = ftvectors('30k.fr.vec')\n",
        "\n",
        "# TODO: load vectors for one more language, such as zhvec (Chinese)\n",
        "# arvec = ftvectors('30k.ar.vec')\n",
        "# devec = ftvectors('30k.de.vec')\n",
        "ptvec = ftvectors('30k.pt.vec')\n",
        "# ruvec = ftvectors('30k.ru.vec')\n",
        "# esvec = ftvectors('30k.es.vec')\n",
        "# vivec = ftvectors('30k.vi.vec')\n",
        "# zhvec = ftvectors('30k.zh.vec')"
      ],
      "execution_count": 9,
      "outputs": []
    },
    {
      "cell_type": "markdown",
      "metadata": {
        "id": "j88E1JdueZHc"
      },
      "source": [
        "**TODO**: Your next task is to write a simple function that takes a vector and a dictionary of vectors and finds the most similar item in the dictionary. For this assignment, a linear scan through the dictionary using your `cosim` function from above is acceptible."
      ]
    },
    {
      "cell_type": "code",
      "metadata": {
        "id": "gmdirYOjoSWV",
        "colab": {
          "base_uri": "https://localhost:8080/"
        },
        "outputId": "09a3cc00-34e0-40b5-d4d6-5beb76741d9f"
      },
      "source": [
        "## TODO: implement this search function\n",
        "def mostSimilar(vec, vecDict, topn):\n",
        "\n",
        "  ## Use your cosim function from above\n",
        "  similarity = [(k, cosim(vec, v)) for k,v in vecDict.items()]\n",
        "    \n",
        "  return sorted(similarity, key = lambda w: w[1], reverse=True)[:topn]\n",
        "\n",
        "## some example searches\n",
        "print('Most similar French words for English words : computer, germany, matrix, physics, yeast \\n',[mostSimilar(envec[e], frvec, 1) for e in ['computer', 'germany', 'matrix', 'physics', 'yeast']] )\n",
        "print('Most similar Portugese words for English words : computer, germany, matrix, physics, yeast \\n',[mostSimilar(envec[e], ptvec, 1) for e in ['computer', 'germany', 'matrix', 'physics', 'yeast']] )"
      ],
      "execution_count": 10,
      "outputs": [
        {
          "output_type": "stream",
          "name": "stdout",
          "text": [
            "Most similar French words for English words : computer, germany, matrix, physics, yeast \n",
            " [[('informatique', 0.5023827767603765)], [('allemagne', 0.593718413875964)], [('matrice', 0.5088361302065517)], [('physique', 0.4555543434796394)], [('fermentation', 0.3504105196166514)]]\n",
            "Most similar Portugese words for English words : computer, germany, matrix, physics, yeast \n",
            " [[('computador', 0.4988965701007087)], [('alemanha', 0.6288992279001664)], [('matrix', 0.42047042528306583)], [('astrofísica', 0.5025296240252473)], [('fermentação', 0.4029791881209132)]]\n"
          ]
        }
      ]
    },
    {
      "cell_type": "markdown",
      "metadata": {
        "id": "NIKUD5qxpUMB"
      },
      "source": [
        "Some matches make more sense than others. Note that `computer` most closely matches `informatique`, the French term for *computer science*. If you looked further down the list, you would see `ordinateur`, the term for *computer*. This is one weakness of a focus only on embeddings for word *types* independent of context.\n",
        "\n",
        "To evalute cross-language embeddings more broadly, we'll look at a dataset of links between Wikipedia articles."
      ]
    },
    {
      "cell_type": "code",
      "metadata": {
        "id": "az10sIFwsEUP",
        "colab": {
          "base_uri": "https://localhost:8080/"
        },
        "outputId": "a8ff6949-0d09-4c64-b7dc-a6f4372e0d65"
      },
      "source": [
        "!wget http://www.ccs.neu.edu/home/dasmith/courses/cs6200/links.tab\n",
        "links = [s.split() for s in open('links.tab')]"
      ],
      "execution_count": 11,
      "outputs": [
        {
          "output_type": "stream",
          "name": "stdout",
          "text": [
            "--2022-04-09 22:15:50--  http://www.ccs.neu.edu/home/dasmith/courses/cs6200/links.tab\n",
            "Resolving www.ccs.neu.edu (www.ccs.neu.edu)... 52.70.229.197\n",
            "Connecting to www.ccs.neu.edu (www.ccs.neu.edu)|52.70.229.197|:80... connected.\n",
            "HTTP request sent, awaiting response... 301 Moved Permanently\n",
            "Location: https://www.ccs.neu.edu/home/dasmith/courses/cs6200/links.tab [following]\n",
            "--2022-04-09 22:15:50--  https://www.ccs.neu.edu/home/dasmith/courses/cs6200/links.tab\n",
            "Connecting to www.ccs.neu.edu (www.ccs.neu.edu)|52.70.229.197|:443... connected.\n",
            "HTTP request sent, awaiting response... 200 OK\n",
            "Length: 1408915 (1.3M)\n",
            "Saving to: ‘links.tab.1’\n",
            "\n",
            "links.tab.1         100%[===================>]   1.34M  --.-KB/s    in 0.1s    \n",
            "\n",
            "2022-04-09 22:15:50 (10.5 MB/s) - ‘links.tab.1’ saved [1408915/1408915]\n",
            "\n"
          ]
        }
      ]
    },
    {
      "cell_type": "markdown",
      "metadata": {
        "id": "sqHq0hFCv8NY"
      },
      "source": [
        "This `links` variable consists of triples of `(English term, language, term in that language)`. For example, here is the link between English `academy` and French `académie`:"
      ]
    },
    {
      "cell_type": "code",
      "metadata": {
        "id": "RQ7eusdxtdsq",
        "colab": {
          "base_uri": "https://localhost:8080/"
        },
        "outputId": "a61cc882-93be-44bb-9845-51430dda9c9f"
      },
      "source": [
        "links[200]"
      ],
      "execution_count": 12,
      "outputs": [
        {
          "output_type": "execute_result",
          "data": {
            "text/plain": [
              "['abner', 'pt', 'abner']"
            ]
          },
          "metadata": {},
          "execution_count": 12
        }
      ]
    },
    {
      "cell_type": "markdown",
      "metadata": {
        "id": "bYEdOQbmwql3"
      },
      "source": [
        "**TODO**: Evaluate the English and French embeddings by computing the proportion of English Wikipedia articles whose corresponding French article is also the closest word in embedding space. Skip English articles not covered by the word embedding dictionary. Since many articles, e.g., about named entities have the same title in English and French, compute the baseline accuracy achieved by simply echoing the English title as if it were French. Remember to iterate only over English Wikipedia articles, not the entire embedding dictionary."
      ]
    },
    {
      "cell_type": "code",
      "metadata": {
        "id": "RJrTJ3ja91Z4",
        "colab": {
          "base_uri": "https://localhost:8080/"
        },
        "outputId": "d8fc67ee-340d-49e5-ec50-080f995f1261"
      },
      "source": [
        "## TODO: Compute English-French Wikipedia retrieval accuracy.\n",
        "total = 0\n",
        "acc = 0\n",
        "base = 0\n",
        "\n",
        "for row in links:\n",
        "    if row[1] == 'fr':\n",
        "        if row[0] in envec.keys():\n",
        "            total += 1\n",
        "            if row[0] == row[2]:\n",
        "                base += 1\n",
        "            similar = mostSimilar(envec[row[0]], frvec, 1)\n",
        "            if similar[0][0] == row[2]:\n",
        "                acc += 1\n",
        "\n",
        "accuracy = acc/total\n",
        "baselineAccuracy = base/total\n",
        "print('English-French Wikipedia retrieval, Accuracy : {}, Baseline Accuracy : {}'.format(accuracy, baselineAccuracy))"
      ],
      "execution_count": 13,
      "outputs": [
        {
          "output_type": "stream",
          "name": "stdout",
          "text": [
            "English-French Wikipedia retrieval, Accuracy : 0.5359205593271862, Baseline Accuracy : 0.6742324450298915\n"
          ]
        }
      ]
    },
    {
      "cell_type": "markdown",
      "metadata": {
        "id": "7hqd1buq-OEo"
      },
      "source": [
        "**TODO**: Compute accuracy and baseline (identity function) acccuracy for Englsih and another language besides French. Although the baseline will be lower for languages not written in the Roman alphabet (i.e., Arabic or Chinese), there are still many articles in those languages with headwords written in Roman characters."
      ]
    },
    {
      "cell_type": "code",
      "metadata": {
        "id": "ZjnKtHya-jmj",
        "colab": {
          "base_uri": "https://localhost:8080/"
        },
        "outputId": "a80da782-7f1d-4401-b8c1-ef6e24e1d442"
      },
      "source": [
        "## TODO: Compute English-Portuguese Wikipedia retrieval accuracy.\n",
        "total = 0\n",
        "acc = 0\n",
        "base = 0\n",
        "\n",
        "for row in links:\n",
        "    if row[1] == 'pt':\n",
        "        if row[0] in envec.keys():\n",
        "            total += 1\n",
        "            if row[0] == row[2]:\n",
        "                base += 1\n",
        "            similar = mostSimilar(envec[row[0]], ptvec, 1)\n",
        "            if similar[0][0] == row[2]:\n",
        "                acc += 1\n",
        "\n",
        "accuracy = acc/total\n",
        "baselineAccuracy = base/total\n",
        "print('English-Portuguese Wikipedia retrieval, Accuracy : {}, Baseline Accuracy : {}'.format(accuracy, baselineAccuracy))"
      ],
      "execution_count": 14,
      "outputs": [
        {
          "output_type": "stream",
          "name": "stdout",
          "text": [
            "English-Portuguese Wikipedia retrieval, Accuracy : 0.49465079937492484, Baseline Accuracy : 0.5266257963697559\n"
          ]
        }
      ]
    },
    {
      "cell_type": "markdown",
      "metadata": {
        "id": "E6z01sufFPJh"
      },
      "source": [
        "**TODO**: Find the 10 nearest neighbors of each English term to compute \"recall at 10\" and \"mean reciprocal rank at 10\"."
      ]
    },
    {
      "cell_type": "code",
      "source": [
        "## TODO: Compute recall@10 and MRR@10 when retrieving 10 nearest neighbors in French and some other language.\n",
        "\n",
        "# Compute recall@10 and MRR@10 when retrieving 10 nearest neighbors of each English term in French\n",
        "total1 = 0\n",
        "reciprocal1 = 0\n",
        "recall1 = 0\n",
        "\n",
        "total2 = 0\n",
        "reciprocal2 = 0\n",
        "recall2 = 0\n",
        "\n",
        "for row in links:\n",
        "    if row[1] == 'fr':\n",
        "        if row[0] in envec.keys():\n",
        "            total1 += 1\n",
        "            similar = mostSimilar(envec[row[0]], frvec, 10)\n",
        "            for i in range(len(similar)):\n",
        "              if similar[i][0] == row[2]:\n",
        "                recall1 += 1\n",
        "                rank = i+1\n",
        "                reciprocal1 += 1/rank\n",
        "                break\n",
        "    if row[1] == 'pt':\n",
        "        if row[0] in envec.keys():\n",
        "            total2 += 1\n",
        "            similar = mostSimilar(envec[row[0]], ptvec, 10)\n",
        "            for i in range(len(similar)):\n",
        "              if similar[i][0] == row[2]:\n",
        "                recall2 += 1\n",
        "                rank = i+1\n",
        "                reciprocal2 += 1/rank\n",
        "                break\n",
        "\n",
        "recall1_10 = recall1/total1\n",
        "mrr1_10 = reciprocal1/total1\n",
        "print('English-French Wikipedia retrieval, Recall@10 : {}, MRR@10 : {} '.format(recall1_10, mrr1_10))\n",
        "\n",
        "recall2_10 = recall2/total2\n",
        "mrr2_10 = reciprocal2/total2\n",
        "print('English-Portuguese Wikipedia retrieval, Recall@10 : {}, MRR@10 : {} '.format(recall2_10, mrr2_10))"
      ],
      "metadata": {
        "id": "TgAORWTQl0Sl",
        "colab": {
          "base_uri": "https://localhost:8080/"
        },
        "outputId": "b4ff1d1f-fa4f-42c2-b78b-6064e1cd815f"
      },
      "execution_count": 15,
      "outputs": [
        {
          "output_type": "stream",
          "name": "stdout",
          "text": [
            "English-French Wikipedia retrieval, Recall@10 : 0.6130307021988043, MRR@10 : 0.5646970954423574 \n",
            "English-Portuguese Wikipedia retrieval, Recall@10 : 0.5904555836037986, MRR@10 : 0.5301355951283833 \n"
          ]
        }
      ]
    },
    {
      "cell_type": "markdown",
      "source": [
        "The list of Wikipedia headwords is short enough that a linear scan through the non-English language embeddings takes some time but is feasible. In a production system, you could index the word embeddings using SimHash or some other locality sensitive hashing scheme, as we discussed for duplicate detection, to speed up this process."
      ],
      "metadata": {
        "id": "GsXoZaVsYMXR"
      }
    }
  ]
}