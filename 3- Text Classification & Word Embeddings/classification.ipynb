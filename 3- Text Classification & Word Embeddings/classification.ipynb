{
  "nbformat": 4,
  "nbformat_minor": 0,
  "metadata": {
    "colab": {
      "name": "classification.ipynb",
      "provenance": [],
      "include_colab_link": true
    },
    "kernelspec": {
      "name": "python3",
      "display_name": "Python 3"
    },
    "language_info": {
      "name": "python"
    }
  },
  "cells": [
    {
      "cell_type": "markdown",
      "metadata": {
        "id": "view-in-github",
        "colab_type": "text"
      },
      "source": [
        "<a href=\"https://colab.research.google.com/github/NULabTMN/homework-3-gmac98/blob/main/classification.ipynb\" target=\"_parent\"><img src=\"https://colab.research.google.com/assets/colab-badge.svg\" alt=\"Open In Colab\"/></a>"
      ]
    },
    {
      "cell_type": "markdown",
      "metadata": {
        "id": "9fniEAr7Kdsb"
      },
      "source": [
        "# Text Classification\n",
        "\n",
        "In class, we spent some time on text classification, including naive Bayes classifiers.  We focused on these models not only because they are simple to implement and fairly effective, but also because of their similarity to widely used bag-of-words retrieval models such as BM25 and query likelihood.\n",
        "\n",
        "Your task is to write a naive Bayes text categorization system to predict whether movie reviews are positive or negative.  The data for this **sentiment analysis** task were first assembled and published in Bo Pang and Lillian Lee, &ldquo;A Sentimental Education: Sentiment Analysis Using Subjectivity Summarization Based on Minimum Cuts&rdquo;, _Proceedings of the Association for Computational Linguistics_, 2004.\n",
        "\n",
        "## Loading the data\n",
        "\n",
        "First we load the training, development, and test splits of this dataset."
      ]
    },
    {
      "cell_type": "code",
      "metadata": {
        "id": "Qou7WSViJ7j2"
      },
      "source": [
        "import json\n",
        "from urllib.request import urlopen\n",
        "import numpy as np\n",
        "import matplotlib.pyplot as plt\n",
        "import math\n",
        "import random\n",
        "from collections import Counter"
      ],
      "execution_count": 1,
      "outputs": []
    },
    {
      "cell_type": "code",
      "metadata": {
        "id": "i5b269H_ImDz"
      },
      "source": [
        "# Read one JSON record per line\n",
        "def read_jsonl(f):\n",
        "  res = []\n",
        "  for line in f:\n",
        "    res.append(json.loads(line))\n",
        "  return res"
      ],
      "execution_count": 2,
      "outputs": []
    },
    {
      "cell_type": "markdown",
      "metadata": {
        "id": "ly9sQzxqKNsr"
      },
      "source": [
        "If you're working offline, you could modify this code to read from the copies of the data in the repository."
      ]
    },
    {
      "cell_type": "code",
      "metadata": {
        "id": "c3DDh5ytJrTR",
        "colab": {
          "base_uri": "https://localhost:8080/"
        },
        "outputId": "3f87ac71-2ed5-4f3b-f51e-e47858b336e3"
      },
      "source": [
        "train = read_jsonl(urlopen(\"https://github.com/dasmiq/cs6200-hw3/blob/main/train.json?raw=true\"))\n",
        "dev = read_jsonl(urlopen(\"https://github.com/dasmiq/cs6200-hw3/blob/main/dev.json?raw=true\"))\n",
        "test = read_jsonl(urlopen(\"https://github.com/dasmiq/cs6200-hw3/blob/main/test.json?raw=true\"))\n",
        "\n",
        "print(len(train))\n",
        "print(len(dev))\n",
        "print(len(test))"
      ],
      "execution_count": 3,
      "outputs": [
        {
          "output_type": "stream",
          "name": "stdout",
          "text": [
            "1600\n",
            "200\n",
            "200\n"
          ]
        }
      ]
    },
    {
      "cell_type": "markdown",
      "metadata": {
        "id": "mbvCSANLNSAt"
      },
      "source": [
        "Each of these subsets of the data is a list of documents, and each document has a unique identifier (`id`) and text (`text`). The training and development documents, in addition, have been labeled with a `class`."
      ]
    },
    {
      "cell_type": "code",
      "metadata": {
        "colab": {
          "base_uri": "https://localhost:8080/"
        },
        "id": "tV_4DmkNKaz5",
        "outputId": "752b4619-bb6b-4665-a979-6344e11da521"
      },
      "source": [
        "print(train[0])\n",
        "print(dev[0])\n",
        "print(test[0])"
      ],
      "execution_count": 4,
      "outputs": [
        {
          "output_type": "stream",
          "name": "stdout",
          "text": [
            "{'id': '12178', 'class': 'neg', 'text': \"the sequel to the fugitive ( 1993 ) , u . s marshals is an average thriller using it's association with the fugitive just so it can make a few extra bucks . \\ntommy lee jones returns to his role as chief deputy samuel gerard , the grizzly cop who was after harrison ford in the fugitive . \\nthis time , he's after fugitive mark sheridan ( snipes ) who the police think killed two fbi agents , but of course he's been set up , and when the police plane escort he ( and gerard ) are riding crashes , he makes a run for it , gerard not so hot on his tail . \\nwhat follows is about 2 hours of action , brought to us by the director of executive decision ( 1995 ) , another film curiously involving a plane . \\nwhen comparing this movie to the fugitive , the prequel is far superior . \\nbut even on it's own , u . s marshals is a pretty lousy movie . \\nwhile the original was reasonably intelligent , and had a fugitive to root for , the audience feels strangely distanced from snipes fugitive , mainly because we know so little about him until way into the film's overlong running time . \\nwhile the fugitive gave a little time to develop harrison fords character , u . s marshals is straight in there , pulling it's trump card ( the place crash ) almost immediately . \\nto be honest , i couldn't care less if snipe's character got captured or not . \\nsnipes performance is average , and his character gets surprisingly little screen time ( considering he is the fugitive ) for reasons i'll explain later . \\ntommy lee jones is as fine as ever , although his role is hardly a challenge . \\nthe sense of deja vu was overwhelming . \\ni know it's the same role from the fugitive , but there is seemingly no attempt to develop his character from the last film . \\nthere's a few 'nudge nudge' references from the first film , but apart from that , nothing . \\nnobody even mentions harrison ford in this movie . \\ndowney jnr is ok as fbi agent john royce who's roped into the chase , and sexy french actress irene jacob wanders in and out of the movie as snipes wife . \\nnobody looks as if their having a good time , and all the performers are on autopilot . \\nthe supporting cast are o . k , but when it comes to performances , u . s marshals falls flat on it's face . \\nit doesn't fare any better plot-wise , either . \\nthe film starts off with gerard trying to capture snipes , but then veers off into terrorists territory . \\nas said above , the film is an normal , average terrorist thriller , seen a million times before , but is using the fugitive reputation to make it sound more professional . \\nif this film wasn't the 'sequel' to the fugitive , this would probably go straight to video , or not even been made at all , because it's so average . \\nand because of the film's plot changing it's course , snipes is almost forgotten apart , and hardly features in the movie . \\nstuart baird , the director , is all right , but there's no particular scene that stands out . \\nit's director is the usual action movie style . \\neven the plane crash is sorely lacking in tension . \\nthe special effects are nice , especially the plane crash , and there's a good ( if very loud ) soundtrack by veteran composer jerry goldsmith . \\nbut in the end , u . s marshals suffers from an overwhelmingly lack of excitement . \\nsure , it's loud and dumb , but in the end u . s marshals just ain't fun . \\nbored performers and a lackluster plot and script , do not make a good action movie . \\noverall rating= review by david wilcock web space provided by geocities \\n\"}\n",
            "{'id': '20531', 'class': 'neg', 'text': 'under any other circumstances , i would not be discussing the ending of a film to the extent that i will in this particular review . \\nhowever , in order to fully explain exactly how and why this movie is so awful , a minute dissection of the ending is necessary . \\neven though i will not reveal the details of the last scenes , do proceed at your own risk . \\nthe movie opens ( quite poorly , i might add ) as child psychologist malcolm crowe ( bruce willis , looking like he was dragged out of his trailer at the wee hours of the morning to shoot each scene ) and his wife are intruded upon by one of malcolm\\'s past patients . \\ndistraught , the suicidal man ( a cameo by new kid on the block donnie wahlberg ) shoots malcolm and then turns the gun on himself . \\ncut to the \" next fall \" , as we find the good doctor quietly observing his latest case , a trouble young man named cole ( haley joel osment , one of the only child actors in a while i didn\\'t want to bludgeoned over the head with a blunt instrument ) . \\nafter about 45 minutes of seemingly unrelated freak occurrences , we learn that cole has \" the sixth sense \" , the gift of being able to communicate with the dead . \\nand this , as they say , is where the healing begins . \\nthe sixth sense and its unexpected popularity is founded upon a twist ending that i knew going into the film ( one of roger ebert\\'s colleges was kind enough to give it away on a recent segment of \" siskel and ebert \" ) . \\nalthough i was at first enraged that an established film critic could so callously ruin a film for thousands of patrons , i soon realized that this turn of events could in fact have been a blessing in disguise ; i\\'ve always been a sucker for surprise endings ( my favorite movie is the usual suspects ) and rarely dislike a film that sports one . \\nhere , since i knew the major plot twist that was coming at the film\\'s conclusion , the possibly of being bamboozled into loving a bad movie solely because of its ending ( something i\\'ve fallen victim to in the past ) was eliminated . \\nand indeed , my viewing of the sixth sense did prove to be quite an enlightening experiment . \\nstripped of the element of surprise , the film was put to the task of showing what it really had , instead of simply hiding behind a shocking conclusion . \\nafter seeing its true colors , i came to the conclusion that the sixth sense is , despite what the many champions of the movie may say , void of any real power . \\nit\\'s a neat concept , but not one that justifies being made into a feature-length movie . \\nin fact , the sixth sense relies so strongly on its finale that the rest of the film develops as a sort of prelude to the supposedly earth-shattering revelation that is yet to come . \\nand when the final moments do come , it\\'s a huge letdown ; the end makes no sense at all . \\nit stupefied me with the heights of its ineptitude and is completely idiotic on a fundamental and very rare level . \\ni won\\'t go into any details , but suffice to say that , as far as i can tell , it negates to rest of the movie to such an extent that anyone who buys it even for a second must be suffering from a very acute case of attention deficit disorder . \\nnow , in all fairness , i cannot say for sure that i would have guessed the ending ( however stupid it may be ) had it not been revealed to me before hand . \\nhowever , i feel very confident that i , as well as anyone who had seen a few \" twilight zone \" episodes , would have seen it coming a mile away . \\nthe fact that movie-goers nation wide are surprised by the ending still has me stumped . \\nironically , to fully appreciate the best scene ( that of cole and malcolm attending a little girl\\'s funeral ) , the viewer is required to be aware of a very rare psychological disorder called munchausen syndrome by proxy . \\ni wouldn\\'t have even known about this mental disease if i hadn\\'t , by pure dumb luck , caught \" dateline nbc \" the other week when they did a feature story on it . \\ndespite being blessed with some really amazing cinematography and a brauva performance from osment ( where was this kid when casting calls were going out for the phantom menace ? ) , in the end , the sixth sense is too chalk-full of contradictions and just isn\\'t plausible enough to warrant even a slight recommendation . \\n'}\n",
            "{'id': '11471', 'text': 'the lives of older people in the twilight of their years attempting to come to grips with their shared histories and possible futures is a fascinating topic . \\nfinding an all-star cast for such a film is a stroke of genius . \\ncombining all that with a three-time oscar-winning director ( robert benton of \" kramer vs . \\nkramer \" ) and creating a decidedly mediocre movie is the stuff of disappointment . \\nin yet another noir mystery set in hollywood -- how many of these have we seen during the past few years ? \\n-- the atmosphere is moody , the actors enjoyable to watch and the story goes nowhere . \\nover-70 harry ross ( paul newman ) is a washed up cop-turned-private eye-turned man friday trying to figure out how to live what remains of his life . \\nhe\\'s screwed up things pretty well ( \" i had a wife and daughter . \\nnow , i\\'m a drunk ) and is at a crossroads . \\na couple of years ago , he traveled to mexico to bring back mel ( reese witherspoon ) , the under-age daughter of jack ( gene hackman ) and catherine ( susan sarandon ) ames and now lives with them . \\nthe ames are former movie stars , past their prime and the three have become fast friends . \\none gets the impression that ross is just hanging out waiting for something to wake him up . \\nto fill his time , he does odd jobs for jack and falls in love with catherine . \\njack is in even worse shape than harry . \\nhe\\'s dying of cancer with only a year to live . \\nthings do turn more exciting when jack asks harry to drop off a sealed manila envelope for him . \\ninstead of the routine errand that ross expects , he walks into a barrage of bullets from the gun of another ex-cop who is , himself , full of bloody holes . \\nthis unsettling event gives the former detective a project to throw himself into and launches an investigation that revolves around the mysterious disappearance of catherine\\'s first husband 20 years before . \\nthrough a series of very complex and convoluted plot devices that involve murder ; blackmail ; guns ; mel\\'s mexico traveling partner and his parole officer ; ross\\'s former cop buddies , ex-lover and would-be sidekick , the tale finally ends up exactly where everyone expects it to . \\nit\\'s a film noir tradition that the story twists and turns down side roads for an unexpected finale , but here the journey meanders towards an ending that no one cares about . \\nthe only surprises are exactly whose face fits which role in the scenario . \\nby the time they show you , it doesn\\'t matter . \\nthe storyline gets goofier and goofier exemplified in ross\\'s relationship with rubin ( giancarlo esposito ) , a partner wannabe . \\nthese scenes are obviously designed to be comic relief , however they are neither . \\nrubin and ross have some past relationship but either it\\'s not explained or i didn\\'t care enough at that point to remember . \\na running joke about where harry was supposedly shot while in mexico is probably meant to mirror his questions about whether he is still able to perform . \\nit\\'s also not funny , doesn\\'t connect and keeps on showing up long after it has run its course . \\non the positive side , it\\'s often enjoyable to watch the seasoned actors on the screen . \\nthe three leads all have well-deserved academy awards and turn in accomplished , if not extraordinary jobs . \\nnewman is a grand actor , but doesn\\'t seem quite suited to the dark film style . \\nhe is a bit too clean and understated to come across as desperate and down and out . \\nhackman , also low-key , is believable but lacks sparkle . \\nsarandon comes across well as an sultry older babe although she is one-dimensional . \\nthe actors do what they can with lame dialog , but they can\\'t pull the film out of the hole it\\'s dug for itself . \\njames garner who plays ross\\'s old buddy ex-cop raymond hope is always a treat , but even he half-heartedly struggles through lines like \" i\\'m glad they didn\\'t shoot your pecker off . \" \\nthe best part of the film is the look at old friends , how their relationships change over the years and the difficult choices they must make . \\nthe genuinely easy and casual interactions among the actors hint that being on the set was much more interesting than what ended up on the screen \\nthe film doesn\\'t run very long before the audience realizes that it\\'s hopeless . \\nthe only reason for watching is the actors . \\nit reminds me of disaster movies such as \" towering inferno \" where the star power is supposed to make everyone ignore the film\\'s problems . \\nin a better world , there would have been second-rate actors in this second-rate movie and the ones here would have been saved for something better . \\nof course , we don\\'t live in that better world , but you could make yours a little nicer by choosing a different movie . \\n'}\n"
          ]
        }
      ]
    },
    {
      "cell_type": "markdown",
      "metadata": {
        "id": "rz6U09YLOPZa"
      },
      "source": [
        "## Collecting term statistics\n",
        "\n",
        "The text has been pre-tokenized and lower-cased.  All you have to do to get the individual terms in a review is to split the tokens by whitespace, a sequence of spaces and/or newlines."
      ]
    },
    {
      "cell_type": "code",
      "source": [
        "## To diplay all output in window screen\n",
        "from IPython.display import HTML, display\n",
        "\n",
        "def set_css():\n",
        "  display(HTML('''\n",
        "  <style>\n",
        "    pre {\n",
        "        white-space: pre-wrap;\n",
        "    }\n",
        "  </style>\n",
        "  '''))\n",
        "get_ipython().events.register('pre_run_cell', set_css)"
      ],
      "metadata": {
        "id": "g-JuJq8Z5JMm"
      },
      "execution_count": 5,
      "outputs": []
    },
    {
      "cell_type": "code",
      "source": [
        "def generate_tuples_from_file(training_file_path):\n",
        "  \"\"\"\n",
        "  Generates tuples from list of dictionary\n",
        "  Return:\n",
        "    a list of tuples of strings formatted [(id, label, example_text), (id, label, example_text)....]\n",
        "  \"\"\"\n",
        "  list1 = []\n",
        "  for dic in training_file_path:\n",
        "    l1 = []\n",
        "    for key, val in dic.items():\n",
        "        l1.append(val)\n",
        "    v1 = tuple(l1)\n",
        "    list1.append(v1)\n",
        "  return list1\n",
        "\n",
        "listOfTrainingExamples = generate_tuples_from_file(train)"
      ],
      "metadata": {
        "colab": {
          "base_uri": "https://localhost:8080/",
          "height": 17
        },
        "id": "lBzB_zA6zKTF",
        "outputId": "17e94538-367d-488a-9785-4020ddfc065d"
      },
      "execution_count": 6,
      "outputs": [
        {
          "output_type": "display_data",
          "data": {
            "text/plain": [
              "<IPython.core.display.HTML object>"
            ],
            "text/html": [
              "\n",
              "  <style>\n",
              "    pre {\n",
              "        white-space: pre-wrap;\n",
              "    }\n",
              "  </style>\n",
              "  "
            ]
          },
          "metadata": {}
        }
      ]
    },
    {
      "cell_type": "code",
      "metadata": {
        "id": "FyBgOVvzO7pr",
        "colab": {
          "base_uri": "https://localhost:8080/",
          "height": 17
        },
        "outputId": "3c590d90-b808-4454-a11a-ad0fffb99420"
      },
      "source": [
        "## TODO: Write a function to convert a document into a collection of terms and their counts.\n",
        "## Convert the lists of documents in the training, development, and test sets into these collections of terms and counts.\n",
        "def tokenize1(data):\n",
        "    return data.split()\n",
        "\n",
        "def term_statistics(examples, tokenize):\n",
        "    positive_lines = []\n",
        "    negative_lines = []\n",
        "    \n",
        "    for i in examples:\n",
        "        if i[1] == \"pos\":\n",
        "            positive_lines.append(i[2])\n",
        "        if i[1] == \"neg\":\n",
        "            negative_lines.append(i[2])\n",
        "            \n",
        "    N_positive = len(positive_lines)                   #Number of positive docs\n",
        "    N_negative = len(negative_lines)                   #Number of negative docs\n",
        "    \n",
        "    positive_vocabulary_list = []\n",
        "    for line in positive_lines:\n",
        "        words = tokenize(line)\n",
        "        temp_positive_vocabulary_list = []\n",
        "        for word in words:\n",
        "            if word!='':\n",
        "                temp_positive_vocabulary_list.append(word)  #all words in positive doc\n",
        "        tpvl = []\n",
        "        tpvl = set(temp_positive_vocabulary_list)\n",
        "        for word in tpvl:\n",
        "            positive_vocabulary_list.append(word)\n",
        "    \n",
        "    \n",
        "    negative_vocabulary_list = []\n",
        "    for line in negative_lines:\n",
        "        words = tokenize(line)\n",
        "        temp_negative_vocabulary_list = []\n",
        "        for word in words:\n",
        "            if word!='':\n",
        "                temp_negative_vocabulary_list.append(word)  #words in negative doc\n",
        "        tnvl = []\n",
        "        tnvl = set(temp_negative_vocabulary_list)\n",
        "        for word in tnvl:\n",
        "            negative_vocabulary_list.append(word)\n",
        "            \n",
        "            \n",
        "    vocabulary_list = []\n",
        "    vocabulary_list = positive_vocabulary_list + negative_vocabulary_list   #all words from all docs (including duplicates)\n",
        "    vocabulary = set(vocabulary_list)                        #unique words from pos and neg doc\n",
        "\n",
        "    return N_positive, N_negative, vocabulary, positive_vocabulary_list, negative_vocabulary_list\n",
        "\n",
        "N_positive, N_negative, vocabulary, positive_vocabulary_list, negative_vocabulary_list = term_statistics(listOfTrainingExamples, tokenize1)"
      ],
      "execution_count": 7,
      "outputs": [
        {
          "output_type": "display_data",
          "data": {
            "text/plain": [
              "<IPython.core.display.HTML object>"
            ],
            "text/html": [
              "\n",
              "  <style>\n",
              "    pre {\n",
              "        white-space: pre-wrap;\n",
              "    }\n",
              "  </style>\n",
              "  "
            ]
          },
          "metadata": {}
        }
      ]
    },
    {
      "cell_type": "markdown",
      "metadata": {
        "id": "Lab8VS4lVf_m"
      },
      "source": [
        "The statistics for individual documents will be useful in predicting the class of those documents, e.g., in the test set.\n",
        "\n",
        "Now, you will collect the statistics used to estimate the parameters of a naive Bayes model."
      ]
    },
    {
      "cell_type": "code",
      "metadata": {
        "id": "u9H67SPHV2sw",
        "colab": {
          "base_uri": "https://localhost:8080/",
          "height": 17
        },
        "outputId": "b307bafd-87c9-4dd7-d52e-eac084510558"
      },
      "source": [
        "## TODO: Write a function to take a list of document statistics and produce a dictionary of term counts in each class.\n",
        "## Your output will look something like this:\n",
        "\n",
        "# fakeData = {'pos': {'the': 10000, 'and': 800},\n",
        "#             'neg': {'the': 1001, 'and': 799}}\n",
        "\n",
        "def termCountDict(positive_vocabulary_list, negative_vocabulary_list):\n",
        "    positive_word_count = Counter(positive_vocabulary_list)  \n",
        "    negative_word_count = Counter(negative_vocabulary_list)\n",
        "    sentimentData = {'pos': positive_word_count, 'neg': negative_word_count}\n",
        "\n",
        "    return sentimentData\n",
        "    \n",
        "sentimentData = termCountDict(positive_vocabulary_list, negative_vocabulary_list)"
      ],
      "execution_count": 8,
      "outputs": [
        {
          "output_type": "display_data",
          "data": {
            "text/plain": [
              "<IPython.core.display.HTML object>"
            ],
            "text/html": [
              "\n",
              "  <style>\n",
              "    pre {\n",
              "        white-space: pre-wrap;\n",
              "    }\n",
              "  </style>\n",
              "  "
            ]
          },
          "metadata": {}
        }
      ]
    },
    {
      "cell_type": "markdown",
      "metadata": {
        "id": "YTQgq1wcWuC5"
      },
      "source": [
        "## Estimating naive Bayes parameters\n",
        "\n",
        "As we discussed in class, you could use simple maximum-likelihood estimation for naive Bayes parameters, i.e., computing the relative frequency of a term given a class. The problem is that the relative frequency of words not seen in the training data will be zero, e.g., $p(\\texttt{aardvark} | \\texttt{pos}) = \\frac{0}{\\textrm{tokens in the positive training data}}$.\n",
        "\n",
        "To avoid this problem, estimate the parameters with **add-1 (Laplace) smoothing**. In other words, add an additional count of 1 to each word type. Then, to make the probability distribution sum to 1, add a count of 1 for each vocabulary word to the denominator. For our `aardvark` example, we would now have, for vocabulary $V$, $p(\\texttt{aardvark} | \\texttt{pos}) = \\frac{0 + 1}{N_{\\texttt{pos}} + 1 \\cdot |V|}$\n"
      ]
    },
    {
      "cell_type": "code",
      "metadata": {
        "id": "_Iw7JL9SWlOk",
        "colab": {
          "base_uri": "https://localhost:8080/",
          "height": 17
        },
        "outputId": "02cb5402-bc4b-47f5-e76a-f37250b752bc"
      },
      "source": [
        "## TODO: Write a function to compute the add-1 smoothed parameters for a naive Bayes model given the term statistics you computed above.\n",
        "## Collect these parameters for the training set.\n",
        "def naive(vocabulary, sentimentData, alpha):\n",
        "    positive_likelihood = {}\n",
        "    negative_likelihood = {}\n",
        "\n",
        "    for i in vocabulary:\n",
        "        positive_likelihood[i] = math.log( (sentimentData['pos'][i] + alpha) / (len(positive_vocabulary_list) + alpha * len(vocabulary)) )\n",
        "        negative_likelihood[i] = math.log( (sentimentData['neg'][i] + alpha) / (len(negative_vocabulary_list) + alpha * len(vocabulary)) )\n",
        "\n",
        "    return positive_likelihood, negative_likelihood\n",
        "\n",
        "positive_likelihood, negative_likelihood = naive(vocabulary, sentimentData, 1)"
      ],
      "execution_count": 9,
      "outputs": [
        {
          "output_type": "display_data",
          "data": {
            "text/plain": [
              "<IPython.core.display.HTML object>"
            ],
            "text/html": [
              "\n",
              "  <style>\n",
              "    pre {\n",
              "        white-space: pre-wrap;\n",
              "    }\n",
              "  </style>\n",
              "  "
            ]
          },
          "metadata": {}
        }
      ]
    },
    {
      "cell_type": "markdown",
      "metadata": {
        "id": "zdpWyzIPZdgD"
      },
      "source": [
        "What terms are likely to be important for prediction?"
      ]
    },
    {
      "cell_type": "code",
      "metadata": {
        "id": "xSzF8M-kY-VZ",
        "colab": {
          "base_uri": "https://localhost:8080/",
          "height": 108
        },
        "outputId": "7e91c78b-691c-45c9-a244-f631844f87f0"
      },
      "source": [
        "## TODO: Print a list of the 25 terms with the highest log ratio of positive to negative weight.\n",
        "p2n_ratio = {}\n",
        "for i in vocabulary:\n",
        "    p2n_ratio[i] = positive_likelihood[i] / negative_likelihood[i]\n",
        "\n",
        "print('25 terms with the highest log ratio of positive to negative weight', sorted(p2n_ratio.items(), key=lambda x: x[1], reverse=True)[:25])"
      ],
      "execution_count": 10,
      "outputs": [
        {
          "output_type": "display_data",
          "data": {
            "text/plain": [
              "<IPython.core.display.HTML object>"
            ],
            "text/html": [
              "\n",
              "  <style>\n",
              "    pre {\n",
              "        white-space: pre-wrap;\n",
              "    }\n",
              "  </style>\n",
              "  "
            ]
          },
          "metadata": {}
        },
        {
          "output_type": "stream",
          "name": "stdout",
          "text": [
            "25 terms with the highest log ratio of positive to negative weight [('atrocious', 1.302180758505219), ('jolie', 1.2695013814236602), ('3000', 1.2695013814236602), ('seagal', 1.2695013814236602), ('ludicrous', 1.2641525109012752), ('dud', 1.2601756887390128), ('incoherent', 1.2601756887390128), ('justin', 1.2601756887390128), ('angelina', 1.2601756887390128), ('insulting', 1.250933980117748), ('wielding', 1.2502558715972305), ('shoddy', 1.239648073389705), ('degenerates', 1.239648073389705), ('overwrought', 1.239648073389705), ('chuckle', 1.2380386728556514), ('uninvolving', 1.2380386728556514), ('idiotic', 1.2310745815650717), ('nutty', 1.2282332175081239), ('silverstone', 1.2282332175081239), ('bruckheimer', 1.2282332175081239), ('horrid', 1.2282332175081239), ('tedium', 1.2158568536544883), ('feeble', 1.2158568536544883), ('coyote', 1.2158568536544883), ('hodgepodge', 1.2158568536544883)]\n"
          ]
        }
      ]
    },
    {
      "cell_type": "code",
      "metadata": {
        "id": "wkX55joVZJGJ",
        "colab": {
          "base_uri": "https://localhost:8080/",
          "height": 108
        },
        "outputId": "284a54e4-44da-40ce-e62f-207540bb1dfd"
      },
      "source": [
        "## TODO: Print a list of the 25 terms with the highest log ration of negative to positive weight.\n",
        "n2p_ratio = {}\n",
        "for i in vocabulary:\n",
        "    n2p_ratio[i] = negative_likelihood[i] / positive_likelihood[i]\n",
        "\n",
        "print('25 terms with the highest log ratio of negative to positive weight', sorted(n2p_ratio.items(), key=lambda x: x[1], reverse=True)[:25])"
      ],
      "execution_count": 11,
      "outputs": [
        {
          "output_type": "display_data",
          "data": {
            "text/plain": [
              "<IPython.core.display.HTML object>"
            ],
            "text/html": [
              "\n",
              "  <style>\n",
              "    pre {\n",
              "        white-space: pre-wrap;\n",
              "    }\n",
              "  </style>\n",
              "  "
            ]
          },
          "metadata": {}
        },
        {
          "output_type": "stream",
          "name": "stdout",
          "text": [
            "25 terms with the highest log ratio of negative to positive weight [('outstanding', 1.2772588742848134), ('symbol', 1.2646964445150808), ('lovingly', 1.2560349871785232), (\"son's\", 1.2560349871785232), ('fashioned', 1.2560349871785232), ('thematic', 1.2468625664196493), ('dread', 1.2371049081709438), ('melancholy', 1.2371049081709438), ('religion', 1.2370176408155211), ('vulnerable', 1.2308066065007344), ('comforts', 1.2266695139817518), ('characteristic', 1.2266695139817518), ('en', 1.2266695139817518), ('masterfully', 1.2266695139817518), ('ideals', 1.2266695139817518), ('astounding', 1.2176046005546983), ('avoids', 1.2176046005546983), ('gattaca', 1.215439022783148), ('methodical', 1.215439022783148), ('exhilarating', 1.215439022783148), ('symbols', 1.215439022783148), ('steady', 1.215439022783148), ('tobey', 1.215439022783148), ('fascination', 1.2105602849041193), ('judges', 1.2032611988477546)]\n"
          ]
        }
      ]
    },
    {
      "cell_type": "markdown",
      "metadata": {
        "id": "wbx_izd7ZUuo"
      },
      "source": [
        "Now, given the parameters you've estimated, you can make predictions about new documents."
      ]
    },
    {
      "cell_type": "code",
      "metadata": {
        "id": "NSh2STb4UjDm",
        "colab": {
          "base_uri": "https://localhost:8080/",
          "height": 17
        },
        "outputId": "6002acdb-42c1-4ade-da32-c83dc0c75965"
      },
      "source": [
        "## TODO: Compute the predictions of your model for each document in the development data.\n",
        "def classify(N_positive, N_negative, data, positive_likelihood, negative_likelihood, tokenize):\n",
        "    \"\"\"\n",
        "    Score a given piece of text\n",
        "    Return: dict of class: score mappings\n",
        "    \"\"\"\n",
        "    words = tokenize(data)\n",
        "    test_words = []\n",
        "    for i in words:\n",
        "        if i!='':\n",
        "            if i in positive_likelihood:\n",
        "              test_words.append(i)\n",
        "    \n",
        "    N_doc = N_positive + N_negative                    #Total number of docs\n",
        "\n",
        "    prior_positive = math.log((N_positive/N_doc))     #Logarithmic Prior\n",
        "    prior_negative = math.log((N_negative/N_doc))\n",
        "\n",
        "    positive_value = prior_positive\n",
        "    negative_value = prior_negative\n",
        "    for i in test_words:\n",
        "        positive_value = ( positive_value) + ( positive_likelihood.get(i))\n",
        "        negative_value = ( negative_value) + ( negative_likelihood.get(i))\n",
        "        \n",
        "    # positive_value = np.exp(positive_value)\n",
        "    # negative_value = np.exp(negative_value)\n",
        "    predScoreDistribution = {'pos': positive_value, 'neg': negative_value}\n",
        "    # print(predScoreDistribution)\n",
        "    if predScoreDistribution['pos'] >= predScoreDistribution['neg']:\n",
        "        return 'pos'\n",
        "    else:\n",
        "        return 'neg'"
      ],
      "execution_count": 12,
      "outputs": [
        {
          "output_type": "display_data",
          "data": {
            "text/plain": [
              "<IPython.core.display.HTML object>"
            ],
            "text/html": [
              "\n",
              "  <style>\n",
              "    pre {\n",
              "        white-space: pre-wrap;\n",
              "    }\n",
              "  </style>\n",
              "  "
            ]
          },
          "metadata": {}
        }
      ]
    },
    {
      "cell_type": "code",
      "source": [
        "## TODO: Write a function to compute the accuracy of predictions given correct classes.\n",
        "\n",
        "devClasses = [x['class'] for x in dev]\n",
        "\n",
        "listOfDevExamples = generate_tuples_from_file(dev)\n",
        "devPredictions1 = []\n",
        "for line in listOfDevExamples:\n",
        "      devPredictions1.append(classify(N_positive, N_negative, line[2], positive_likelihood, negative_likelihood, tokenize1))\n",
        "\n",
        "def accuracy(predicted_labels, gold_labels):\n",
        "    numerator = 0.0\n",
        "    denominator = len(predicted_labels)\n",
        "    for i in range(len(gold_labels)):\n",
        "        if gold_labels[i] == predicted_labels[i]:\n",
        "            numerator += 1\n",
        "    return numerator / denominator\n",
        "\n",
        "accuracy1 = accuracy(devPredictions1, devClasses)\n",
        "print(\"1st model, Accuracy:\", accuracy1)"
      ],
      "metadata": {
        "id": "UA2sdupHQ9Ee",
        "colab": {
          "base_uri": "https://localhost:8080/",
          "height": 36
        },
        "outputId": "48cdbb18-fda7-4c89-c9e6-fb12fef42cc3"
      },
      "execution_count": 13,
      "outputs": [
        {
          "output_type": "display_data",
          "data": {
            "text/plain": [
              "<IPython.core.display.HTML object>"
            ],
            "text/html": [
              "\n",
              "  <style>\n",
              "    pre {\n",
              "        white-space: pre-wrap;\n",
              "    }\n",
              "  </style>\n",
              "  "
            ]
          },
          "metadata": {}
        },
        {
          "output_type": "stream",
          "name": "stdout",
          "text": [
            "1st model, Accuracy: 0.72\n"
          ]
        }
      ]
    },
    {
      "cell_type": "code",
      "metadata": {
        "id": "KgX4mD0uUvFR",
        "colab": {
          "base_uri": "https://localhost:8080/",
          "height": 455
        },
        "outputId": "d7c15f39-1ada-4be1-c28c-cce163865b78"
      },
      "source": [
        "## TODO: Compute the predictions of this model on each document in the test set.\n",
        "listOfTestExamples = generate_tuples_from_file(test)\n",
        "testPredictions = []\n",
        "n = 0\n",
        "key_order = ['id', 'class', 'text']\n",
        "for line in listOfTestExamples:\n",
        "      testPredictions.append(classify(N_positive, N_negative, line[1], positive_likelihood, negative_likelihood, tokenize1))\n",
        "      test[n]['class'] = testPredictions[-1]\n",
        "      test[n] = {k : test[n][k] for k in key_order}\n",
        "      n += 1\n",
        "\n",
        "print(test[0])"
      ],
      "execution_count": 14,
      "outputs": [
        {
          "output_type": "display_data",
          "data": {
            "text/plain": [
              "<IPython.core.display.HTML object>"
            ],
            "text/html": [
              "\n",
              "  <style>\n",
              "    pre {\n",
              "        white-space: pre-wrap;\n",
              "    }\n",
              "  </style>\n",
              "  "
            ]
          },
          "metadata": {}
        },
        {
          "output_type": "stream",
          "name": "stdout",
          "text": [
            "{'id': '11471', 'class': 'neg', 'text': 'the lives of older people in the twilight of their years attempting to come to grips with their shared histories and possible futures is a fascinating topic . \\nfinding an all-star cast for such a film is a stroke of genius . \\ncombining all that with a three-time oscar-winning director ( robert benton of \" kramer vs . \\nkramer \" ) and creating a decidedly mediocre movie is the stuff of disappointment . \\nin yet another noir mystery set in hollywood -- how many of these have we seen during the past few years ? \\n-- the atmosphere is moody , the actors enjoyable to watch and the story goes nowhere . \\nover-70 harry ross ( paul newman ) is a washed up cop-turned-private eye-turned man friday trying to figure out how to live what remains of his life . \\nhe\\'s screwed up things pretty well ( \" i had a wife and daughter . \\nnow , i\\'m a drunk ) and is at a crossroads . \\na couple of years ago , he traveled to mexico to bring back mel ( reese witherspoon ) , the under-age daughter of jack ( gene hackman ) and catherine ( susan sarandon ) ames and now lives with them . \\nthe ames are former movie stars , past their prime and the three have become fast friends . \\none gets the impression that ross is just hanging out waiting for something to wake him up . \\nto fill his time , he does odd jobs for jack and falls in love with catherine . \\njack is in even worse shape than harry . \\nhe\\'s dying of cancer with only a year to live . \\nthings do turn more exciting when jack asks harry to drop off a sealed manila envelope for him . \\ninstead of the routine errand that ross expects , he walks into a barrage of bullets from the gun of another ex-cop who is , himself , full of bloody holes . \\nthis unsettling event gives the former detective a project to throw himself into and launches an investigation that revolves around the mysterious disappearance of catherine\\'s first husband 20 years before . \\nthrough a series of very complex and convoluted plot devices that involve murder ; blackmail ; guns ; mel\\'s mexico traveling partner and his parole officer ; ross\\'s former cop buddies , ex-lover and would-be sidekick , the tale finally ends up exactly where everyone expects it to . \\nit\\'s a film noir tradition that the story twists and turns down side roads for an unexpected finale , but here the journey meanders towards an ending that no one cares about . \\nthe only surprises are exactly whose face fits which role in the scenario . \\nby the time they show you , it doesn\\'t matter . \\nthe storyline gets goofier and goofier exemplified in ross\\'s relationship with rubin ( giancarlo esposito ) , a partner wannabe . \\nthese scenes are obviously designed to be comic relief , however they are neither . \\nrubin and ross have some past relationship but either it\\'s not explained or i didn\\'t care enough at that point to remember . \\na running joke about where harry was supposedly shot while in mexico is probably meant to mirror his questions about whether he is still able to perform . \\nit\\'s also not funny , doesn\\'t connect and keeps on showing up long after it has run its course . \\non the positive side , it\\'s often enjoyable to watch the seasoned actors on the screen . \\nthe three leads all have well-deserved academy awards and turn in accomplished , if not extraordinary jobs . \\nnewman is a grand actor , but doesn\\'t seem quite suited to the dark film style . \\nhe is a bit too clean and understated to come across as desperate and down and out . \\nhackman , also low-key , is believable but lacks sparkle . \\nsarandon comes across well as an sultry older babe although she is one-dimensional . \\nthe actors do what they can with lame dialog , but they can\\'t pull the film out of the hole it\\'s dug for itself . \\njames garner who plays ross\\'s old buddy ex-cop raymond hope is always a treat , but even he half-heartedly struggles through lines like \" i\\'m glad they didn\\'t shoot your pecker off . \" \\nthe best part of the film is the look at old friends , how their relationships change over the years and the difficult choices they must make . \\nthe genuinely easy and casual interactions among the actors hint that being on the set was much more interesting than what ended up on the screen \\nthe film doesn\\'t run very long before the audience realizes that it\\'s hopeless . \\nthe only reason for watching is the actors . \\nit reminds me of disaster movies such as \" towering inferno \" where the star power is supposed to make everyone ignore the film\\'s problems . \\nin a better world , there would have been second-rate actors in this second-rate movie and the ones here would have been saved for something better . \\nof course , we don\\'t live in that better world , but you could make yours a little nicer by choosing a different movie . \\n'}\n"
          ]
        }
      ]
    },
    {
      "cell_type": "markdown",
      "metadata": {
        "id": "91ExTuNkZiP7"
      },
      "source": [
        "## Comparing models with hypothesis testing (CS6200 only)\n",
        "\n",
        "Now that you've built a straightforward naive Bayes model, you can try to improve it. You could try stemming words, or including bigrams or trigrams, or adjusting the hyperparameter for Laplace smoothing, or trying a different smoothing method. What you try is up to you."
      ]
    },
    {
      "cell_type": "code",
      "source": [
        "## TODO: Try different features and/or smoothing.\n",
        "## Compute the predictions and the acuracy of your new model on development data.\n",
        "\n",
        "# Tokenizing and stemming\n",
        "def tokenize2(data):\n",
        "    data = data.split()\n",
        "    result = []\n",
        "    for i in range(len(data)):\n",
        "        word = data[i]\n",
        "        if word.endswith(\"sses\"):\n",
        "            result.append(word[:-2])\n",
        "        elif word.endswith(\"ing\"):\n",
        "            result.append(word[:-3])\n",
        "        elif word.endswith(\"ies\"):\n",
        "            result.append(word[:-2])\n",
        "        elif word.endswith(\"ss\"):\n",
        "            result.append(word[:-2])\n",
        "        elif word.endswith(\"ment\"):\n",
        "            result.append(word[:-4])\n",
        "        # elif word.endswith(\"s\"):\n",
        "        #     result.append(word[:-1])\n",
        "        else:\n",
        "            result.append(word)\n",
        "    return result\n",
        "\n",
        "\n",
        "N_positive2, N_negative2, vocabulary2, positive_vocabulary_list2, negative_vocabulary_list2 = term_statistics(listOfTrainingExamples, tokenize2)\n",
        "sentimentData2 = termCountDict(positive_vocabulary_list2, negative_vocabulary_list2)\n",
        "\n",
        "# Adjusting hyperparameter for Laplace smoothing to 4\n",
        "positive_likelihood2, negative_likelihood2 = naive(vocabulary2, sentimentData2, 4)\n",
        "\n",
        "devClasses = [x['class'] for x in dev]\n",
        "listOfDevExamples = generate_tuples_from_file(dev)\n",
        "devPredictions2 = []\n",
        "for line in listOfDevExamples:\n",
        "      devPredictions2.append(classify(N_positive2, N_negative2, line[2], positive_likelihood2, negative_likelihood2, tokenize2))\n",
        "\n",
        "accuracy2 = accuracy(devPredictions2, devClasses)\n",
        "print(\"2nd model, Accuracy:\", accuracy2)"
      ],
      "metadata": {
        "id": "Oe6Q118oNKHt",
        "colab": {
          "base_uri": "https://localhost:8080/",
          "height": 36
        },
        "outputId": "5a917e42-215e-4c2f-f737-8ad8c635b3a7"
      },
      "execution_count": 15,
      "outputs": [
        {
          "output_type": "display_data",
          "data": {
            "text/plain": [
              "<IPython.core.display.HTML object>"
            ],
            "text/html": [
              "\n",
              "  <style>\n",
              "    pre {\n",
              "        white-space: pre-wrap;\n",
              "    }\n",
              "  </style>\n",
              "  "
            ]
          },
          "metadata": {}
        },
        {
          "output_type": "stream",
          "name": "stdout",
          "text": [
            "2nd model, Accuracy: 0.755\n"
          ]
        }
      ]
    },
    {
      "cell_type": "markdown",
      "source": [
        "Perhaps your new model will be better than your original naive Bayes model above; perhaps it will be worse. (That won't affect your grade.) Your next step is to implement a permutation test to compare the two models. Refer to the material on the bootstrap and permutation tests at the end of the evaluation lecture."
      ],
      "metadata": {
        "id": "Si9C0EmmNYiO"
      }
    },
    {
      "cell_type": "code",
      "source": [
        "## TODO: Compute the difference in accuracy between your first naive Bayes model and your new one.\n",
        "\n",
        "difference = np.abs(accuracy1 - accuracy2)\n",
        "print('Observed difference : ',difference)\n",
        "\n",
        "for i in range(0,len(devPredictions1)):\n",
        "    if devPredictions1[i] == 'pos':\n",
        "      devPredictions1[i] = 1\n",
        "    else:\n",
        "      devPredictions1[i] = 0\n",
        "\n",
        "for i in range(0,len(devPredictions2)):\n",
        "    if devPredictions2[i] == 'pos':\n",
        "      devPredictions2[i] = 1\n",
        "    else:\n",
        "      devPredictions2[i] = 0\n",
        "devPred1 = np.array(devPredictions1)\n",
        "devPred2 = np.array(devPredictions2)"
      ],
      "metadata": {
        "id": "w3HF-Xu-PDAh",
        "colab": {
          "base_uri": "https://localhost:8080/",
          "height": 36
        },
        "outputId": "0f186434-770a-44ab-ec57-95c34603e02e"
      },
      "execution_count": 16,
      "outputs": [
        {
          "output_type": "display_data",
          "data": {
            "text/plain": [
              "<IPython.core.display.HTML object>"
            ],
            "text/html": [
              "\n",
              "  <style>\n",
              "    pre {\n",
              "        white-space: pre-wrap;\n",
              "    }\n",
              "  </style>\n",
              "  "
            ]
          },
          "metadata": {}
        },
        {
          "output_type": "stream",
          "name": "stdout",
          "text": [
            "Observed difference :  0.03500000000000003\n"
          ]
        }
      ]
    },
    {
      "cell_type": "code",
      "source": [
        "## TODO: Write a function that, given two vectors of predictions that have\n",
        "## the same length, swaps each pair of predictions with probability 0.5.\n",
        "def permute(y1, y2):\n",
        "  for i in range(len(y1)):\n",
        "    rand = random.random()\n",
        "    if rand > 0.5:\n",
        "      y1[i], y2[i] = y2[i], y1[i]\n",
        "\n",
        "  return y1, y2"
      ],
      "metadata": {
        "id": "0MFDrMHJTSDZ",
        "colab": {
          "base_uri": "https://localhost:8080/",
          "height": 17
        },
        "outputId": "ff9d8263-6034-403f-be95-528fc27e5cda"
      },
      "execution_count": 17,
      "outputs": [
        {
          "output_type": "display_data",
          "data": {
            "text/plain": [
              "<IPython.core.display.HTML object>"
            ],
            "text/html": [
              "\n",
              "  <style>\n",
              "    pre {\n",
              "        white-space: pre-wrap;\n",
              "    }\n",
              "  </style>\n",
              "  "
            ]
          },
          "metadata": {}
        }
      ]
    },
    {
      "cell_type": "code",
      "source": [
        "## TODO: If you run this permute function 500 times on the predictions of your two models,\n",
        "## it should produce 500 different pairs of vectors.\n",
        "## Compute the difference in accuracy for each of these 500 pairs, i.e., a vector of 500 differences.\n",
        "def testingDiff(xs, ys, nmc):\n",
        "    permutationDifferences = []\n",
        "    for j in range(nmc):\n",
        "        y1, y2 = permute(xs, ys)\n",
        "        diff = np.abs(np.mean(y1) - np.mean(y2))\n",
        "        permutationDifferences.append(diff)\n",
        "    return permutationDifferences\n",
        "\n",
        "permutationDifferences = testingDiff(devPred1, devPred2, 500)\n",
        "# print(permutationDifferences[:20])"
      ],
      "metadata": {
        "id": "5p77hnCJT3qN",
        "colab": {
          "base_uri": "https://localhost:8080/",
          "height": 17
        },
        "outputId": "21f78b6c-2807-4080-cbc3-c485c7cb816d"
      },
      "execution_count": 18,
      "outputs": [
        {
          "output_type": "display_data",
          "data": {
            "text/plain": [
              "<IPython.core.display.HTML object>"
            ],
            "text/html": [
              "\n",
              "  <style>\n",
              "    pre {\n",
              "        white-space: pre-wrap;\n",
              "    }\n",
              "  </style>\n",
              "  "
            ]
          },
          "metadata": {}
        }
      ]
    },
    {
      "cell_type": "code",
      "source": [
        "## TODO: Compute the proportion of these differences that are greater than the actual accuracy difference between your two models.\n",
        "## This proportion is the p-value computed by this permutation test.\n",
        "k = 0\n",
        "for i in range(len(permutationDifferences)):\n",
        "    if permutationDifferences[i] > difference:\n",
        "      k +=1\n",
        "\n",
        "print('p-value : ', k/500)"
      ],
      "metadata": {
        "id": "887iK4acxd9i",
        "outputId": "4aafa2ff-3de2-4eea-ed1e-ee4c2801289c",
        "colab": {
          "base_uri": "https://localhost:8080/",
          "height": 36
        }
      },
      "execution_count": 19,
      "outputs": [
        {
          "output_type": "display_data",
          "data": {
            "text/plain": [
              "<IPython.core.display.HTML object>"
            ],
            "text/html": [
              "\n",
              "  <style>\n",
              "    pre {\n",
              "        white-space: pre-wrap;\n",
              "    }\n",
              "  </style>\n",
              "  "
            ]
          },
          "metadata": {}
        },
        {
          "output_type": "stream",
          "name": "stdout",
          "text": [
            "p-value :  0.012\n"
          ]
        }
      ]
    },
    {
      "cell_type": "code",
      "source": [
        "## This code should plot a histogram of the differences between the permuted vectors\n",
        "## and the location of the observed accuracy difference.\n",
        "plt.hist(permutationDifferences, 20, label='Replicates', edgecolor='black')\n",
        "ylim = plt.ylim()\n",
        "plt.plot(2 * [difference], ylim, '--g', linewidth=3, label='Observed difference')\n",
        "plt.ylim(ylim)\n",
        "plt.legend()\n",
        "plt.xlabel('Difference in accuracy')\n",
        "plt.show()"
      ],
      "metadata": {
        "id": "oBL94mc4Ve0P",
        "colab": {
          "base_uri": "https://localhost:8080/",
          "height": 282
        },
        "outputId": "55d966d0-8bac-4806-e5cd-e2066d535b92"
      },
      "execution_count": 20,
      "outputs": [
        {
          "output_type": "display_data",
          "data": {
            "text/plain": [
              "<IPython.core.display.HTML object>"
            ],
            "text/html": [
              "\n",
              "  <style>\n",
              "    pre {\n",
              "        white-space: pre-wrap;\n",
              "    }\n",
              "  </style>\n",
              "  "
            ]
          },
          "metadata": {}
        },
        {
          "output_type": "display_data",
          "data": {
            "text/plain": [
              "<Figure size 432x288 with 1 Axes>"
            ],
            "image/png": "[encoded data removed]"
          },
          "metadata": {
            "needs_background": "light"
          }
        }
      ]
    }
  ]
}