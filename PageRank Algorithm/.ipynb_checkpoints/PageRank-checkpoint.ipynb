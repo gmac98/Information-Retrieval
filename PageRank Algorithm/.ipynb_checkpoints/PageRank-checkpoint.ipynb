{
 "cells": [
  {
   "cell_type": "markdown",
   "metadata": {
    "colab_type": "text",
    "id": "view-in-github"
   },
   "source": [
    "<a href=\"https://colab.research.google.com/github/NULabTMN/cs6200-hw2/blob/main/PageRank.ipynb\" target=\"_parent\"><img src=\"https://colab.research.google.com/assets/colab-badge.svg\" alt=\"Open In Colab\"/></a>"
   ]
  },
  {
   "cell_type": "markdown",
   "metadata": {
    "id": "Q2QKFIlR6HCY"
   },
   "source": [
    "# PageRank\n",
    "\n",
    "In this assignment, you will compute PageRank on a collection of 469,235 web sites using the iterative version of the PageRank algorithm described in class for sparse graphs (NOT the power method with explicit matrix multiplication).\n",
    "\n",
    "Consider the following directed graph:\n",
    "\n",
    "![A directed link graph](https://ccs.neu.edu/home/dasmith/courses/cs6200/pagerank.jpg)\n",
    "\n",
    "We can represent this graph as a collection of nodes, here, ordered pairs of node index and node name:"
   ]
  },
  {
   "cell_type": "code",
   "execution_count": null,
   "metadata": {
    "id": "4D_Mxj5pXKPl"
   },
   "outputs": [],
   "source": [
    "small_nodes = [(0, 'A'),\n",
    "              (1, 'B'),\n",
    "              (2, 'C'),\n",
    "              (3, 'D'),\n",
    "              (4, 'E'),\n",
    "              (5, 'F')]"
   ]
  },
  {
   "cell_type": "markdown",
   "metadata": {
    "id": "RTF3JKtTYxiZ"
   },
   "source": [
    "and a collection of directed links, i.e., ordered pairs from source to target:"
   ]
  },
  {
   "cell_type": "code",
   "execution_count": null,
   "metadata": {
    "id": "-i0V5ueOYDDN"
   },
   "outputs": [],
   "source": [
    "small_edges = [\n",
    "  (0, 1),\n",
    "  (0, 2),\n",
    "  (0, 5),\n",
    "  (1, 2),\n",
    "  (1, 3),\n",
    "  (1, 4),\n",
    "  (1, 5),\n",
    "  (2, 3),\n",
    "  (2, 4),\n",
    "  (3, 0),\n",
    "  (3, 2),\n",
    "  (3, 4),\n",
    "  (3, 5),\n",
    "  (4, 0),\n",
    "  (5, 0),\n",
    "  (5, 1),\n",
    "  (5, 4)\n",
    "]"
   ]
  },
  {
   "cell_type": "code",
   "execution_count": 33,
   "metadata": {},
   "outputs": [
    {
     "name": "stdout",
     "output_type": "stream",
     "text": [
      "['0 1', '0 2', '0 5', '1 2', '1 3', '1 4', '1 5', '2 3', '2 4', '3 0', '3 2', '3 4', '3 5', '4 0', '5 0', '5 1', '5 4']\n",
      "['0 A', '1 B', '2 C', '3 D', '4 E', '5 F']\n"
     ]
    }
   ],
   "source": [
    "from collections import defaultdict\n",
    "\n",
    "edge_list = []\n",
    "with open('toy_edges.txt', 'r') as f:\n",
    "    edge_list = [l.strip() for l in f.readlines()]\n",
    "    print(edge_list)\n",
    "    \n",
    "vertice_list = []\n",
    "with open('toy_vertices.txt', 'r') as f:\n",
    "    vertice_list = [l.strip() for l in f.readlines()]\n",
    "    print(vertice_list)\n",
    "\n",
    "\n",
    "def create_edges(edge_list):\n",
    "    edges = defaultdict(list)\n",
    "\n",
    "    for edge in edge_list:\n",
    "#         print(edge)\n",
    "        from_, to_ = edge.split()\n",
    "#         print('from: ',from_)\n",
    "#         print('to:', to_)\n",
    "        from_, to_ = int(float(from_)), int(float(to_))\n",
    "        edges[from_].append(to_)\n",
    "#     print(edges)\n",
    "    return edges\n",
    "\n",
    "def create_vertices(verticefile):\n",
    "    verticelist = []\n",
    "    di = {}\n",
    "\n",
    "    for line in verticefile:\n",
    "        nodes = line.split()\n",
    "        verticelist.append(nodes)\n",
    "    di = dict(verticelist)\n",
    "#     print(di)\n",
    "    return di"
   ]
  },
  {
   "cell_type": "code",
   "execution_count": 19,
   "metadata": {},
   "outputs": [
    {
     "data": {
      "text/plain": [
       "1"
      ]
     },
     "execution_count": 19,
     "metadata": {},
     "output_type": "execute_result"
    }
   ],
   "source": [
    "int('1')"
   ]
  },
  {
   "cell_type": "markdown",
   "metadata": {
    "id": "kBVDeszXY4B_"
   },
   "source": [
    "We use integer identifiers for the nodes for efficiency. Note that, unlike this example, in a real web graph, not every page will have in-links, nor will every page have out-links."
   ]
  },
  {
   "cell_type": "markdown",
   "metadata": {
    "id": "QPNsTGSsEwMX"
   },
   "source": [
    "## First Implementation and Test\n",
    "\n",
    "\\[10 points\\] Implement the iterative PageRank algorithm. Test your code on the six-node example using the input representation given above.  Be sure that your code handles pages that have no in-links or out-links properly.  (You may wish to test on a few such examples.) In later parts of this assignment, depending on how you store the data, it may be convenient to use iterators rather than storing the data in memory."
   ]
  },
  {
   "cell_type": "code",
   "execution_count": 35,
   "metadata": {
    "id": "NMu_WaDA55sk"
   },
   "outputs": [
    {
     "name": "stdout",
     "output_type": "stream",
     "text": [
      "[0.26388889 0.11111111 0.13888889 0.125      0.22222222 0.13888889]\n",
      "[0.26410757 0.13824535 0.15009718 0.10997139 0.18748133 0.15009718]\n",
      "[0.26460083 0.13825982 0.15017879 0.1096543  0.18712748 0.15017879]\n"
     ]
    },
    {
     "data": {
      "text/plain": [
       "array([0.26460083, 0.13825982, 0.15017879, 0.1096543 , 0.18712748,\n",
       "       0.15017879])"
      ]
     },
     "execution_count": 35,
     "metadata": {},
     "output_type": "execute_result"
    }
   ],
   "source": [
    "# TODO: Implement PageRank, given nodes and edges, to start with a uniform\n",
    "# distribution over nodes, run a fixed number of iterations, and\n",
    "# return a distribution over nodes.\n",
    "import math\n",
    "import numpy as np\n",
    "\n",
    "def page_rank_fixed_iter(vertice_list, edge_list, max_iterations=10):\n",
    "    edges = create_edges(edge_list)\n",
    "    di = create_vertices(vertice_list)\n",
    "    \n",
    "    node_num = len(di)\n",
    "    epsilon = 1e-6\n",
    "    \n",
    "    final_rank_vector = np.zeros(node_num)\n",
    "    initial_rank_vector = np.fromiter([1 / node_num for _ in range(node_num)], dtype='float')\n",
    "\n",
    "    iterations = 0\n",
    "    diff = math.inf\n",
    "\n",
    "    while(iterations < max_iterations and diff > epsilon):\n",
    "        new_rank_vector = np.zeros(node_num)\n",
    "        for parent in edges:\n",
    "            for child in edges[parent]:\n",
    "                new_rank_vector[child] += (initial_rank_vector[parent] /len(edges[parent]))\n",
    "\n",
    "        leaked_rank = (1-sum(new_rank_vector))/node_num\n",
    "        final_rank_vector = new_rank_vector + leaked_rank\n",
    "        diff = sum(abs(final_rank_vector - initial_rank_vector))\n",
    "        initial_rank_vector = final_rank_vector\n",
    "        iterations += 1\n",
    "#         print(\"PageRank iteration: \" + str(iterations))\n",
    "\n",
    "        # print(final_rank_vector)\n",
    "        # print('\\n')\n",
    "\n",
    "    print(final_rank_vector)\n",
    "    return final_rank_vector\n",
    "    \n",
    "#   return []\n",
    "\n",
    "# Output PageRank on the toy graph at various points.\n",
    "# Make sure your output has node number, name, and PageRank value.\n",
    "page_rank_fixed_iter(vertice_list, edge_list, 1)\n",
    "page_rank_fixed_iter(vertice_list, edge_list, 10)\n",
    "page_rank_fixed_iter(vertice_list, edge_list, 100)"
   ]
  },
  {
   "cell_type": "markdown",
   "metadata": {
    "id": "y4duRjzABB9n"
   },
   "source": [
    "## PageRank on Web Crawl Data\n",
    "\n",
    "\\[20 points\\] Download and unpack a list of `.edu` websites and the links among them from the [Common Crawl](https://commoncrawl.org/2017/05/hostgraph-2017-feb-mar-apr-crawls/) open-source web crawl. For the sake of brevity, the data record links among websites, not web pages. The information for nodes and links is the same as the toy example above."
   ]
  },
  {
   "cell_type": "code",
   "execution_count": null,
   "metadata": {
    "id": "v6EDDdTQCd3y"
   },
   "outputs": [],
   "source": [
    "# If you're running on a machine (e.g., Windows) that doesn't have wget or gzip,\n",
    "# feel free to comment this out and use a different set of commands to load\n",
    "# the data.\n",
    "!wget https://ccs.neu.edu/home/dasmith/courses/cs6200/vertices-edu.txt.gz\n",
    "!gzip -df vertices-edu.txt.gz\n",
    "!wget https://ccs.neu.edu/home/dasmith/courses/cs6200/edges-edu.txt.gz\n",
    "!gzip -df edges-edu.txt.gz"
   ]
  },
  {
   "cell_type": "markdown",
   "metadata": {
    "id": "CW4yp1gPUwzb"
   },
   "source": [
    "There should now be files `vertices-edu.txt` and `edges-edu.txt`."
   ]
  },
  {
   "cell_type": "code",
   "execution_count": null,
   "metadata": {
    "id": "ly1t9fyjK7eC"
   },
   "outputs": [],
   "source": [
    "# TODO: Process the raw data into the same format as the simple graph.\n",
    "# You may create lists or iterators."
   ]
  },
  {
   "cell_type": "markdown",
   "metadata": {
    "id": "0WMf5L5VEqZb"
   },
   "source": [
    "Refine your implementation of PageRank to test for numerical convergence. Specificially, at each iteration, calculate the [perplexity](https://en.wikipedia.org/wiki/Perplexity) of the PageRank distribution, where perplexity is defined as 2 raised to the [Shannon entropy](https://en.wikipedia.org/wiki/Entropy_(information_theory)) of the PageRank distribution, i.e., $2^{H(PR)}$. (Recall that we defined entropy when talking about data compression.) The maximum perplexity of a PageRank distribution will therefore be the number of nodes in the graph.\n",
    "\n",
    "At each iteration, check the _change_ in perplexity. If the change is less than some threshold, you can stop.\n"
   ]
  },
  {
   "cell_type": "code",
   "execution_count": null,
   "metadata": {
    "id": "wsL0yQKvKqAC"
   },
   "outputs": [],
   "source": [
    "# TODO: Implement convergence testing in PageRank\n",
    "# If you choose, you can share some subroutines with your first version.\n",
    "# Print the change in perplexity at each iteration.\n",
    "\n",
    "def page_rank(nodes, edges, threshold=1):\n",
    "  return []\n",
    "\n",
    "# Run until perplexity changes by less than 1\n",
    "PR = page_rank(nodes, edges, 1)"
   ]
  },
  {
   "cell_type": "markdown",
   "metadata": {
    "id": "rcncY2QHNl0M"
   },
   "source": [
    "## Link Analysis\n",
    "\n",
    "\\[20 points\\] In this final section, you will compute some properties of the web-site graph you downloaded.\n",
    "\n",
    "First, consider the _in-link count_ of a website, simply the number of web-sites pointing to it (including self-links). "
   ]
  },
  {
   "cell_type": "code",
   "execution_count": null,
   "metadata": {
    "id": "a_FyPlLSO2bu"
   },
   "outputs": [],
   "source": [
    "# TODO: List the document ID, domain name, and in-link count of the 60 websites with the highest in-link count"
   ]
  },
  {
   "cell_type": "markdown",
   "metadata": {
    "id": "5uSlQEtmPTTA"
   },
   "source": [
    "Then, use the PageRank values compute by your second implementation. Note that some websites will have both a high in-link count and PageRank."
   ]
  },
  {
   "cell_type": "code",
   "execution_count": null,
   "metadata": {
    "id": "nwcci2kdPlMR"
   },
   "outputs": [],
   "source": [
    "# TODO: List the document ID, domain name, and PageRank of the 60 websites with the highest PageRank."
   ]
  },
  {
   "cell_type": "markdown",
   "metadata": {
    "id": "SxODBxL_Pyy2"
   },
   "source": [
    "Finally, compute some summary statistics on this dataset."
   ]
  },
  {
   "cell_type": "code",
   "execution_count": null,
   "metadata": {
    "id": "oD4bq6AyQIsU"
   },
   "outputs": [],
   "source": [
    "# TODO: Compute:\n",
    "# - the proportion of websites with no in-links (i.e., source nodes);\n",
    "\n",
    "# - the proportion of websites with no out-links (i.e., sink nodes);\n",
    "\n",
    "# - the proportion of websites whose PageRank is higher than the initial uniform distribution.\n"
   ]
  }
 ],
 "metadata": {
  "colab": {
   "authorship_tag": "ABX9TyNR6cYi2PEmcalhvjiHkIOT",
   "include_colab_link": true,
   "name": "PageRank.ipynb",
   "provenance": []
  },
  "kernelspec": {
   "display_name": "Python 3",
   "language": "python",
   "name": "python3"
  },
  "language_info": {
   "codemirror_mode": {
    "name": "ipython",
    "version": 3
   },
   "file_extension": ".py",
   "mimetype": "text/x-python",
   "name": "python",
   "nbconvert_exporter": "python",
   "pygments_lexer": "ipython3",
   "version": "3.7.6"
  }
 },
 "nbformat": 4,
 "nbformat_minor": 1
}
