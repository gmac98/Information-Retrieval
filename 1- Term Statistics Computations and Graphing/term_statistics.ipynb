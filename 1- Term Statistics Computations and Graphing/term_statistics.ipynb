{
  "nbformat": 4,
  "nbformat_minor": 0,
  "metadata": {
    "colab": {
      "name": "term-statistics.ipynb",
      "provenance": []
    },
    "kernelspec": {
      "name": "python3",
      "display_name": "Python 3"
    },
    "language_info": {
      "name": "python"
    }
  },
  "cells": [
    {
      "cell_type": "markdown",
      "metadata": {
        "id": "2yYCQrU0J5C5"
      },
      "source": [
        "# Working with Terms and Documents\n",
        "\n",
        "This first homework assignment starts off with term statistics computations and graphing. In the final section (for CS6200 students), you collect new documents to experiment with.\n",
        "\n",
        "Read through this Jupyter notebook and fill in the parts marked with `TODO`."
      ]
    },
    {
      "cell_type": "code",
      "source": [
        "# CS 6200\n",
        "# Grania Machado"
      ],
      "metadata": {
        "id": "MLbXLzSvmB6i"
      },
      "execution_count": 1,
      "outputs": []
    },
    {
      "cell_type": "markdown",
      "metadata": {
        "id": "tA4bCPS1MmAx"
      },
      "source": [
        "## Sample Data\n",
        "\n",
        "Start by looking at some sample data. We donwload the counts of terms in documents for the first one million tokens of a newswire collection."
      ]
    },
    {
      "cell_type": "code",
      "metadata": {
        "id": "W-IMINS4IFUg",
        "outputId": "8fe7f99b-61c4-449b-8751-d7c03bc2b7f8",
        "colab": {
          "base_uri": "https://localhost:8080/"
        }
      },
      "source": [
        "!wget -O ap201001.json.gz https://github.com/dasmiq/cs6200-hw1/blob/main/ap201001.json.gz?raw=true\n",
        "!gunzip ap201001.json.gz"
      ],
      "execution_count": 2,
      "outputs": [
        {
          "output_type": "stream",
          "name": "stdout",
          "text": [
            "--2022-02-09 03:56:28--  https://github.com/dasmiq/cs6200-hw1/blob/main/ap201001.json.gz?raw=true\n",
            "Resolving github.com (github.com)... 140.82.112.4\n",
            "Connecting to github.com (github.com)|140.82.112.4|:443... connected.\n",
            "HTTP request sent, awaiting response... 302 Found\n",
            "Location: https://github.com/dasmiq/cs6200-hw1/raw/main/ap201001.json.gz [following]\n",
            "--2022-02-09 03:56:28--  https://github.com/dasmiq/cs6200-hw1/raw/main/ap201001.json.gz\n",
            "Reusing existing connection to github.com:443.\n",
            "HTTP request sent, awaiting response... 302 Found\n",
            "Location: https://raw.githubusercontent.com/dasmiq/cs6200-hw1/main/ap201001.json.gz [following]\n",
            "--2022-02-09 03:56:29--  https://raw.githubusercontent.com/dasmiq/cs6200-hw1/main/ap201001.json.gz\n",
            "Resolving raw.githubusercontent.com (raw.githubusercontent.com)... 185.199.108.133, 185.199.109.133, 185.199.110.133, ...\n",
            "Connecting to raw.githubusercontent.com (raw.githubusercontent.com)|185.199.108.133|:443... connected.\n",
            "HTTP request sent, awaiting response... 200 OK\n",
            "Length: 2854711 (2.7M) [application/octet-stream]\n",
            "Saving to: ‘ap201001.json.gz’\n",
            "\n",
            "ap201001.json.gz    100%[===================>]   2.72M  --.-KB/s    in 0.06s   \n",
            "\n",
            "2022-02-09 03:56:29 (43.3 MB/s) - ‘ap201001.json.gz’ saved [2854711/2854711]\n",
            "\n"
          ]
        }
      ]
    },
    {
      "cell_type": "markdown",
      "metadata": {
        "id": "_SEFjGZvM4lY"
      },
      "source": [
        "We convert this file with one JSON record on each line to a list of dictionaries."
      ]
    },
    {
      "cell_type": "code",
      "metadata": {
        "id": "6CrLD5SOIMz1"
      },
      "source": [
        "import json\n",
        "rawfile = open('ap201001.json')\n",
        "terms = [json.loads(line) for line in rawfile]"
      ],
      "execution_count": 3,
      "outputs": []
    },
    {
      "cell_type": "markdown",
      "metadata": {
        "id": "Rg4P9XJJM_lZ"
      },
      "source": [
        "Here are the first ten records, showing the count of each term for each document and field. In this dataset, field only takes the values `body` or `title`."
      ]
    },
    {
      "cell_type": "code",
      "metadata": {
        "colab": {
          "base_uri": "https://localhost:8080/"
        },
        "id": "g8GdOuyzI0wm",
        "outputId": "62f176b8-1859-4f0c-d45f-d2d73114bbc4"
      },
      "source": [
        "terms[1:10]"
      ],
      "execution_count": 4,
      "outputs": [
        {
          "output_type": "execute_result",
          "data": {
            "text/plain": [
              "[{'count': 1, 'field': 'body', 'id': 'APW_ENG_20100101.0001', 'term': 'about'},\n",
              " {'count': 1, 'field': 'body', 'id': 'APW_ENG_20100101.0001', 'term': 'abuse'},\n",
              " {'count': 1,\n",
              "  'field': 'body',\n",
              "  'id': 'APW_ENG_20100101.0001',\n",
              "  'term': 'academy'},\n",
              " {'count': 2,\n",
              "  'field': 'body',\n",
              "  'id': 'APW_ENG_20100101.0001',\n",
              "  'term': 'accused'},\n",
              " {'count': 1,\n",
              "  'field': 'body',\n",
              "  'id': 'APW_ENG_20100101.0001',\n",
              "  'term': 'actress'},\n",
              " {'count': 1, 'field': 'body', 'id': 'APW_ENG_20100101.0001', 'term': 'ad'},\n",
              " {'count': 1, 'field': 'body', 'id': 'APW_ENG_20100101.0001', 'term': 'after'},\n",
              " {'count': 1,\n",
              "  'field': 'body',\n",
              "  'id': 'APW_ENG_20100101.0001',\n",
              "  'term': 'agenda'},\n",
              " {'count': 1,\n",
              "  'field': 'body',\n",
              "  'id': 'APW_ENG_20100101.0001',\n",
              "  'term': 'agreed'}]"
            ]
          },
          "metadata": {},
          "execution_count": 4
        }
      ]
    },
    {
      "cell_type": "markdown",
      "metadata": {
        "id": "q-CjFLXH3BJg"
      },
      "source": [
        "Each record has four fields:\n",
        "* `id`, with the identifier for the document;\n",
        "* `field`, with the region of the document containing a given term;\n",
        "* `term`, with the lower-cased term; and\n",
        "* `count`, with the number of times each term occurred in that field and document."
      ]
    },
    {
      "cell_type": "markdown",
      "metadata": {
        "id": "2H5yBvEVNUPr"
      },
      "source": [
        "## Computing Term Statistics\n"
      ]
    },
    {
      "cell_type": "markdown",
      "metadata": {
        "id": "qhDt23kKv0Uy"
      },
      "source": [
        "If we look at the most frequent terms for a given document, we mostly see common function words, such as `the`, `and`, and `of`. Start exploring the dataset by computing some of these basic term statistics. You can make your life easier using data frame libraries such as `pandas`, core python libraries such as `collections`, or just simple list comprehensions.\n",
        "\n",
        "Feel free to define helper functions in your code before computing the statistics we're looking for."
      ]
    },
    {
      "cell_type": "code",
      "metadata": {
        "id": "2Zy5qR562nZ5"
      },
      "source": [
        "# TODO: Print the 6 terms from document APW_ENG_20100101.0001 with the highest count.\n",
        "\n",
        "from itertools import groupby\n",
        "from operator import itemgetter\n",
        "\n",
        "found_value = []\n",
        "for t in terms:\n",
        "  if t[\"id\"] == \"APW_ENG_20100101.0001\":\n",
        "    found_value.append(t)\n",
        "# print(len(found_value))\n",
        "\n",
        "grouper = itemgetter(\"id\", \"term\")\n",
        "result = []\n",
        "for key, grp in groupby(sorted(found_value, key = grouper), grouper):\n",
        "    temp_dict = dict(zip([\"id\", \"term\"], key))\n",
        "    temp_dict[\"count\"] = sum(item[\"count\"] for item in grp)\n",
        "    result.append(temp_dict)\n",
        "\n",
        "sorted_list = sorted(result, key=itemgetter('count'),reverse = True)"
      ],
      "execution_count": 5,
      "outputs": []
    },
    {
      "cell_type": "code",
      "source": [
        "sorted_list[:6]"
      ],
      "metadata": {
        "id": "mtUdx74FmbPC",
        "outputId": "f9d5421c-eb59-45e6-e43f-43b5d95fe35a",
        "colab": {
          "base_uri": "https://localhost:8080/"
        }
      },
      "execution_count": 6,
      "outputs": [
        {
          "output_type": "execute_result",
          "data": {
            "text/plain": [
              "[{'count': 16, 'id': 'APW_ENG_20100101.0001', 'term': 'a'},\n",
              " {'count': 11, 'id': 'APW_ENG_20100101.0001', 'term': 'the'},\n",
              " {'count': 10, 'id': 'APW_ENG_20100101.0001', 'term': 'and'},\n",
              " {'count': 10, 'id': 'APW_ENG_20100101.0001', 'term': 'brooks'},\n",
              " {'count': 10, 'id': 'APW_ENG_20100101.0001', 'term': 'of'},\n",
              " {'count': 10, 'id': 'APW_ENG_20100101.0001', 'term': 'to'}]"
            ]
          },
          "metadata": {},
          "execution_count": 6
        }
      ]
    },
    {
      "cell_type": "code",
      "metadata": {
        "id": "z7BvW8NR2ynC"
      },
      "source": [
        "# TODO: Print the 10 terms from all fields of document APW_ENG_20100102.0077 with the highest count.\n",
        "\n",
        "from itertools import groupby\n",
        "from operator import itemgetter\n",
        "\n",
        "found_value = []\n",
        "for t in terms:\n",
        "  if t[\"id\"] == \"APW_ENG_20100102.0077\":\n",
        "    found_value.append(t)\n",
        "\n",
        "grouper = itemgetter(\"id\", \"term\")\n",
        "result = []\n",
        "for key, grp in groupby(sorted(found_value, key = grouper), grouper):\n",
        "    temp_dict = dict(zip([\"id\", \"term\"], key))\n",
        "    temp_dict[\"count\"] = sum(item[\"count\"] for item in grp)\n",
        "    result.append(temp_dict)\n",
        "\n",
        "sorted_list = sorted(result, key=itemgetter('count'),reverse = True)"
      ],
      "execution_count": 7,
      "outputs": []
    },
    {
      "cell_type": "code",
      "source": [
        "sorted_list[:10]"
      ],
      "metadata": {
        "id": "-kFw1EiFmj1X",
        "outputId": "1eb3eb86-8959-4830-9d22-3e5f292c2011",
        "colab": {
          "base_uri": "https://localhost:8080/"
        }
      },
      "execution_count": 8,
      "outputs": [
        {
          "output_type": "execute_result",
          "data": {
            "text/plain": [
              "[{'count': 50, 'id': 'APW_ENG_20100102.0077', 'term': 'the'},\n",
              " {'count': 22, 'id': 'APW_ENG_20100102.0077', 'term': 'to'},\n",
              " {'count': 21, 'id': 'APW_ENG_20100102.0077', 'term': 'in'},\n",
              " {'count': 19, 'id': 'APW_ENG_20100102.0077', 'term': 'and'},\n",
              " {'count': 14, 'id': 'APW_ENG_20100102.0077', 'term': 'a'},\n",
              " {'count': 14, 'id': 'APW_ENG_20100102.0077', 'term': 'of'},\n",
              " {'count': 8, 'id': 'APW_ENG_20100102.0077', 'term': 'militants'},\n",
              " {'count': 8, 'id': 'APW_ENG_20100102.0077', 'term': 'on'},\n",
              " {'count': 8, 'id': 'APW_ENG_20100102.0077', 'term': 'said'},\n",
              " {'count': 8, 'id': 'APW_ENG_20100102.0077', 'term': 'was'}]"
            ]
          },
          "metadata": {},
          "execution_count": 8
        }
      ]
    },
    {
      "cell_type": "code",
      "metadata": {
        "id": "U7OwCo0w5R1q"
      },
      "source": [
        "# TODO: Print the 10 terms with the highest total count in the corpus.\n",
        "\n",
        "# import pandas as pd\n",
        "# import duckdb\n",
        "# df = pd.DataFrame(terms)\n",
        "# result = duckdb.query(\"\"\"\n",
        "#     SELECT term, SUM(count)\n",
        "#     FROM df\n",
        "#     GROUP BY term\n",
        "#     ORDER BY SUM(count) DESC;;\n",
        "# \"\"\").to_df()\n",
        "\n",
        "from itertools import groupby\n",
        "from operator import itemgetter\n",
        "\n",
        "grouper = itemgetter(\"term\")\n",
        "result = []\n",
        "for key, grp in groupby(sorted(terms, key = grouper), grouper):\n",
        "  if not isinstance(key, tuple):\n",
        "    key = [key]\n",
        "    temp_dict = dict(zip([\"term\"], key))\n",
        "    temp_dict[\"count\"] = sum(item[\"count\"] for item in grp)\n",
        "    result.append(temp_dict)\n",
        "\n",
        "#print(result)\n",
        "sorted_list = sorted(result, key=itemgetter('count'),reverse = True)\n",
        "#len(sorted_list)"
      ],
      "execution_count": 9,
      "outputs": []
    },
    {
      "cell_type": "code",
      "source": [
        "sorted_list[:10]"
      ],
      "metadata": {
        "id": "RP8MIA5Jmurw",
        "outputId": "a5809cc6-af40-4426-89d1-998e2560b90d",
        "colab": {
          "base_uri": "https://localhost:8080/"
        }
      },
      "execution_count": 10,
      "outputs": [
        {
          "output_type": "execute_result",
          "data": {
            "text/plain": [
              "[{'count': 62216, 'term': 'the'},\n",
              " {'count': 26931, 'term': 'to'},\n",
              " {'count': 25659, 'term': 'in'},\n",
              " {'count': 23383, 'term': 'a'},\n",
              " {'count': 22326, 'term': 'of'},\n",
              " {'count': 22125, 'term': 'and'},\n",
              " {'count': 10888, 'term': 'said'},\n",
              " {'count': 9716, 'term': 'for'},\n",
              " {'count': 9382, 'term': 'on'},\n",
              " {'count': 8942, 'term': 'that'}]"
            ]
          },
          "metadata": {},
          "execution_count": 10
        }
      ]
    },
    {
      "cell_type": "markdown",
      "metadata": {
        "id": "dnNEUACW23Dd"
      },
      "source": [
        "Raw counts may not be the most informative statistic. One common improvement is to use *inverse document frequency*, the inverse of the proportion of documents that contain a given term."
      ]
    },
    {
      "cell_type": "code",
      "metadata": {
        "id": "uiUA502P2QkH",
        "outputId": "038a2227-ed92-4faf-fb00-c62f28df0e49",
        "colab": {
          "base_uri": "https://localhost:8080/"
        }
      },
      "source": [
        "# TODO: Compute the number of distinct documents in the collection.\n",
        "\n",
        "from itertools import groupby\n",
        "from operator import itemgetter\n",
        "\n",
        "grouper = itemgetter(\"id\")\n",
        "documents = []\n",
        "for key, grp in groupby(sorted(terms, key = grouper), grouper):\n",
        "  if not isinstance(key, tuple):\n",
        "    key = [key]\n",
        "    temp_dict = dict(zip([\"id\"], key))\n",
        "    for v in temp_dict.values():\n",
        "      k1 = v\n",
        "    documents.append(k1)\n",
        "\n",
        "N = len(documents)\n",
        "print(\"N = \",N)\n",
        "\n",
        "# TODO: Compute the number of distinct documents each term appears in\n",
        "# and store in a dictionary.\n",
        "\n",
        "# import pandas as pd\n",
        "# import duckdb\n",
        "# df = pd.DataFrame(terms)\n",
        "# result2 = duckdb.query(\"\"\"\n",
        "#     SELECT term, COUNT(id)\n",
        "#     FROM df\n",
        "#     GROUP BY term;\n",
        "# \"\"\").to_df()\n",
        "# print(result2)\n",
        "\n",
        "from itertools import groupby\n",
        "from operator import itemgetter\n",
        "df = dict()\n",
        "grouper = itemgetter(\"term\")\n",
        "result1 = []\n",
        "for key, grp in groupby(sorted(terms, key = grouper), grouper):\n",
        "  if not isinstance(key, tuple):\n",
        "    key = [key]\n",
        "    temp_dict = dict(zip([\"term\"], key))\n",
        "    temp_dict[\"id\"] = len(set(item[\"id\"] for item in grp))\n",
        "    val = []\n",
        "    for v in temp_dict.values():\n",
        "      val.append(v)\n",
        "    k1 = val[0]\n",
        "    k2 = val[1]\n",
        "    df[k1] = k2\n",
        "\n",
        "# print(len(df))"
      ],
      "execution_count": 11,
      "outputs": [
        {
          "output_type": "stream",
          "name": "stdout",
          "text": [
            "N =  2778\n"
          ]
        }
      ]
    },
    {
      "cell_type": "code",
      "source": [
        "list(df.items())[:5]"
      ],
      "metadata": {
        "id": "QcVOK4M1nBCj",
        "outputId": "195c8b05-a0f1-48ff-8471-6014a3976f5e",
        "colab": {
          "base_uri": "https://localhost:8080/"
        }
      },
      "execution_count": 12,
      "outputs": [
        {
          "output_type": "execute_result",
          "data": {
            "text/plain": [
              "[('a', 2571), ('aaaar', 1), ('aafter', 1), ('aamir', 2), ('aardvarks', 1)]"
            ]
          },
          "metadata": {},
          "execution_count": 12
        }
      ]
    },
    {
      "cell_type": "code",
      "metadata": {
        "id": "_XMPAKYNCq6Y",
        "outputId": "6139b369-d8f1-4045-9c4c-450fd179018c",
        "colab": {
          "base_uri": "https://localhost:8080/"
        }
      },
      "source": [
        "# TODO: Print the relative document frequency of 'the',\n",
        "# i.e., the number of documents that contain 'the' divided by N.\n",
        "print('Relative document frequency of the =',df['the']/N)"
      ],
      "execution_count": 13,
      "outputs": [
        {
          "output_type": "stream",
          "name": "stdout",
          "text": [
            "Relative document frequency of the = 0.9704823614110871\n"
          ]
        }
      ]
    },
    {
      "cell_type": "markdown",
      "metadata": {
        "id": "ohFmwtc7Chy3"
      },
      "source": [
        "Empricially, we usually see better retrieval results if we rescale term frequency (within documents) and inverse document frequency (across documents) with the log function. Let the `tfidf` of term _t_ in document _d_ be:\n",
        "```\n",
        "tfidf(t, d) = log(count(t, d) + 1) * log(N / df(t))\n",
        "```\n",
        "\n",
        "Later in the course, we will show a probabilistic derivation of this quantity based on smoothing language models."
      ]
    },
    {
      "cell_type": "code",
      "metadata": {
        "id": "Fmyj4v_uHdyo"
      },
      "source": [
        "# TODO: Compute the tf-idf value for each term in each document.\n",
        "# Take the raw term data and add a tfidf field to each record.\n",
        "from itertools import groupby\n",
        "from operator import itemgetter\n",
        "import numpy as np\n",
        "\n",
        "tfidf_terms = None\n",
        "\n",
        "# import pandas as pd\n",
        "# import duckdb\n",
        "# df = pd.DataFrame(terms)\n",
        "# result2 = duckdb.query(\"\"\"\n",
        "#     SELECT id, SUM(count)\n",
        "#     FROM df\n",
        "#     GROUP BY id;\n",
        "# \"\"\").to_df()\n",
        "# print(result2)\n",
        "\n",
        "grouper = itemgetter(\"id\", \"term\")\n",
        "term_doc = []\n",
        "\n",
        "for key, grp in groupby(sorted(terms, key = grouper), grouper):\n",
        "    temp_dict = dict(zip([\"id\", \"term\"], key))\n",
        "    temp_dict[\"count\"] = sum(item[\"count\"] for item in grp)\n",
        "    count_td = temp_dict[\"count\"]\n",
        "    term_val = temp_dict[\"term\"]\n",
        "    term_1 = np.log(count_td + 1)\n",
        "    term_2 = np.log(N / df[term_val])\n",
        "    tfidf = term_1 * term_2\n",
        "    temp_dict[\"tfidf\"] = tfidf\n",
        "    term_doc.append(temp_dict)\n",
        "\n",
        "sorted_td = sorted(term_doc, key=itemgetter('count'),reverse = True)"
      ],
      "execution_count": 14,
      "outputs": []
    },
    {
      "cell_type": "code",
      "metadata": {
        "id": "NlXQmMO9HxH0",
        "outputId": "95d82030-9956-4de4-a012-738c3f8b62b0",
        "colab": {
          "base_uri": "https://localhost:8080/"
        }
      },
      "source": [
        "# TODO: Print the 20 term-document pairs with the highest tf-idf values.\n",
        "sorted_td[:20]"
      ],
      "execution_count": 15,
      "outputs": [
        {
          "output_type": "execute_result",
          "data": {
            "text/plain": [
              "[{'count': 149,\n",
              "  'id': 'APW_ENG_20100107.0183',\n",
              "  'term': 'the',\n",
              "  'tfidf': 0.15012891163756908},\n",
              " {'count': 104,\n",
              "  'id': 'APW_ENG_20100107.0114',\n",
              "  'term': 'the',\n",
              "  'tfidf': 0.13944219867623972},\n",
              " {'count': 102,\n",
              "  'id': 'APW_ENG_20100106.0834',\n",
              "  'term': 'the',\n",
              "  'tfidf': 0.1388659876239319},\n",
              " {'count': 102,\n",
              "  'id': 'APW_ENG_20100106.0839',\n",
              "  'term': 'the',\n",
              "  'tfidf': 0.1388659876239319},\n",
              " {'count': 102,\n",
              "  'id': 'APW_ENG_20100106.0913',\n",
              "  'term': 'the',\n",
              "  'tfidf': 0.1388659876239319},\n",
              " {'count': 102,\n",
              "  'id': 'APW_ENG_20100106.0915',\n",
              "  'term': 'the',\n",
              "  'tfidf': 0.1388659876239319},\n",
              " {'count': 102,\n",
              "  'id': 'APW_ENG_20100106.1032',\n",
              "  'term': 'the',\n",
              "  'tfidf': 0.1388659876239319},\n",
              " {'count': 102,\n",
              "  'id': 'APW_ENG_20100106.1037',\n",
              "  'term': 'the',\n",
              "  'tfidf': 0.1388659876239319},\n",
              " {'count': 101,\n",
              "  'id': 'APW_ENG_20100104.0648',\n",
              "  'term': 'the',\n",
              "  'tfidf': 0.1385736726099018},\n",
              " {'count': 101,\n",
              "  'id': 'APW_ENG_20100104.0660',\n",
              "  'term': 'the',\n",
              "  'tfidf': 0.1385736726099018},\n",
              " {'count': 101,\n",
              "  'id': 'APW_ENG_20100106.0728',\n",
              "  'term': 'the',\n",
              "  'tfidf': 0.1385736726099018},\n",
              " {'count': 100,\n",
              "  'id': 'APW_ENG_20100106.0562',\n",
              "  'term': 'the',\n",
              "  'tfidf': 0.13827847759862996},\n",
              " {'count': 100,\n",
              "  'id': 'APW_ENG_20100106.0644',\n",
              "  'term': 'the',\n",
              "  'tfidf': 0.13827847759862996},\n",
              " {'count': 99,\n",
              "  'id': 'APW_ENG_20100103.0524',\n",
              "  'term': 'the',\n",
              "  'tfidf': 0.13798034527533357},\n",
              " {'count': 98,\n",
              "  'id': 'APW_ENG_20100105.0990',\n",
              "  'term': 'the',\n",
              "  'tfidf': 0.13767921659708868},\n",
              " {'count': 98,\n",
              "  'id': 'APW_ENG_20100107.0099',\n",
              "  'term': 'the',\n",
              "  'tfidf': 0.13767921659708868},\n",
              " {'count': 97,\n",
              "  'id': 'APW_ENG_20100106.1151',\n",
              "  'term': 'the',\n",
              "  'tfidf': 0.13737503072264895},\n",
              " {'count': 97,\n",
              "  'id': 'APW_ENG_20100107.0190',\n",
              "  'term': 'the',\n",
              "  'tfidf': 0.13737503072264895},\n",
              " {'count': 95,\n",
              "  'id': 'APW_ENG_20100105.0061',\n",
              "  'term': 'nomination',\n",
              "  'tfidf': 22.519372287040166},\n",
              " {'count': 95,\n",
              "  'id': 'APW_ENG_20100106.0776',\n",
              "  'term': 'the',\n",
              "  'tfidf': 0.13675723458208042}]"
            ]
          },
          "metadata": {},
          "execution_count": 15
        }
      ]
    },
    {
      "cell_type": "markdown",
      "metadata": {
        "id": "f61xitl1IApl"
      },
      "source": [
        "## Plotting Term Distributions\n",
        "\n",
        "Besides frequencies and tf-idf values within documents, it is often helpful to look at the distrubitions of word frequencies in the whole collection. In class, we talk about the Zipf distribution of word rank versus frequency and Heaps' Law relating the number of distinct words to the number of tokens.\n",
        "\n",
        "We might examine these distributions to see, for instance, if an unexpectedly large number of very rare terms occurs, which might indicate noise added to our data."
      ]
    },
    {
      "cell_type": "code",
      "metadata": {
        "id": "fsM5k1_5Jj7Y",
        "outputId": "df8cb339-3c68-4997-b301-e6db19df2e63",
        "colab": {
          "base_uri": "https://localhost:8080/"
        }
      },
      "source": [
        "# TODO: Compute a list of the distinct words in this collection and sort it in descending order of frequency.\n",
        "# Thus frequency[0] should contain the word \"the\" and the count 62216.\n",
        "from itertools import groupby\n",
        "from operator import itemgetter\n",
        "\n",
        "grouper = itemgetter(\"term\")\n",
        "frequency = []\n",
        "for key, grp in groupby(sorted(terms, key = grouper), grouper):\n",
        "  if not isinstance(key, tuple):\n",
        "    key = [key]\n",
        "    temp_dict = dict(zip([\"term\"], key))\n",
        "    temp_dict[\"count\"] = sum(item[\"count\"] for item in grp)\n",
        "    frequency.append(temp_dict)\n",
        "\n",
        "frequency = sorted(frequency, key=itemgetter('count'),reverse = True)\n",
        "#print(len(frequency))\n",
        "print(frequency[0])"
      ],
      "execution_count": 16,
      "outputs": [
        {
          "output_type": "stream",
          "name": "stdout",
          "text": [
            "{'term': 'the', 'count': 62216}\n"
          ]
        }
      ]
    },
    {
      "cell_type": "code",
      "metadata": {
        "id": "hdtc14EULkxS",
        "outputId": "7ba3048d-cc7e-4f4b-f3e0-ebf653a6aef5",
        "colab": {
          "base_uri": "https://localhost:8080/",
          "height": 288
        }
      },
      "source": [
        "# TODO: Plot a graph of the log of the rank (starting at 1) on the x-axis,\n",
        "# against the log of the frequency on the y-axis. You may use the matplotlib\n",
        "# or other library.\n",
        "\n",
        "from matplotlib import pylab\n",
        "\n",
        "n = len(frequency)\n",
        "ranks = range(1, n+1)                         # x-axis : ranks\n",
        "key_val = \"count\"\n",
        "freqs = [freq[key_val] for freq in frequency] # y-axis: frequency\n",
        "pylab.loglog(ranks, freqs, label='terms')\n",
        "pylab.xlabel('log(rank)')\n",
        "pylab.ylabel('log(freq)')\n",
        "pylab.legend(loc='lower left')\n",
        "pylab.show()"
      ],
      "execution_count": 17,
      "outputs": [
        {
          "output_type": "display_data",
          "data": {
            "image/png": "[encoded data removed]",
            "text/plain": [
              "<Figure size 432x288 with 1 Axes>"
            ]
          },
          "metadata": {
            "needs_background": "light"
          }
        }
      ]
    },
    {
      "cell_type": "code",
      "source": [
        "# TODO: Compute the number of tokens in the corpus.\n",
        "# Remember to count each occurrence of each word. For instance, the 62,216\n",
        "# instances of \"the\" will all count here.\n",
        "\n",
        "ntokens = sum(freqs)\n",
        "print('Number of tokens in the corpus =',ntokens)"
      ],
      "metadata": {
        "id": "-WdHjFCSC7WC",
        "outputId": "34e5c398-a1ac-4b65-d32c-24846d203be2",
        "colab": {
          "base_uri": "https://localhost:8080/"
        }
      },
      "execution_count": 18,
      "outputs": [
        {
          "output_type": "stream",
          "name": "stdout",
          "text": [
            "Number of tokens in the corpus = 1000000\n"
          ]
        }
      ]
    },
    {
      "cell_type": "code",
      "source": [
        "# TODO: Compute the proportion of tokens made up by the top 10 most\n",
        "# frequent words.\n",
        "\n",
        "top_10_freqs = [freq[key_val] for freq in frequency[:10]]\n",
        "#print(top_10_freqs)\n",
        "top_10_proportion = 100 * float(sum(top_10_freqs))/float(ntokens)\n",
        "print('Proportion of tokens made up by the top 10 most frequent words =',str(top_10_proportion) + \"%\")"
      ],
      "metadata": {
        "id": "V_7wOcqKAz9m",
        "outputId": "6e8961e6-184a-4c79-98c5-83dab56d8e81",
        "colab": {
          "base_uri": "https://localhost:8080/"
        }
      },
      "execution_count": 19,
      "outputs": [
        {
          "output_type": "stream",
          "name": "stdout",
          "text": [
            "Proportion of tokens made up by the top 10 most frequent words = 22.1568%\n"
          ]
        }
      ]
    },
    {
      "cell_type": "code",
      "source": [
        "# TODO: Compute the proportion of tokens made up by the words that occur\n",
        "# exactly once in this collection.\n",
        "\n",
        "freqs_1 = []\n",
        "for freq in frequency:\n",
        "  if freq[key_val] == 1:\n",
        "    freqs_1.append(freq[key_val])\n",
        "#print(freqs_1)\n",
        "proportion_1 = 100 * float(sum(freqs_1))/float(ntokens)\n",
        "print('Proportion of tokens made up by the words that occur exactly once =',str(proportion_1) + \"%\")"
      ],
      "metadata": {
        "id": "uF-1VxcZBXMM",
        "outputId": "b6094d54-7d84-4b16-db6c-3a149aeb9547",
        "colab": {
          "base_uri": "https://localhost:8080/"
        }
      },
      "execution_count": 20,
      "outputs": [
        {
          "output_type": "stream",
          "name": "stdout",
          "text": [
            "Proportion of tokens made up by the words that occur exactly once = 0.6641%\n"
          ]
        }
      ]
    },
    {
      "cell_type": "markdown",
      "metadata": {
        "id": "GdiUXaXZMFqT"
      },
      "source": [
        "## Acquiring New Documents (for CS6200)\n",
        "\n",
        "For this assignment so far, you've worked with data that's already been extracted, tokenized, and counted. In this final section, you'll briefly explore acquiring new data.\n",
        "\n",
        "Find a collection of documents that you're interested in. For the statistics to be meaningful, this collection should have at least 1,000 words.\n",
        "\n",
        "The format could be anything you can extract text from: HTML, PDF, MS PowerPoint, chat logs, etc.\n",
        "\n",
        "The collection should be in a natural language, not mostly code or numerical data. It could be in English or in any other language.\n",
        "\n",
        "The final project for this course will involve designing an information retrieval task on some dataset. You could use this exercise to think about what kind of data you might be interested in, although that is not required."
      ]
    },
    {
      "cell_type": "markdown",
      "metadata": {
        "id": "EGPVnXv2O6AN"
      },
      "source": [
        "**TODO**: Write code to download and extract the text from the collection. Describe choices you make about what contents to keep."
      ]
    },
    {
      "cell_type": "code",
      "metadata": {
        "id": "VeDDz1SaPLik"
      },
      "source": [
        "# TODO: Data acquisition code here.\n",
        "\n",
        "## I downloaded an ebook from html page and extracted text from it. \n",
        "## To clean raw data, I remove all special characters. \n",
        "## Now, I have a corpus of words from which I will obtain meaningful statistics.\n",
        "\n",
        "url = 'https://www.gutenberg.org/files/31516/31516-h/31516-h.htm'\n",
        "\n",
        "import requests\n",
        "from bs4 import BeautifulSoup\n",
        "\n",
        "r = requests.get(url)\n",
        "html = r.text\n",
        "soup = BeautifulSoup(html, \"html5lib\")\n",
        "text = soup.get_text()\n",
        "# print(text)\n",
        "\n",
        "special_characters = ['!','\"','#','$','%','&','(',')','*','+','/',':',';','<','=','>','@','[','\\\\',']','^','`','{','|','}','~','\\t']\n",
        "for i in special_characters:\n",
        "  text = text.replace(i, \"\")"
      ],
      "execution_count": 21,
      "outputs": []
    },
    {
      "cell_type": "markdown",
      "metadata": {
        "id": "L1-oRTixPKbw"
      },
      "source": [
        "**TODO**: Write code to tokenize the text and count the resulting terms in each document. Describe your tokenization approach here.\n",
        "\n",
        "Each term may also be associated with a field, such as `body` and `title` in the newswire collection above. Describe the different fields in your data."
      ]
    },
    {
      "cell_type": "code",
      "metadata": {
        "id": "Ydsh0h74Pnlh",
        "outputId": "ee13c95a-ad56-492b-f5e2-2903ade82371",
        "colab": {
          "base_uri": "https://localhost:8080/"
        }
      },
      "source": [
        "# TODO: Tokenization code here.\n",
        "\n",
        "## For tokenization, I use '\\w+' to find tokens in corpus which will match \n",
        "## arbitrary sequences of alphanumeric characters and underscores.\n",
        "## For tokens, I convert them all to lowercase to analyze them better.\n",
        "## Next, I categorize words into fields like important, general and stopword.\n",
        "## This can be used to find important words in document, and then k-means\n",
        "## can be used to categorize words in document.\n",
        "\n",
        "import re\n",
        "\n",
        "tokens = re.findall(\"[\\w']+\", text)\n",
        "words = []\n",
        "for word in tokens:\n",
        "    words.append(word.lower())\n",
        "\n",
        "listdict = []\n",
        "for val in tokens:\n",
        "  mydict = {}\n",
        "  mydict['term'] = val\n",
        "  mydict['count'] = 1\n",
        "  if len(val) > 7:\n",
        "    mydict['field'] = 'important'\n",
        "  elif len(val) <= 2:\n",
        "    mydict['field'] = 'stopword'\n",
        "  else:\n",
        "    mydict['field'] = 'general'\n",
        "  listdict.append(mydict)\n",
        "\n",
        "from itertools import groupby\n",
        "from operator import itemgetter\n",
        "\n",
        "grouper = itemgetter(\"term\")\n",
        "frequency = []\n",
        "for key, grp in groupby(sorted(listdict, key = grouper), grouper):\n",
        "  if not isinstance(key, tuple):\n",
        "    key = [key]\n",
        "    temp_dict = dict(zip([\"term\"], key))\n",
        "    temp_dict[\"count\"] = sum(item[\"count\"] for item in grp)\n",
        "    frequency.append(temp_dict)\n",
        "\n",
        "frequency = sorted(frequency, key=itemgetter('count'),reverse = True)\n",
        "#print(len(frequency))\n",
        "print(frequency[0])"
      ],
      "execution_count": 22,
      "outputs": [
        {
          "output_type": "stream",
          "name": "stdout",
          "text": [
            "{'term': 'the', 'count': 230}\n"
          ]
        }
      ]
    },
    {
      "cell_type": "markdown",
      "metadata": {
        "id": "D-boFCotQ4Ur"
      },
      "source": [
        "**TODO**: Plot a graph of the log rank against log frequency for your collection, as you did for the sample collection above. What do you observe about the differences between the distributions in these two collections?"
      ]
    },
    {
      "cell_type": "code",
      "source": [
        "## Above distribution contains a bigger corpus of words and shows a smooth decreasing \n",
        "## curve between log of rank vs frequency. This distribution contains a smaller\n",
        "## corpus of words and shows a non-smooth decreasing line curve \n",
        "## between log of rank vs frequency. Also, the frequency count in above \n",
        "## distribution is much higher than this distribution.\n",
        "\n",
        "from matplotlib import pylab\n",
        "\n",
        "n = len(frequency)\n",
        "ranks = range(1, n+1)                         # x-axis : ranks\n",
        "key_val = \"count\"\n",
        "freqs = [freq[key_val] for freq in frequency] # y-axis: frequency\n",
        "pylab.loglog(ranks, freqs, label='terms')\n",
        "pylab.xlabel('log(rank)')\n",
        "pylab.ylabel('log(freq)')\n",
        "pylab.legend(loc='lower left')\n",
        "pylab.show()"
      ],
      "metadata": {
        "id": "xD4kx-jRn5Zt",
        "outputId": "023a83ba-eac0-4140-deb4-9e9d2fa44478",
        "colab": {
          "base_uri": "https://localhost:8080/",
          "height": 283
        }
      },
      "execution_count": 23,
      "outputs": [
        {
          "output_type": "display_data",
          "data": {
            "image/png": "[encoded data removed]",
            "text/plain": [
              "<Figure size 432x288 with 1 Axes>"
            ]
          },
          "metadata": {
            "needs_background": "light"
          }
        }
      ]
    }
  ]
}