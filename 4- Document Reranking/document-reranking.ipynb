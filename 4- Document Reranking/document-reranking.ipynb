{
  "nbformat": 4,
  "nbformat_minor": 0,
  "metadata": {
    "colab": {
      "name": "document-reranking.ipynb",
      "provenance": [],
      "collapsed_sections": [],
      "include_colab_link": true
    },
    "kernelspec": {
      "name": "python3",
      "display_name": "Python 3"
    }
  },
  "cells": [
    {
      "cell_type": "markdown",
      "metadata": {
        "id": "view-in-github",
        "colab_type": "text"
      },
      "source": [
        "<a href=\"https://colab.research.google.com/github/NULabTMN/homework-4-gmac98/blob/main/document-reranking.ipynb\" target=\"_parent\"><img src=\"https://colab.research.google.com/assets/colab-badge.svg\" alt=\"Open In Colab\"/></a>"
      ]
    },
    {
      "cell_type": "markdown",
      "metadata": {
        "id": "vUpmSFflwzR1"
      },
      "source": [
        "# Document Reranking\n",
        "\n"
      ]
    },
    {
      "cell_type": "markdown",
      "metadata": {
        "id": "-2PzgU4YxIl3"
      },
      "source": [
        "In this notebook, you will evaluate results ranking on a test collection. First, you'll compute the mean average precision of a baseline BM25 model. Then you'll implement a reranking function that takes the top 1000 results of the baseline model and tries to make more relevant documents rank higher.\n",
        "\n",
        "This notebook uses the [Pyserini](http://pyserini.io/) library, a Python interface to [Anserini](http://anserini.io) and thus to [Lucene](https://lucene.apache.org/), a widely-used open-source search engine. This library was written and maintained by Jimmy Lin and his colleagues at the University of Waterloo.\n"
      ]
    },
    {
      "cell_type": "markdown",
      "metadata": {
        "id": "f2vNd7bpJlDZ"
      },
      "source": [
        "We start by installing the python interface. Since it calls the underlying Lucene search engine, we make sure we point to an appropriate Java installation. If you don't have Java 11, this would need to be changed."
      ]
    },
    {
      "cell_type": "code",
      "metadata": {
        "id": "E_lt0-pXJia0"
      },
      "source": [
        "%%capture\n",
        "!pip install pyserini==0.12.0\n",
        "\n",
        "import os\n",
        "os.environ[\"JAVA_HOME\"] = \"/usr/lib/jvm/java-11-openjdk-amd64\""
      ],
      "execution_count": 1,
      "outputs": []
    },
    {
      "cell_type": "markdown",
      "metadata": {
        "id": "NkD0kKxW9mHP"
      },
      "source": [
        "You can use the `SimpleSearcher` to search over an index. We can initialize the searcher with a pre-built index, which Pyserini will automatically download if it hasn't already:"
      ]
    },
    {
      "cell_type": "code",
      "metadata": {
        "colab": {
          "base_uri": "https://localhost:8080/"
        },
        "id": "zVoAZvuAI_la",
        "outputId": "127b225e-2131-4092-e245-c543fc8003ce"
      },
      "source": [
        "from pyserini.search import SimpleSearcher\n",
        "\n",
        "searcher = SimpleSearcher.from_prebuilt_index('robust04')"
      ],
      "execution_count": 2,
      "outputs": [
        {
          "output_type": "stream",
          "name": "stdout",
          "text": [
            "Attempting to initialize pre-built index robust04.\n",
            "Downloading index at https://git.uwaterloo.ca/jimmylin/anserini-indexes/raw/master/index-robust04-20191213.tar.gz...\n"
          ]
        },
        {
          "output_type": "stream",
          "name": "stderr",
          "text": [
            "index-robust04-20191213.tar.gz: 1.70GB [03:07, 9.70MB/s]                            \n"
          ]
        },
        {
          "output_type": "stream",
          "name": "stdout",
          "text": [
            "Extracting /root/.cache/pyserini/indexes/index-robust04-20191213.tar.gz into /root/.cache/pyserini/indexes/index-robust04-20191213.15f3d001489c97849a010b0a4734d018...\n",
            "Initializing robust04...\n"
          ]
        }
      ]
    },
    {
      "cell_type": "markdown",
      "metadata": {
        "id": "N6xHyonHJDKy"
      },
      "source": [
        "Now we can search for a query and inspect the results:"
      ]
    },
    {
      "cell_type": "code",
      "metadata": {
        "id": "yFZlcqEX0t1f",
        "colab": {
          "base_uri": "https://localhost:8080/"
        },
        "outputId": "8185badb-2dd5-48ab-d6d0-bc661c0cd8d8"
      },
      "source": [
        "hits = searcher.search('black bear attacks', 1000)\n",
        "\n",
        "# Prints the first 10 hits\n",
        "for i in range(0, 10):\n",
        "    print(f'{i+1:2} {hits[i].docid:15} {hits[i].score:.5f}')"
      ],
      "execution_count": 3,
      "outputs": [
        {
          "output_type": "stream",
          "name": "stdout",
          "text": [
            " 1 LA092790-0015   7.06680\n",
            " 2 LA081689-0039   6.89020\n",
            " 3 FBIS4-16530     6.61630\n",
            " 4 LA102589-0076   6.46450\n",
            " 5 FT932-15491     6.25090\n",
            " 6 FBIS3-12276     6.24630\n",
            " 7 LA091090-0085   6.17030\n",
            " 8 FT922-13519     6.04270\n",
            " 9 LA052790-0205   5.94060\n",
            "10 LA103089-0041   5.90650\n"
          ]
        }
      ]
    },
    {
      "cell_type": "markdown",
      "source": [
        "The `hits` object also contains the raw text of the documents in the index before processing. In other words, this version of the text has not been divided into fields, tokens, etc."
      ],
      "metadata": {
        "id": "WYAH5KiVwpi5"
      }
    },
    {
      "cell_type": "code",
      "source": [
        "hits[0].raw"
      ],
      "metadata": {
        "colab": {
          "base_uri": "https://localhost:8080/",
          "height": 109
        },
        "id": "z2rhBwG_XZeP",
        "outputId": "e89679cf-f03a-4882-9220-1fb3214d32c0"
      },
      "execution_count": 4,
      "outputs": [
        {
          "output_type": "execute_result",
          "data": {
            "text/plain": [
              "'<DATE>\\n<P>\\nSeptember 27, 1990, Thursday, Ventura County Edition\\n</P>\\n</DATE>\\n<HEADLINE>\\n<P>\\nHUNGRY WILDLIFE STRAYING INTO SUBURBS;\\n</P>\\n<P>\\nDROUGHT: FOUR DRY YEARS HAVE PARCHED NATIVE VEGETATION, FORCING BOBCATS, BEARS,\\nMOUNTAIN LIONS, DEER AND COYOTES TO FORAGE CLOSER TO INHABITED AREAS.\\n</P>\\n</HEADLINE>\\n<TEXT>\\n<P>\\nHungry bobcats, bears and mountain lions -- unable to find food in Ventura\\nCounty\\'s drought-parched forests -- are being pushed out of their natural\\nhabitats to scavenge in rural communities, game officials said Wednesday.\\n</P>\\n<P>\\nTwo weeks ago, a black bear ripped the door off a trailer home in Rose Valley\\njust north of Ojai. And within the past month, there have been several reports\\nof mountain lions eating livestock near Los Padres National Forest. Several\\nbobcats have been reported near houses in the Ojai Valley.\\n</P>\\n<P>\\nAuthorities say that over the past two years they have received twice the\\ncomplaints -- about 20 a month -- of wild animals in populated areas. The\\ndrought is now in its fourth year in California.\\n</P>\\n<P>\\n\"We\\'ve been having more and more conflicts with animals,\" said Capt. Roger\\nReese, with the state Department of Fish and Game. \"The fact is, it\\'s very dry\\nout there, and there just isn\\'t a lot of food and water for them.\"\\n</P>\\n<P>\\nAnimal control officials say they are advising residents in rural areas to be\\naware of the problem. But so far, no one has been attacked by the wild animals,\\nalthough there have been such attacks reported elsewhere in Southern\\nCalifornia, authorities said.\\n</P>\\n<P>\\nCoyotes have been running amok, officials said. Virtually all parts of the\\ncounty except beach areas probably have been visited at one time or another by\\ncoyotes, said Kathy Jenks, director of the Ventura County Department of Animal\\nRegulation.\\n</P>\\n<P>\\nIn Ventura, coyotes are often seen in Grant Park above City Hall, and in Arroyo\\nVerde Park in the Ondulando district on the east side, Jenks said.\\n</P>\\n<P>\\nElsewhere, coyotes have been seen on streets in Thousand Oaks, Moorpark and\\nSimi Valley. The rural, foothill developments are especially vulnerable, she\\nsaid.\\n</P>\\n<P>\\nJenks said she advises residents to keep small pets inside, especially at\\nnight.\\n</P>\\n<P>\\nThere have even been a few cases in which brazen coyotes have attacked family\\nanimals in back yards, and a large number of house cats are disappearing,\\nofficials said.\\n</P>\\n<P>\\n\"The common house cat is like a fancy feast for a coyote,\" she said. \"They\\'re\\nhungry, they\\'re thirsty and they\\'re coming down out of the hills.\"\\n</P>\\n<P>\\nThere have been a few reports of deer grazing in people\\'s yards, Reese said.\\n</P>\\n<P>\\nTraditionally, September is the worst month for wildlife, authorities said.\\n</P>\\n<P>\\n\"It is usually the driest month,\" Reese said. \"And a lot of animals that have\\nbeen raised in the spring leave their parents and go in search of food.\"\\n</P>\\n<P>\\nMore animals are expected to leave their natural habitats if the drought\\ncontinues, officials said.\\n</P>\\n<P>\\n\"I tell people who call that if we didn\\'t have the big cats and the coyotes, we\\nwould be overrun by rodents,\" Jenks said. \"I would much rather hear a coyote in\\nthe distance than have roof rats.\"\\n</P>\\n<P>\\nDon DeBusschere, who lives on a 45-acre walnut orchard in Happy Valley near\\nOjai, said his family has grown accustomed to wild animals. DeBusschere said he\\nhas seen scores of coyotes, several deer and a black bear.\\n</P>\\n<P>\\nRecently, he said, two bobcats have moved into the trees on the edge of his\\nproperty.\\n</P>\\n<P>\\n\"They\\'re not out to get humans,\" DeBusschere said. \"They\\'re just trying to make\\na living off the land.\"\\n</P>\\n</TEXT>'"
            ],
            "application/vnd.google.colaboratory.intrinsic+json": {
              "type": "string"
            }
          },
          "metadata": {},
          "execution_count": 4
        }
      ]
    },
    {
      "cell_type": "markdown",
      "metadata": {
        "id": "emoSTga_7fOB"
      },
      "source": [
        "The `IndexReaderUtils` class provides various methods to read the index directly. For example, we can fetch a raw document from the index given its `docid`:"
      ]
    },
    {
      "cell_type": "code",
      "metadata": {
        "id": "N5ApT1YG71mz",
        "colab": {
          "base_uri": "https://localhost:8080/",
          "height": 619
        },
        "outputId": "0a331c6c-2e36-41fe-8d15-ac0bdf060328"
      },
      "source": [
        "from pyserini.index import IndexReader\n",
        "from IPython.core.display import display, HTML\n",
        "\n",
        "reader = IndexReader.from_prebuilt_index('robust04')\n",
        "\n",
        "doc = reader.doc('LA092790-0015').raw()\n",
        "display(HTML('<div style=\"font-family: Times New Roman; padding-bottom:10px\">' + doc + '</div>'))"
      ],
      "execution_count": 5,
      "outputs": [
        {
          "output_type": "stream",
          "name": "stdout",
          "text": [
            "Attempting to initialize pre-built index robust04.\n",
            "/root/.cache/pyserini/indexes/index-robust04-20191213.15f3d001489c97849a010b0a4734d018 already exists, skipping download.\n",
            "Initializing robust04...\n"
          ]
        },
        {
          "output_type": "display_data",
          "data": {
            "text/plain": [
              "<IPython.core.display.HTML object>"
            ],
            "text/html": [
              "<div style=\"font-family: Times New Roman; padding-bottom:10px\"><DATE>\n",
              "<P>\n",
              "September 27, 1990, Thursday, Ventura County Edition\n",
              "</P>\n",
              "</DATE>\n",
              "<HEADLINE>\n",
              "<P>\n",
              "HUNGRY WILDLIFE STRAYING INTO SUBURBS;\n",
              "</P>\n",
              "<P>\n",
              "DROUGHT: FOUR DRY YEARS HAVE PARCHED NATIVE VEGETATION, FORCING BOBCATS, BEARS,\n",
              "MOUNTAIN LIONS, DEER AND COYOTES TO FORAGE CLOSER TO INHABITED AREAS.\n",
              "</P>\n",
              "</HEADLINE>\n",
              "<TEXT>\n",
              "<P>\n",
              "Hungry bobcats, bears and mountain lions -- unable to find food in Ventura\n",
              "County's drought-parched forests -- are being pushed out of their natural\n",
              "habitats to scavenge in rural communities, game officials said Wednesday.\n",
              "</P>\n",
              "<P>\n",
              "Two weeks ago, a black bear ripped the door off a trailer home in Rose Valley\n",
              "just north of Ojai. And within the past month, there have been several reports\n",
              "of mountain lions eating livestock near Los Padres National Forest. Several\n",
              "bobcats have been reported near houses in the Ojai Valley.\n",
              "</P>\n",
              "<P>\n",
              "Authorities say that over the past two years they have received twice the\n",
              "complaints -- about 20 a month -- of wild animals in populated areas. The\n",
              "drought is now in its fourth year in California.\n",
              "</P>\n",
              "<P>\n",
              "\"We've been having more and more conflicts with animals,\" said Capt. Roger\n",
              "Reese, with the state Department of Fish and Game. \"The fact is, it's very dry\n",
              "out there, and there just isn't a lot of food and water for them.\"\n",
              "</P>\n",
              "<P>\n",
              "Animal control officials say they are advising residents in rural areas to be\n",
              "aware of the problem. But so far, no one has been attacked by the wild animals,\n",
              "although there have been such attacks reported elsewhere in Southern\n",
              "California, authorities said.\n",
              "</P>\n",
              "<P>\n",
              "Coyotes have been running amok, officials said. Virtually all parts of the\n",
              "county except beach areas probably have been visited at one time or another by\n",
              "coyotes, said Kathy Jenks, director of the Ventura County Department of Animal\n",
              "Regulation.\n",
              "</P>\n",
              "<P>\n",
              "In Ventura, coyotes are often seen in Grant Park above City Hall, and in Arroyo\n",
              "Verde Park in the Ondulando district on the east side, Jenks said.\n",
              "</P>\n",
              "<P>\n",
              "Elsewhere, coyotes have been seen on streets in Thousand Oaks, Moorpark and\n",
              "Simi Valley. The rural, foothill developments are especially vulnerable, she\n",
              "said.\n",
              "</P>\n",
              "<P>\n",
              "Jenks said she advises residents to keep small pets inside, especially at\n",
              "night.\n",
              "</P>\n",
              "<P>\n",
              "There have even been a few cases in which brazen coyotes have attacked family\n",
              "animals in back yards, and a large number of house cats are disappearing,\n",
              "officials said.\n",
              "</P>\n",
              "<P>\n",
              "\"The common house cat is like a fancy feast for a coyote,\" she said. \"They're\n",
              "hungry, they're thirsty and they're coming down out of the hills.\"\n",
              "</P>\n",
              "<P>\n",
              "There have been a few reports of deer grazing in people's yards, Reese said.\n",
              "</P>\n",
              "<P>\n",
              "Traditionally, September is the worst month for wildlife, authorities said.\n",
              "</P>\n",
              "<P>\n",
              "\"It is usually the driest month,\" Reese said. \"And a lot of animals that have\n",
              "been raised in the spring leave their parents and go in search of food.\"\n",
              "</P>\n",
              "<P>\n",
              "More animals are expected to leave their natural habitats if the drought\n",
              "continues, officials said.\n",
              "</P>\n",
              "<P>\n",
              "\"I tell people who call that if we didn't have the big cats and the coyotes, we\n",
              "would be overrun by rodents,\" Jenks said. \"I would much rather hear a coyote in\n",
              "the distance than have roof rats.\"\n",
              "</P>\n",
              "<P>\n",
              "Don DeBusschere, who lives on a 45-acre walnut orchard in Happy Valley near\n",
              "Ojai, said his family has grown accustomed to wild animals. DeBusschere said he\n",
              "has seen scores of coyotes, several deer and a black bear.\n",
              "</P>\n",
              "<P>\n",
              "Recently, he said, two bobcats have moved into the trees on the edge of his\n",
              "property.\n",
              "</P>\n",
              "<P>\n",
              "\"They're not out to get humans,\" DeBusschere said. \"They're just trying to make\n",
              "a living off the land.\"\n",
              "</P>\n",
              "</TEXT></div>"
            ]
          },
          "metadata": {}
        }
      ]
    },
    {
      "cell_type": "markdown",
      "metadata": {
        "id": "1RMfMgWt8bgm"
      },
      "source": [
        "Note that the result is exactly the same as displaying the hit contents above. Given the raw text, we can obtain its analyzed form (i.e., tokenized, stemmed, stopwords removed, etc.). Here we show the first ten tokens:"
      ]
    },
    {
      "cell_type": "code",
      "metadata": {
        "id": "ZgNGM65F6m5h",
        "colab": {
          "base_uri": "https://localhost:8080/"
        },
        "outputId": "1d786a7c-c060-4a7b-b02d-53d89f8c8e74"
      },
      "source": [
        "analyzed = reader.analyze(doc)\n",
        "analyzed[0:10]"
      ],
      "execution_count": 6,
      "outputs": [
        {
          "output_type": "execute_result",
          "data": {
            "text/plain": [
              "['date',\n",
              " 'p',\n",
              " 'septemb',\n",
              " '27',\n",
              " '1990',\n",
              " 'thursdai',\n",
              " 'ventura',\n",
              " 'counti',\n",
              " 'edit',\n",
              " 'p']"
            ]
          },
          "metadata": {},
          "execution_count": 6
        }
      ]
    },
    {
      "cell_type": "markdown",
      "metadata": {
        "id": "Z5OUXedN89Yf"
      },
      "source": [
        "The index also stores the raw document vector, which we can obtain as a Python dictionary of analyzed terms to counts (i.e., term frequency).\n",
        "For brevity, we only look at terms that appear more than once:"
      ]
    },
    {
      "cell_type": "code",
      "metadata": {
        "id": "mMtneeJw8HDI",
        "colab": {
          "base_uri": "https://localhost:8080/"
        },
        "outputId": "22f9d343-508e-48ed-ac4e-fbb4f5fd7a11"
      },
      "source": [
        "doc_vector = reader.get_document_vector('LA092790-0015')\n",
        "{ k: v for (k, v) in doc_vector.items() if v >1 }"
      ],
      "execution_count": 7,
      "outputs": [
        {
          "output_type": "execute_result",
          "data": {
            "text/plain": [
              "{'advis': 2,\n",
              " 'anim': 9,\n",
              " 'area': 4,\n",
              " 'attack': 3,\n",
              " 'author': 3,\n",
              " 'bear': 4,\n",
              " 'been': 11,\n",
              " 'black': 2,\n",
              " 'bobcat': 4,\n",
              " 'california': 2,\n",
              " 'cat': 3,\n",
              " 'counti': 4,\n",
              " 'coyot': 10,\n",
              " 'debusscher': 3,\n",
              " 'deer': 3,\n",
              " 'depart': 2,\n",
              " 'drought': 4,\n",
              " 'dry': 2,\n",
              " 'elsewher': 2,\n",
              " 'especi': 2,\n",
              " 'famili': 2,\n",
              " 'few': 2,\n",
              " 'food': 3,\n",
              " 'forest': 2,\n",
              " 'game': 2,\n",
              " 'ha': 3,\n",
              " 'habitat': 2,\n",
              " 'have': 16,\n",
              " 'he': 2,\n",
              " 'hi': 2,\n",
              " 'hous': 3,\n",
              " 'hungri': 3,\n",
              " 'i': 2,\n",
              " 'jenk': 4,\n",
              " 'just': 3,\n",
              " 'leav': 2,\n",
              " 'lion': 3,\n",
              " 'live': 2,\n",
              " 'lot': 2,\n",
              " 'month': 4,\n",
              " 'more': 3,\n",
              " 'mountain': 3,\n",
              " 'natur': 2,\n",
              " 'near': 3,\n",
              " 'off': 2,\n",
              " 'offici': 5,\n",
              " 'ojai': 3,\n",
              " 'on': 2,\n",
              " 'out': 4,\n",
              " 'parch': 2,\n",
              " 'park': 2,\n",
              " 'past': 2,\n",
              " 'peopl': 2,\n",
              " 'rees': 3,\n",
              " 'report': 4,\n",
              " 'resid': 2,\n",
              " 'rural': 3,\n",
              " 'sai': 2,\n",
              " 'said': 19,\n",
              " 'seen': 3,\n",
              " 'septemb': 2,\n",
              " 'sever': 3,\n",
              " 'she': 3,\n",
              " \"they'r\": 5,\n",
              " 'two': 3,\n",
              " 'vallei': 4,\n",
              " 'ventura': 4,\n",
              " 'we': 2,\n",
              " 'who': 2,\n",
              " 'wild': 3,\n",
              " 'wildlif': 2,\n",
              " 'would': 2,\n",
              " 'yard': 2,\n",
              " 'year': 3}"
            ]
          },
          "metadata": {},
          "execution_count": 7
        }
      ]
    },
    {
      "cell_type": "markdown",
      "source": [
        "## Evaluating Ranked Results\n",
        "\n",
        "We can load some standard evaluation sets such as Robust04, which contains 250 queries, or \"topics\" as the Trec conferences call them."
      ],
      "metadata": {
        "id": "GOFVMQKLyW1S"
      }
    },
    {
      "cell_type": "code",
      "source": [
        "from pyserini.search import get_topics\n",
        "topics = get_topics('robust04')\n",
        "print(f'{len(topics)} queries total')"
      ],
      "metadata": {
        "colab": {
          "base_uri": "https://localhost:8080/"
        },
        "id": "Q1sdhbDTdwqf",
        "outputId": "cc073f68-5092-4400-d21a-1787aa056510"
      },
      "execution_count": 8,
      "outputs": [
        {
          "output_type": "stream",
          "name": "stdout",
          "text": [
            "250 queries total\n"
          ]
        }
      ]
    },
    {
      "cell_type": "markdown",
      "source": [
        "The topics are in a dictionary, whose keys are integers uniquely identifying each query. Each topic contains the following fields:\n",
        "\n",
        "* `title`: Trec-speak for the brief query a user might actually type;\n",
        "* `description`: a longer form of the query in the form of a complete sentence; and\n",
        "* `narrative`: a description of what the user is looking for and what kinds of results would be relevant or non-relevant."
      ],
      "metadata": {
        "id": "RbODj6sezBvB"
      }
    },
    {
      "cell_type": "code",
      "source": [
        "topics[301]"
      ],
      "metadata": {
        "colab": {
          "base_uri": "https://localhost:8080/"
        },
        "id": "KBOeSkJxy-8R",
        "outputId": "bdfc15fa-a4b2-4f12-8dbf-0f5cb480c502"
      },
      "execution_count": 9,
      "outputs": [
        {
          "output_type": "execute_result",
          "data": {
            "text/plain": [
              "{'description': 'Identify organizations that participate in international criminal activity, the activity, and, if possible, collaborating organizations and the countries involved.',\n",
              " 'narrative': 'A relevant document must as a minimum identify the organization and the type of illegal activity (e.g., Columbian cartel exporting cocaine). Vague references to international drug trade without identification of the organization(s) involved would not be relevant.',\n",
              " 'title': 'International Organized Crime'}"
            ]
          },
          "metadata": {},
          "execution_count": 9
        }
      ]
    },
    {
      "cell_type": "markdown",
      "source": [
        "For the purpose of your experiments, we'll divide them into a development and test set."
      ],
      "metadata": {
        "id": "gMbgbZVqyzdj"
      }
    },
    {
      "cell_type": "code",
      "source": [
        "dev_topics = {k:topics[k] for k in list(topics.keys())[:125]}\n",
        "test_topics = {k:topics[k] for k in list(topics.keys())[125:]}"
      ],
      "metadata": {
        "id": "LILkqQDqd3Tj"
      },
      "execution_count": 10,
      "outputs": []
    },
    {
      "cell_type": "markdown",
      "source": [
        "Now, we'll fetch the relevance judgments for the Robust04 queries, which Trec calls \"qrels\"."
      ],
      "metadata": {
        "id": "HTY9-DMyzuU5"
      }
    },
    {
      "cell_type": "code",
      "source": [
        "from urllib.request import urlopen\n",
        "\n",
        "qfile = 'https://github.com/castorini/anserini-tools/blob/63ceeab1dd94c1221f29b931d868e8fab67cc25c/topics-and-qrels/qrels.robust04.txt?raw=true'\n",
        "qrels = []\n",
        "for line in urlopen(qfile):\n",
        "  qid, round, docid, score = line.strip().split()\n",
        "  qrels.append([int(qid), 0, docid.decode('UTF-8'), int(score)])\n",
        "#qrels = [line.strip().split() for line in urlopen(qfile)]"
      ],
      "metadata": {
        "id": "b53vacvvf6fw"
      },
      "execution_count": 11,
      "outputs": []
    },
    {
      "cell_type": "markdown",
      "source": [
        "Each record in the qrel contains four fields:\n",
        "\n",
        "1. the numeric identifier of the query;\n",
        "2. the round of relevance feedback, which is here always 0;\n",
        "3. the identifier of a documennt that has been judged; and\n",
        "4. the relevance score of that document.\n",
        "\n",
        "In Robust04, all relevance judgments are binary, i.e., 1 or 0. Note that not all non-relevant documents are recorded. The qrel file only contains those documents the annotators actually looked at; the vast majority of documents in the collection have not been judged. In IR evaluation, we assume that unannotated documents are non-relevant."
      ],
      "metadata": {
        "id": "BXg8YO590Aky"
      }
    },
    {
      "cell_type": "code",
      "source": [
        "qrels[0:10]"
      ],
      "metadata": {
        "colab": {
          "base_uri": "https://localhost:8080/"
        },
        "id": "ZJblOI_pgZBh",
        "outputId": "1738d408-0421-4809-b686-5dc422b64ba9"
      },
      "execution_count": 12,
      "outputs": [
        {
          "output_type": "execute_result",
          "data": {
            "text/plain": [
              "[[301, 0, 'FBIS3-10082', 1],\n",
              " [301, 0, 'FBIS3-10169', 0],\n",
              " [301, 0, 'FBIS3-10243', 1],\n",
              " [301, 0, 'FBIS3-10319', 0],\n",
              " [301, 0, 'FBIS3-10397', 1],\n",
              " [301, 0, 'FBIS3-10491', 1],\n",
              " [301, 0, 'FBIS3-10555', 0],\n",
              " [301, 0, 'FBIS3-10622', 1],\n",
              " [301, 0, 'FBIS3-10634', 0],\n",
              " [301, 0, 'FBIS3-10635', 0]]"
            ]
          },
          "metadata": {},
          "execution_count": 12
        }
      ]
    },
    {
      "cell_type": "code",
      "source": [
        "qrels[len(qrels)-10:]"
      ],
      "metadata": {
        "id": "86SDETZGYzUf",
        "outputId": "abdbea3d-91cb-4e66-929b-c0dde98444ed",
        "colab": {
          "base_uri": "https://localhost:8080/"
        }
      },
      "execution_count": 13,
      "outputs": [
        {
          "output_type": "execute_result",
          "data": {
            "text/plain": [
              "[[700, 0, 'LA121990-0101', 0],\n",
              " [700, 0, 'LA121990-0122', 1],\n",
              " [700, 0, 'LA122189-0128', 0],\n",
              " [700, 0, 'LA122289-0034', 2],\n",
              " [700, 0, 'LA122290-0139', 0],\n",
              " [700, 0, 'LA122690-0089', 0],\n",
              " [700, 0, 'LA122789-0005', 0],\n",
              " [700, 0, 'LA122889-0096', 0],\n",
              " [700, 0, 'LA122990-0108', 0],\n",
              " [700, 0, 'LA123090-0137', 0]]"
            ]
          },
          "metadata": {},
          "execution_count": 13
        }
      ]
    },
    {
      "cell_type": "markdown",
      "source": [
        "## Computing Mean Average Precision\n",
        "\n",
        "The Robust04 collection uses binary relevance judgments and usually has multiple relevant results for each query. It is thus common to use **mean average precision** (MAP) to evaluate retrieval performance on it. Remember from class that MAP adds the precision at the position of each _relevant_ document in a ranked list and then divides by the total number of relevant documents. So that we don't have to scan through the entire collection, we usually evaluate MAP at some maximum rank value, such as 100 or 1000. We simply stop scanning at that maximum rank.\n",
        "\n",
        "As we saw above, you should pass a query string (the `title` of a topic) and the desired number of results to the `search` method of the `searcher` object."
      ],
      "metadata": {
        "id": "LoDPnv1b04lP"
      }
    },
    {
      "cell_type": "code",
      "source": [
        "hits = searcher.search(dev_topics[355]['title'], 1000)\n",
        "docNscore = [(hit.docid, hit.score) for hit in hits[0:10]]\n",
        "docNscore"
      ],
      "metadata": {
        "colab": {
          "base_uri": "https://localhost:8080/"
        },
        "id": "pvcF6KPN8jew",
        "outputId": "5cf5b333-70ea-4144-b7aa-b64cabd46c00"
      },
      "execution_count": 14,
      "outputs": [
        {
          "output_type": "execute_result",
          "data": {
            "text/plain": [
              "[('FBIS4-20436', 11.349300384521484),\n",
              " ('FBIS3-23683', 9.126500129699707),\n",
              " ('FBIS3-21238', 8.309300422668457),\n",
              " ('FBIS4-44915', 7.935699939727783),\n",
              " ('FBIS4-20602', 7.6006999015808105),\n",
              " ('FBIS4-47382', 7.529600143432617),\n",
              " ('FT943-1589', 7.480100154876709),\n",
              " ('LA071789-0059', 7.451399803161621),\n",
              " ('FBIS4-22145', 7.215099811553955),\n",
              " ('FBIS4-44667', 7.106500148773193)]"
            ]
          },
          "metadata": {},
          "execution_count": 14
        }
      ]
    },
    {
      "cell_type": "markdown",
      "source": [
        "For this assignment, evaluate MAP@1000 for the list of `test_topics` we created above. You should process the `qrels` data to find the relevant results for each query."
      ],
      "metadata": {
        "id": "407VkQsK8h6T"
      }
    },
    {
      "cell_type": "code",
      "source": [
        "## Creating a dictionary of dictionaries for mapping query identifier to its documents and their relevance\n",
        "qreldict = {}\n",
        "for temp in qrels:\n",
        "    qid = temp[0]\n",
        "    docid = temp[2]\n",
        "    score = temp[3]\n",
        "    \n",
        "    if qid not in qreldict:\n",
        "        qreldict[qid] = {}\n",
        "    qreldict[qid][docid] = score\n",
        "\n",
        "print(qreldict[301])"
      ],
      "metadata": {
        "id": "Ewl0mnmNlAW6",
        "outputId": "be5ac4be-7080-47c2-d8e3-375ea4707afe",
        "colab": {
          "base_uri": "https://localhost:8080/"
        }
      },
      "execution_count": 15,
      "outputs": [
        {
          "output_type": "stream",
          "name": "stdout",
          "text": [
            "{'FBIS3-10082': 1, 'FBIS3-10169': 0, 'FBIS3-10243': 1, 'FBIS3-10319': 0, 'FBIS3-10397': 1, 'FBIS3-10491': 1, 'FBIS3-10555': 0, 'FBIS3-10622': 1, 'FBIS3-10634': 0, 'FBIS3-10635': 0, 'FBIS3-10721': 1, 'FBIS3-10805': 1, 'FBIS3-10910': 1, 'FBIS3-10937': 1, 'FBIS3-10938': 0, 'FBIS3-11003': 1, 'FBIS3-11028': 0, 'FBIS3-11095': 1, 'FBIS3-11099': 1, 'FBIS3-11210': 1, 'FBIS3-11318': 0, 'FBIS3-11405': 1, 'FBIS3-11502': 1, 'FBIS3-11553': 1, 'FBIS3-1162': 0, 'FBIS3-11628': 1, 'FBIS3-11634': 1, 'FBIS3-12094': 1, 'FBIS3-13011': 0, 'FBIS3-14449': 0, 'FBIS3-14832': 1, 'FBIS3-15271': 0, 'FBIS3-15418': 0, 'FBIS3-15509': 0, 'FBIS3-15586': 1, 'FBIS3-15988': 1, 'FBIS3-16151': 0, 'FBIS3-16286': 0, 'FBIS3-1638': 0, 'FBIS3-16769': 0, 'FBIS3-16775': 0, 'FBIS3-17073': 0, 'FBIS3-17175': 0, 'FBIS3-17255': 0, 'FBIS3-17394': 0, 'FBIS3-17422': 0, 'FBIS3-17547': 0, 'FBIS3-17704': 0, 'FBIS3-17880': 0, 'FBIS3-18129': 0, 'FBIS3-18281': 0, 'FBIS3-18507': 0, 'FBIS3-19199': 1, 'FBIS3-19420': 1, 'FBIS3-19646': 1, 'FBIS3-19682': 0, 'FBIS3-19863': 0, 'FBIS3-20360': 1, 'FBIS3-20551': 1, 'FBIS3-20552': 1, 'FBIS3-20796': 0, 'FBIS3-21603': 1, 'FBIS3-21604': 0, 'FBIS3-21605': 1, 'FBIS3-21620': 0, 'FBIS3-21627': 1, 'FBIS3-21628': 1, 'FBIS3-21629': 1, 'FBIS3-21630': 1, 'FBIS3-21631': 1, 'FBIS3-21632': 1, 'FBIS3-21635': 1, 'FBIS3-21636': 1, 'FBIS3-21641': 1, 'FBIS3-21642': 1, 'FBIS3-21670': 0, 'FBIS3-21671': 0, 'FBIS3-21699': 1, 'FBIS3-21710': 1, 'FBIS3-21720': 1, 'FBIS3-21722': 1, 'FBIS3-21723': 1, 'FBIS3-21724': 1, 'FBIS3-21729': 1, 'FBIS3-21743': 1, 'FBIS3-21750': 1, 'FBIS3-21762': 0, 'FBIS3-21765': 1, 'FBIS3-21769': 1, 'FBIS3-21770': 1, 'FBIS3-21771': 1, 'FBIS3-21779': 0, 'FBIS3-21789': 1, 'FBIS3-21790': 1, 'FBIS3-21807': 1, 'FBIS3-21817': 1, 'FBIS3-21818': 1, 'FBIS3-21821': 1, 'FBIS3-21828': 0, 'FBIS3-21880': 1, 'FBIS3-21884': 1, 'FBIS3-21886': 1, 'FBIS3-21900': 1, 'FBIS3-21906': 1, 'FBIS3-21907': 1, 'FBIS3-21911': 1, 'FBIS3-21912': 0, 'FBIS3-21930': 1, 'FBIS3-21938': 0, 'FBIS3-21961': 1, 'FBIS3-21978': 1, 'FBIS3-21990': 0, 'FBIS3-21998': 1, 'FBIS3-21999': 1, 'FBIS3-22000': 1, 'FBIS3-22011': 1, 'FBIS3-22033': 0, 'FBIS3-22038': 1, 'FBIS3-22039': 1, 'FBIS3-22040': 1, 'FBIS3-22047': 1, 'FBIS3-22049': 1, 'FBIS3-22055': 1, 'FBIS3-22085': 0, 'FBIS3-22088': 1, 'FBIS3-22090': 0, 'FBIS3-22098': 0, 'FBIS3-22101': 1, 'FBIS3-23426': 0, 'FBIS3-23432': 0, 'FBIS3-23561': 0, 'FBIS3-23606': 0, 'FBIS3-23691': 0, 'FBIS3-23743': 0, 'FBIS3-23823': 0, 'FBIS3-2393': 1, 'FBIS3-23945': 0, 'FBIS3-23986': 1, 'FBIS3-24037': 0, 'FBIS3-24039': 0, 'FBIS3-24137': 0, 'FBIS3-24143': 0, 'FBIS3-24145': 0, 'FBIS3-24182': 0, 'FBIS3-24197': 1, 'FBIS3-24247': 0, 'FBIS3-24256': 0, 'FBIS3-24277': 0, 'FBIS3-24284': 0, 'FBIS3-24318': 1, 'FBIS3-24325': 1, 'FBIS3-24338': 0, 'FBIS3-24362': 0, 'FBIS3-24451': 0, 'FBIS3-24453': 0, 'FBIS3-2516': 0, 'FBIS3-25359': 0, 'FBIS3-25902': 0, 'FBIS3-26005': 1, 'FBIS3-2605': 0, 'FBIS3-26415': 1, 'FBIS3-26451': 0, 'FBIS3-26913': 1, 'FBIS3-26914': 1, 'FBIS3-27048': 0, 'FBIS3-27916': 0, 'FBIS3-28833': 0, 'FBIS3-29180': 0, 'FBIS3-3020': 0, 'FBIS3-31267': 1, 'FBIS3-31749': 0, 'FBIS3-3189': 0, 'FBIS3-3190': 0, 'FBIS3-3223': 0, 'FBIS3-32399': 0, 'FBIS3-32400': 0, 'FBIS3-32453': 1, 'FBIS3-32619': 1, 'FBIS3-32620': 0, 'FBIS3-32674': 1, 'FBIS3-32817': 1, 'FBIS3-32833': 1, 'FBIS3-32880': 1, 'FBIS3-33001': 1, 'FBIS3-3304': 0, 'FBIS3-33150': 1, 'FBIS3-33206': 1, 'FBIS3-33239': 0, 'FBIS3-33241': 1, 'FBIS3-33243': 1, 'FBIS3-33287': 1, 'FBIS3-33366': 1, 'FBIS3-33438': 1, 'FBIS3-33570': 1, 'FBIS3-33590': 0, 'FBIS3-33963': 1, 'FBIS3-34361': 0, 'FBIS3-34451': 0, 'FBIS3-34994': 0, 'FBIS3-35229': 0, 'FBIS3-36375': 0, 'FBIS3-36824': 0, 'FBIS3-36869': 0, 'FBIS3-37418': 0, 'FBIS3-37492': 0, 'FBIS3-37697': 0, 'FBIS3-37944': 0, 'FBIS3-37947': 1, 'FBIS3-38070': 1, 'FBIS3-38124': 0, 'FBIS3-38466': 1, 'FBIS3-38787': 0, 'FBIS3-38878': 1, 'FBIS3-39430': 0, 'FBIS3-39555': 0, 'FBIS3-39566': 0, 'FBIS3-40435': 0, 'FBIS3-40450': 0, 'FBIS3-40470': 0, 'FBIS3-40604': 0, 'FBIS3-41071': 1, 'FBIS3-41076': 1, 'FBIS3-41082': 1, 'FBIS3-41087': 1, 'FBIS3-41090': 1, 'FBIS3-41091': 1, 'FBIS3-41092': 1, 'FBIS3-41101': 1, 'FBIS3-41105': 0, 'FBIS3-41108': 0, 'FBIS3-41110': 0, 'FBIS3-41121': 1, 'FBIS3-41131': 1, 'FBIS3-41132': 1, 'FBIS3-41140': 1, 'FBIS3-41141': 1, 'FBIS3-41143': 0, 'FBIS3-41158': 1, 'FBIS3-41163': 1, 'FBIS3-41174': 1, 'FBIS3-41181': 0, 'FBIS3-41204': 1, 'FBIS3-41211': 1, 'FBIS3-41212': 1, 'FBIS3-41213': 1, 'FBIS3-41215': 1, 'FBIS3-41219': 1, 'FBIS3-41220': 1, 'FBIS3-41222': 1, 'FBIS3-41224': 1, 'FBIS3-41226': 1, 'FBIS3-41233': 1, 'FBIS3-41236': 1, 'FBIS3-41237': 1, 'FBIS3-41244': 0, 'FBIS3-41247': 1, 'FBIS3-41272': 1, 'FBIS3-41285': 1, 'FBIS3-41288': 0, 'FBIS3-41291': 0, 'FBIS3-41293': 1, 'FBIS3-41294': 1, 'FBIS3-41295': 1, 'FBIS3-41298': 1, 'FBIS3-41305': 0, 'FBIS3-41312': 0, 'FBIS3-41317': 1, 'FBIS3-41320': 1, 'FBIS3-41325': 1, 'FBIS3-41345': 1, 'FBIS3-41347': 1, 'FBIS3-41348': 1, 'FBIS3-41349': 1, 'FBIS3-41385': 0, 'FBIS3-41387': 1, 'FBIS3-41398': 1, 'FBIS3-41400': 1, 'FBIS3-41401': 1, 'FBIS3-41402': 1, 'FBIS3-41406': 1, 'FBIS3-41472': 0, 'FBIS3-41666': 0, 'FBIS3-41958': 0, 'FBIS3-4209': 0, 'FBIS3-42278': 0, 'FBIS3-42315': 1, 'FBIS3-42319': 0, 'FBIS3-42341': 0, 'FBIS3-42576': 0, 'FBIS3-42621': 0, 'FBIS3-42766': 0, 'FBIS3-42820': 1, 'FBIS3-42845': 0, 'FBIS3-43072': 0, 'FBIS3-43550': 0, 'FBIS3-44579': 0, 'FBIS3-45599': 0, 'FBIS3-45756': 0, 'FBIS3-46614': 0, 'FBIS3-46801': 0, 'FBIS3-47129': 0, 'FBIS3-47971': 0, 'FBIS3-48159': 0, 'FBIS3-48161': 0, 'FBIS3-48751': 0, 'FBIS3-49567': 1, 'FBIS3-50131': 0, 'FBIS3-50136': 0, 'FBIS3-50603': 1, 'FBIS3-50654': 0, 'FBIS3-50695': 1, 'FBIS3-51349': 0, 'FBIS3-51567': 1, 'FBIS3-51619': 0, 'FBIS3-51766': 0, 'FBIS3-51824': 1, 'FBIS3-52033': 1, 'FBIS3-52075': 0, 'FBIS3-52858': 0, 'FBIS3-54461': 0, 'FBIS3-54944': 0, 'FBIS3-54945': 0, 'FBIS3-55219': 1, 'FBIS3-55570': 0, 'FBIS3-55741': 0, 'FBIS3-55966': 0, 'FBIS3-56182': 0, 'FBIS3-57406': 0, 'FBIS3-5772': 1, 'FBIS3-57906': 0, 'FBIS3-57998': 1, 'FBIS3-58025': 0, 'FBIS3-58028': 1, 'FBIS3-58055': 1, 'FBIS3-58058': 1, 'FBIS3-58477': 1, 'FBIS3-58867': 1, 'FBIS3-59073': 0, 'FBIS3-59284': 1, 'FBIS3-59285': 0, 'FBIS3-5944': 1, 'FBIS3-59517': 0, 'FBIS3-59750': 0, 'FBIS3-59962': 0, 'FBIS3-59963': 1, 'FBIS3-59979': 0, 'FBIS3-60000': 1, 'FBIS3-60006': 1, 'FBIS3-60017': 1, 'FBIS3-60061': 1, 'FBIS3-60063': 1, 'FBIS3-60065': 1, 'FBIS3-60066': 1, 'FBIS3-60093': 1, 'FBIS3-60111': 1, 'FBIS3-60121': 1, 'FBIS3-60122': 0, 'FBIS3-60124': 1, 'FBIS3-60149': 1, 'FBIS3-60153': 1, 'FBIS3-60166': 1, 'FBIS3-60180': 1, 'FBIS3-60209': 0, 'FBIS3-60215': 1, 'FBIS3-60336': 0, 'FBIS3-60342': 0, 'FBIS3-60752': 0, 'FBIS3-60831': 0, 'FBIS3-60975': 0, 'FBIS3-60984': 1, 'FBIS3-61041': 0, 'FBIS3-61080': 0, 'FBIS3-61106': 0, 'FBIS3-61161': 0, 'FBIS3-61246': 0, 'FBIS3-61298': 0, 'FBIS3-61345': 0, 'FBIS3-61387': 0, 'FBIS3-61562': 0, 'FBIS3-7168': 1, 'FBIS3-8135': 0, 'FBIS3-9399': 0, 'FBIS3-9890': 1, 'FBIS3-9969': 0, 'FBIS3-9970': 0, 'FBIS4-10076': 1, 'FBIS4-10092': 1, 'FBIS4-10095': 1, 'FBIS4-10110': 1, 'FBIS4-10112': 1, 'FBIS4-10121': 0, 'FBIS4-10175': 0, 'FBIS4-10192': 0, 'FBIS4-10296': 0, 'FBIS4-10366': 1, 'FBIS4-10488': 1, 'FBIS4-10739': 0, 'FBIS4-10748': 0, 'FBIS4-10817': 0, 'FBIS4-10864': 0, 'FBIS4-11047': 0, 'FBIS4-11217': 0, 'FBIS4-14483': 0, 'FBIS4-14505': 0, 'FBIS4-15002': 0, 'FBIS4-1549': 0, 'FBIS4-1553': 0, 'FBIS4-16126': 0, 'FBIS4-1628': 0, 'FBIS4-16454': 0, 'FBIS4-16502': 0, 'FBIS4-16583': 0, 'FBIS4-1667': 0, 'FBIS4-16951': 0, 'FBIS4-17572': 0, 'FBIS4-17750': 0, 'FBIS4-1796': 0, 'FBIS4-18028': 0, 'FBIS4-18061': 0, 'FBIS4-18122': 0, 'FBIS4-1842': 0, 'FBIS4-1843': 0, 'FBIS4-1860': 0, 'FBIS4-1861': 0, 'FBIS4-1863': 0, 'FBIS4-1865': 0, 'FBIS4-1866': 0, 'FBIS4-19049': 0, 'FBIS4-1967': 0, 'FBIS4-19851': 1, 'FBIS4-2042': 0, 'FBIS4-20472': 0, 'FBIS4-20504': 0, 'FBIS4-20617': 0, 'FBIS4-2072': 1, 'FBIS4-20942': 1, 'FBIS4-20943': 1, 'FBIS4-20959': 0, 'FBIS4-20961': 0, 'FBIS4-20962': 0, 'FBIS4-20965': 1, 'FBIS4-20966': 1, 'FBIS4-20970': 1, 'FBIS4-20976': 1, 'FBIS4-20980': 1, 'FBIS4-20995': 0, 'FBIS4-21016': 1, 'FBIS4-21041': 1, 'FBIS4-2105': 0, 'FBIS4-21060': 1, 'FBIS4-21061': 0, 'FBIS4-21062': 0, 'FBIS4-21094': 1, 'FBIS4-21124': 0, 'FBIS4-21126': 0, 'FBIS4-21133': 0, 'FBIS4-21134': 0, 'FBIS4-21139': 0, 'FBIS4-21168': 0, 'FBIS4-21171': 1, 'FBIS4-21188': 0, 'FBIS4-21207': 0, 'FBIS4-21212': 0, 'FBIS4-21213': 1, 'FBIS4-21244': 0, 'FBIS4-21261': 0, 'FBIS4-2128': 0, 'FBIS4-21287': 0, 'FBIS4-21302': 1, 'FBIS4-21310': 0, 'FBIS4-21321': 1, 'FBIS4-21336': 0, 'FBIS4-21340': 1, 'FBIS4-21936': 0, 'FBIS4-2204': 0, 'FBIS4-22214': 1, 'FBIS4-22235': 1, 'FBIS4-22345': 0, 'FBIS4-22444': 0, 'FBIS4-22455': 0, 'FBIS4-22471': 0, 'FBIS4-22523': 0, 'FBIS4-22537': 0, 'FBIS4-22596': 0, 'FBIS4-22768': 1, 'FBIS4-22779': 0, 'FBIS4-24388': 0, 'FBIS4-2439': 0, 'FBIS4-24523': 1, 'FBIS4-25032': 0, 'FBIS4-26003': 0, 'FBIS4-26127': 0, 'FBIS4-26192': 0, 'FBIS4-26323': 1, 'FBIS4-26335': 0, 'FBIS4-26351': 0, 'FBIS4-26415': 0, 'FBIS4-26788': 0, 'FBIS4-26902': 1, 'FBIS4-27085': 0, 'FBIS4-27100': 1, 'FBIS4-2721': 0, 'FBIS4-27336': 0, 'FBIS4-2734': 0, 'FBIS4-27391': 0, 'FBIS4-27942': 0, 'FBIS4-29003': 0, 'FBIS4-2931': 1, 'FBIS4-30024': 0, 'FBIS4-3044': 0, 'FBIS4-31295': 1, 'FBIS4-31645': 1, 'FBIS4-31787': 0, 'FBIS4-3230': 0, 'FBIS4-33188': 1, 'FBIS4-33584': 1, 'FBIS4-3367': 0, 'FBIS4-3370': 0, 'FBIS4-33785': 0, 'FBIS4-33867': 0, 'FBIS4-33868': 0, 'FBIS4-34471': 0, 'FBIS4-34515': 0, 'FBIS4-34538': 0, 'FBIS4-34613': 0, 'FBIS4-34616': 1, 'FBIS4-34647': 1, 'FBIS4-34666': 0, 'FBIS4-34836': 1, 'FBIS4-34879': 0, 'FBIS4-37650': 1, 'FBIS4-37795': 0, 'FBIS4-38095': 0, 'FBIS4-38364': 1, 'FBIS4-38410': 0, 'FBIS4-38482': 0, 'FBIS4-39330': 0, 'FBIS4-39493': 0, 'FBIS4-39759': 0, 'FBIS4-40181': 0, 'FBIS4-40260': 0, 'FBIS4-40359': 0, 'FBIS4-40452': 0, 'FBIS4-40482': 0, 'FBIS4-40514': 0, 'FBIS4-4063': 0, 'FBIS4-4067': 0, 'FBIS4-40720': 0, 'FBIS4-40805': 1, 'FBIS4-40930': 0, 'FBIS4-40932': 0, 'FBIS4-40934': 0, 'FBIS4-40935': 0, 'FBIS4-40936': 0, 'FBIS4-41144': 0, 'FBIS4-41215': 0, 'FBIS4-41223': 0, 'FBIS4-41394': 0, 'FBIS4-41395': 0, 'FBIS4-41396': 0, 'FBIS4-41398': 0, 'FBIS4-41538': 0, 'FBIS4-41541': 0, 'FBIS4-41684': 0, 'FBIS4-41687': 1, 'FBIS4-41832': 0, 'FBIS4-41839': 0, 'FBIS4-41860': 0, 'FBIS4-41863': 0, 'FBIS4-41952': 0, 'FBIS4-41976': 0, 'FBIS4-41991': 0, 'FBIS4-42499': 1, 'FBIS4-42757': 1, 'FBIS4-43152': 1, 'FBIS4-43533': 1, 'FBIS4-43552': 1, 'FBIS4-43791': 0, 'FBIS4-43797': 1, 'FBIS4-43801': 1, 'FBIS4-43965': 1, 'FBIS4-44181': 0, 'FBIS4-45158': 1, 'FBIS4-45166': 0, 'FBIS4-45172': 0, 'FBIS4-45175': 1, 'FBIS4-45195': 0, 'FBIS4-45205': 0, 'FBIS4-45230': 1, 'FBIS4-45239': 1, 'FBIS4-45251': 1, 'FBIS4-45257': 1, 'FBIS4-45277': 1, 'FBIS4-45278': 1, 'FBIS4-45280': 1, 'FBIS4-45315': 0, 'FBIS4-45330': 1, 'FBIS4-45333': 1, 'FBIS4-45345': 1, 'FBIS4-45346': 0, 'FBIS4-45383': 1, 'FBIS4-45398': 1, 'FBIS4-45413': 1, 'FBIS4-45414': 1, 'FBIS4-45417': 0, 'FBIS4-45419': 1, 'FBIS4-45425': 1, 'FBIS4-45434': 1, 'FBIS4-45440': 0, 'FBIS4-45453': 0, 'FBIS4-45469': 1, 'FBIS4-45477': 1, 'FBIS4-45482': 0, 'FBIS4-45495': 0, 'FBIS4-45503': 1, 'FBIS4-45518': 1, 'FBIS4-45519': 1, 'FBIS4-45552': 0, 'FBIS4-45571': 1, 'FBIS4-46425': 1, 'FBIS4-46574': 0, 'FBIS4-46584': 0, 'FBIS4-46588': 0, 'FBIS4-46648': 0, 'FBIS4-46649': 0, 'FBIS4-46730': 0, 'FBIS4-46733': 0, 'FBIS4-46734': 0, 'FBIS4-46757': 0, 'FBIS4-46775': 0, 'FBIS4-46780': 1, 'FBIS4-46806': 0, 'FBIS4-46846': 1, 'FBIS4-46857': 0, 'FBIS4-46935': 0, 'FBIS4-47008': 0, 'FBIS4-47045': 0, 'FBIS4-47046': 0, 'FBIS4-47200': 0, 'FBIS4-49021': 0, 'FBIS4-49075': 0, 'FBIS4-49289': 0, 'FBIS4-49667': 0, 'FBIS4-49754': 0, 'FBIS4-49845': 0, 'FBIS4-50083': 0, 'FBIS4-50478': 0, 'FBIS4-50901': 0, 'FBIS4-50956': 0, 'FBIS4-50993': 0, 'FBIS4-51335': 0, 'FBIS4-52002': 0, 'FBIS4-52093': 0, 'FBIS4-52587': 0, 'FBIS4-53424': 1, 'FBIS4-54126': 0, 'FBIS4-54227': 1, 'FBIS4-54287': 0, 'FBIS4-54501': 0, 'FBIS4-54604': 0, 'FBIS4-54904': 1, 'FBIS4-55395': 0, 'FBIS4-56290': 0, 'FBIS4-56434': 1, 'FBIS4-56467': 1, 'FBIS4-56471': 1, 'FBIS4-56487': 1, 'FBIS4-56513': 1, 'FBIS4-56524': 0, 'FBIS4-56605': 1, 'FBIS4-56693': 1, 'FBIS4-56776': 0, 'FBIS4-56803': 1, 'FBIS4-56930': 1, 'FBIS4-56965': 1, 'FBIS4-56974': 1, 'FBIS4-56982': 1, 'FBIS4-56992': 1, 'FBIS4-57053': 0, 'FBIS4-57121': 0, 'FBIS4-57301': 1, 'FBIS4-57322': 1, 'FBIS4-57754': 1, 'FBIS4-57869': 1, 'FBIS4-57987': 1, 'FBIS4-58122': 0, 'FBIS4-60945': 0, 'FBIS4-61644': 0, 'FBIS4-61663': 0, 'FBIS4-62028': 1, 'FBIS4-62049': 0, 'FBIS4-62078': 0, 'FBIS4-62079': 0, 'FBIS4-62372': 0, 'FBIS4-63153': 0, 'FBIS4-63597': 0, 'FBIS4-64135': 0, 'FBIS4-64345': 0, 'FBIS4-6448': 0, 'FBIS4-65446': 0, 'FBIS4-65501': 0, 'FBIS4-65806': 1, 'FBIS4-66122': 0, 'FBIS4-66308': 0, 'FBIS4-66382': 0, 'FBIS4-66940': 1, 'FBIS4-66950': 1, 'FBIS4-66951': 1, 'FBIS4-66952': 1, 'FBIS4-66973': 1, 'FBIS4-66974': 1, 'FBIS4-67000': 1, 'FBIS4-67003': 0, 'FBIS4-67005': 0, 'FBIS4-67027': 1, 'FBIS4-67046': 0, 'FBIS4-67051': 1, 'FBIS4-67058': 1, 'FBIS4-67062': 1, 'FBIS4-67072': 1, 'FBIS4-67135': 1, 'FBIS4-67140': 1, 'FBIS4-67144': 1, 'FBIS4-67149': 0, 'FBIS4-67150': 1, 'FBIS4-67156': 1, 'FBIS4-67165': 0, 'FBIS4-67169': 1, 'FBIS4-67170': 1, 'FBIS4-67176': 1, 'FBIS4-67178': 1, 'FBIS4-67183': 1, 'FBIS4-67184': 1, 'FBIS4-67227': 1, 'FBIS4-67239': 1, 'FBIS4-67244': 0, 'FBIS4-67246': 1, 'FBIS4-67263': 0, 'FBIS4-67273': 0, 'FBIS4-67281': 1, 'FBIS4-67292': 1, 'FBIS4-67331': 1, 'FBIS4-67334': 1, 'FBIS4-67336': 1, 'FBIS4-67341': 0, 'FBIS4-67492': 1, 'FBIS4-67942': 1, 'FBIS4-68096': 0, 'FBIS4-68348': 0, 'FBIS4-68349': 0, 'FBIS4-68416': 0, 'FBIS4-68426': 0, 'FBIS4-68498': 0, 'FBIS4-68542': 0, 'FBIS4-68582': 0, 'FBIS4-68653': 0, 'FBIS4-68746': 0, 'FBIS4-68801': 1, 'FBIS4-68847': 0, 'FBIS4-68893': 0, 'FBIS4-7006': 0, 'FBIS4-7688': 0, 'FBIS4-7811': 1, 'FBIS4-865': 0, 'FBIS4-891': 0, 'FBIS4-8957': 1, 'FBIS4-9354': 0, 'FBIS4-9451': 0, 'FBIS4-9687': 1, 'FBIS4-9819': 0, 'FBIS4-9843': 1, 'FBIS4-9965': 0, 'FR940112-2-00076': 0, 'FR940128-2-00139': 0, 'FR940202-2-00149': 0, 'FR940202-2-00150': 0, 'FR940202-2-00151': 0, 'FR940202-2-00153': 0, 'FR940202-2-00154': 0, 'FR940203-1-00036': 0, 'FR940203-2-00129': 0, 'FR940203-2-00142': 0, 'FR940217-1-00073': 0, 'FR940223-2-00242': 0, 'FR940303-1-00022': 0, 'FR940303-2-00208': 0, 'FR940314-0-00010': 0, 'FR940314-1-00041': 0, 'FR940324-2-00091': 0, 'FR940328-2-00122': 0, 'FR940406-2-00067': 0, 'FR940406-2-00175': 0, 'FR940412-2-00124': 0, 'FR940412-2-00131': 0, 'FR940425-2-00078': 0, 'FR940425-2-00079': 0, 'FR940425-2-00080': 0, 'FR940425-2-00081': 0, 'FR940429-0-00128': 0, 'FR940503-2-00145': 0, 'FR940503-2-00146': 0, 'FR940503-2-00147': 0, 'FR940503-2-00165': 0, 'FR940503-2-00169': 0, 'FR940503-2-00170': 0, 'FR940511-0-00066': 0, 'FR940511-2-00139': 0, 'FR940511-2-00206': 0, 'FR940513-2-00097': 0, 'FR940513-2-00103': 0, 'FR940516-2-00139': 0, 'FR940525-2-00052': 0, 'FR940525-2-00068': 0, 'FR940526-2-00033': 0, 'FR940527-2-00068': 0, 'FR940527-2-00069': 0, 'FR940603-2-00059': 0, 'FR940603-2-00060': 0, 'FR940603-2-00158': 0, 'FR940610-2-00058': 0, 'FR940610-2-00072': 0, 'FR940620-1-00004': 0, 'FR940620-1-00005': 0, 'FR940620-1-00006': 0, 'FR940620-1-00007': 0, 'FR940620-1-00008': 0, 'FR940620-1-00009': 0, 'FR940622-2-00053': 0, 'FR940627-2-00036': 0, 'FR940627-2-00068': 0, 'FR940630-2-00168': 0, 'FR940630-2-00169': 0, 'FR940707-2-00112': 0, 'FR940707-2-00113': 0, 'FR940707-2-00114': 0, 'FR940711-2-00093': 0, 'FR940711-2-00096': 0, 'FR940712-2-00059': 0, 'FR940712-2-00065': 0, 'FR940713-2-00064': 0, 'FR940713-2-00172': 0, 'FR940713-2-00178': 0, 'FR940721-2-00075': 0, 'FR940727-0-00077': 0, 'FR940727-0-00078': 0, 'FR940727-0-00079': 0, 'FR940727-0-00091': 0, 'FR940727-0-00092': 0, 'FR940727-0-00093': 0, 'FR940727-0-00096': 0, 'FR940728-2-00151': 0, 'FR940804-0-00127': 0, 'FR940804-2-00088': 0, 'FR940811-0-00030': 0, 'FR940816-2-00057': 0, 'FR940825-2-00077': 0, 'FR940825-2-00078': 0, 'FR940825-2-00189': 0, 'FR940830-2-00003': 0, 'FR940902-1-00048': 0, 'FR940920-2-00045': 0, 'FR940922-2-00125': 0, 'FR940930-2-00057': 0, 'FR940930-2-00058': 0, 'FR940930-2-00063': 0, 'FR941004-1-00089': 0, 'FR941006-2-00013': 0, 'FR941006-2-00171': 0, 'FR941107-0-00034': 0, 'FR941128-2-00187': 0, 'FR941206-1-00134': 0, 'FR941221-2-00127': 0, 'FR941221-2-00130': 0, 'FR941221-2-00131': 0, 'FR941230-2-00127': 0, 'FR941230-2-00137': 0, 'FR941230-2-00138': 0, 'FR941230-2-00139': 0, 'FR941230-2-00150': 0, 'FT911-1237': 0, 'FT911-1697': 0, 'FT911-1821': 0, 'FT911-2267': 0, 'FT911-2671': 0, 'FT911-2685': 0, 'FT911-2704': 0, 'FT911-2706': 0, 'FT911-3036': 0, 'FT911-3105': 0, 'FT911-3453': 0, 'FT911-4494': 0, 'FT911-456': 0, 'FT911-4634': 0, 'FT911-4747': 0, 'FT911-5227': 0, 'FT911-629': 0, 'FT911-71': 0, 'FT921-10107': 0, 'FT921-10162': 1, 'FT921-10163': 0, 'FT921-10280': 1, 'FT921-10350': 0, 'FT921-10427': 0, 'FT921-10848': 0, 'FT921-11079': 0, 'FT921-11686': 0, 'FT921-12538': 0, 'FT921-1349': 0, 'FT921-13664': 0, 'FT921-14967': 0, 'FT921-15491': 0, 'FT921-16129': 0, 'FT921-16130': 0, 'FT921-1614': 0, 'FT921-1844': 0, 'FT921-2590': 0, 'FT921-3256': 0, 'FT921-4090': 0, 'FT921-4265': 0, 'FT921-4322': 0, 'FT921-5503': 0, 'FT921-6487': 0, 'FT921-6506': 0, 'FT921-6865': 0, 'FT921-6986': 0, 'FT921-6988': 0, 'FT921-7663': 0, 'FT921-8089': 0, 'FT921-8188': 0, 'FT921-861': 0, 'FT922-10933': 0, 'FT922-11540': 0, 'FT922-13596': 1, 'FT922-14858': 0, 'FT922-14992': 0, 'FT922-15159': 0, 'FT922-15176': 0, 'FT922-3844': 0, 'FT922-4774': 0, 'FT922-4887': 0, 'FT922-5041': 0, 'FT922-565': 0, 'FT922-616': 0, 'FT922-7190': 0, 'FT922-790': 0, 'FT922-8144': 0, 'FT922-8257': 0, 'FT922-8731': 0, 'FT922-9654': 0, 'FT923-10224': 0, 'FT923-10456': 0, 'FT923-10584': 0, 'FT923-11086': 0, 'FT923-11460': 0, 'FT923-11560': 0, 'FT923-11687': 0, 'FT923-11785': 0, 'FT923-12102': 0, 'FT923-12278': 0, 'FT923-13103': 0, 'FT923-1313': 0, 'FT923-14709': 1, 'FT923-2038': 0, 'FT923-2301': 0, 'FT923-2345': 0, 'FT923-2348': 0, 'FT923-3034': 1, 'FT923-332': 0, 'FT923-3617': 0, 'FT923-365': 1, 'FT923-4083': 0, 'FT923-466': 0, 'FT923-5301': 0, 'FT923-5751': 0, 'FT923-7842': 0, 'FT923-7884': 0, 'FT923-8084': 0, 'FT924-10092': 0, 'FT924-10320': 0, 'FT924-10713': 0, 'FT924-10861': 0, 'FT924-11258': 0, 'FT924-11339': 1, 'FT924-11606': 0, 'FT924-1186': 0, 'FT924-11989': 0, 'FT924-12138': 0, 'FT924-12220': 0, 'FT924-13611': 1, 'FT924-227': 0, 'FT924-2736': 0, 'FT924-2822': 0, 'FT924-2857': 0, 'FT924-3498': 0, 'FT924-4782': 1, 'FT924-5359': 0, 'FT924-6421': 0, 'FT924-6543': 0, 'FT924-6677': 0, 'FT924-9271': 0, 'FT924-949': 0, 'FT924-9745': 0, 'FT931-10356': 0, 'FT931-1053': 0, 'FT931-11647': 0, 'FT931-11843': 0, 'FT931-11924': 0, 'FT931-13292': 0, 'FT931-14697': 1, 'FT931-16394': 0, 'FT931-16398': 0, 'FT931-2175': 0, 'FT931-2379': 0, 'FT931-2401': 0, 'FT931-249': 0, 'FT931-3563': 1, 'FT931-3941': 1, 'FT931-4089': 0, 'FT931-4165': 0, 'FT931-4939': 0, 'FT931-4977': 0, 'FT931-5072': 0, 'FT931-6121': 0, 'FT931-6235': 0, 'FT931-682': 0, 'FT931-7337': 0, 'FT931-7529': 0, 'FT931-7536': 0, 'FT931-7881': 0, 'FT931-8991': 0, 'FT931-9181': 0, 'FT931-9535': 0, 'FT931-9665': 0, 'FT931-9667': 0, 'FT931-9798': 0, 'FT932-1131': 0, 'FT932-11505': 0, 'FT932-12261': 0, 'FT932-12610': 0, 'FT932-13676': 0, 'FT932-14690': 0, 'FT932-2315': 0, 'FT932-2874': 0, 'FT932-3130': 1, 'FT932-3286': 0, 'FT932-3322': 0, 'FT932-3329': 0, 'FT932-3331': 0, 'FT932-3336': 0, 'FT932-3338': 0, 'FT932-41': 0, 'FT932-4538': 0, 'FT932-4950': 0, 'FT932-4965': 1, 'FT932-5074': 0, 'FT932-5376': 1, 'FT932-5377': 1, 'FT932-5629': 0, 'FT932-5672': 0, 'FT932-6233': 0, 'FT932-6340': 0, 'FT932-6347': 0, 'FT932-7056': 1, 'FT932-7266': 0, 'FT932-7295': 0, 'FT932-8233': 0, 'FT933-10064': 0, 'FT933-11054': 0, 'FT933-11067': 0, 'FT933-11804': 1, 'FT933-12030': 0, 'FT933-1329': 0, 'FT933-1331': 0, 'FT933-1338': 0, 'FT933-13408': 0, 'FT933-13528': 0, 'FT933-15522': 0, 'FT933-15581': 0, 'FT933-15697': 0, 'FT933-1600': 0, 'FT933-16366': 0, 'FT933-16962': 0, 'FT933-17008': 1, 'FT933-1718': 0, 'FT933-2139': 0, 'FT933-2224': 1, 'FT933-279': 0, 'FT933-4677': 0, 'FT933-550': 0, 'FT933-582': 0, 'FT933-6786': 0, 'FT933-6924': 0, 'FT933-6966': 0, 'FT933-6971': 0, 'FT933-7993': 0, 'FT933-8067': 0, 'FT934-10491': 1, 'FT934-10543': 0, 'FT934-10783': 0, 'FT934-11015': 0, 'FT934-11658': 0, 'FT934-11945': 0, 'FT934-12578': 0, 'FT934-13302': 0, 'FT934-14820': 0, 'FT934-16551': 0, 'FT934-17146': 0, 'FT934-2267': 0, 'FT934-2699': 0, 'FT934-3452': 0, 'FT934-4154': 0, 'FT934-4340': 0, 'FT934-4582': 0, 'FT934-5231': 0, 'FT934-5726': 0, 'FT934-5891': 0, 'FT934-6874': 0, 'FT934-7013': 0, 'FT934-7093': 0, 'FT934-7094': 0, 'FT934-7631': 0, 'FT934-7660': 0, 'FT934-8411': 0, 'FT934-8545': 0, 'FT934-8632': 0, 'FT934-8633': 0, 'FT934-8640': 0, 'FT941-10546': 0, 'FT941-10611': 1, 'FT941-11262': 0, 'FT941-11279': 0, 'FT941-11449': 0, 'FT941-11505': 0, 'FT941-12402': 0, 'FT941-12805': 0, 'FT941-13151': 1, 'FT941-13349': 0, 'FT941-14742': 0, 'FT941-14810': 0, 'FT941-15027': 0, 'FT941-15378': 0, 'FT941-15631': 0, 'FT941-1682': 0, 'FT941-16929': 0, 'FT941-17064': 0, 'FT941-2244': 0, 'FT941-3237': 1, 'FT941-4259': 0, 'FT941-5289': 0, 'FT941-5453': 1, 'FT941-8491': 0, 'FT941-8966': 0, 'FT941-9876': 0, 'FT942-10163': 0, 'FT942-10977': 0, 'FT942-11067': 0, 'FT942-11396': 0, 'FT942-12197': 0, 'FT942-13293': 0, 'FT942-13766': 0, 'FT942-14060': 0, 'FT942-1417': 0, 'FT942-14542': 0, 'FT942-14609': 0, 'FT942-14967': 0, 'FT942-15220': 0, 'FT942-16403': 0, 'FT942-17001': 1, 'FT942-17066': 0, 'FT942-1711': 0, 'FT942-1715': 0, 'FT942-187': 0, 'FT942-2876': 0, 'FT942-2882': 0, 'FT942-3474': 0, 'FT942-3714': 0, 'FT942-4368': 0, 'FT942-5157': 0, 'FT942-5274': 0, 'FT942-5466': 0, 'FT942-6404': 0, 'FT942-6526': 0, 'FT942-7117': 0, 'FT942-7322': 0, 'FT942-7335': 0, 'FT942-7403': 0, 'FT942-792': 1, 'FT942-852': 0, 'FT942-8529': 0, 'FT942-8530': 0, 'FT942-8808': 0, 'FT942-885': 0, 'FT942-933': 0, 'FT942-9466': 0, 'FT942-9490': 0, 'FT942-9715': 0, 'FT943-11739': 0, 'FT943-12965': 0, 'FT943-13315': 0, 'FT943-13339': 0, 'FT943-14383': 0, 'FT943-15429': 0, 'FT943-15437': 0, 'FT943-15910': 0, 'FT943-16238': 1, 'FT943-16477': 1, 'FT943-16618': 0, 'FT943-2156': 0, 'FT943-2588': 0, 'FT943-295': 0, 'FT943-3533': 1, 'FT943-3953': 0, 'FT943-4417': 0, 'FT943-505': 0, 'FT943-5051': 0, 'FT943-5111': 0, 'FT943-5179': 0, 'FT943-5341': 0, 'FT943-5355': 0, 'FT943-5577': 0, 'FT943-6423': 0, 'FT943-726': 0, 'FT943-8128': 0, 'FT943-8527': 0, 'FT943-8670': 0, 'FT943-8942': 0, 'FT943-8961': 0, 'FT944-10136': 0, 'FT944-10634': 0, 'FT944-10635': 1, 'FT944-10673': 0, 'FT944-10675': 0, 'FT944-10676': 0, 'FT944-10779': 0, 'FT944-11113': 0, 'FT944-11625': 0, 'FT944-12104': 0, 'FT944-12173': 1, 'FT944-12949': 0, 'FT944-1350': 0, 'FT944-14183': 0, 'FT944-14184': 0, 'FT944-15443': 0, 'FT944-15444': 0, 'FT944-1692': 0, 'FT944-1808': 1, 'FT944-18166': 0, 'FT944-18167': 0, 'FT944-18184': 0, 'FT944-2231': 1, 'FT944-2497': 0, 'FT944-2600': 0, 'FT944-3492': 0, 'FT944-4020': 0, 'FT944-4116': 0, 'FT944-4735': 0, 'FT944-4901': 0, 'FT944-5537': 0, 'FT944-5679': 0, 'FT944-5749': 0, 'FT944-7669': 1, 'FT944-7867': 0, 'FT944-8161': 0, 'FT944-8297': 1, 'LA010290-0076': 0, 'LA010590-0084': 1, 'LA011290-0184': 0, 'LA011390-0046': 1, 'LA011390-0156': 1, 'LA011490-0115': 1, 'LA011790-0128': 1, 'LA011890-0125': 1, 'LA011990-0102': 1, 'LA012090-0101': 0, 'LA012190-0120': 1, 'LA012290-0053': 0, 'LA012690-0169': 1, 'LA012890-0073': 1, 'LA013190-0012': 0, 'LA021089-0177': 0, 'LA021590-0204': 1, 'LA021690-0049': 1, 'LA021790-0127': 0, 'LA022590-0191': 1, 'LA022689-0075': 0, 'LA022790-0089': 1, 'LA030290-0106': 0, 'LA030490-0017': 0, 'LA030490-0071': 0, 'LA031190-0216': 0, 'LA031289-0074': 0, 'LA031490-0140': 0, 'LA031690-0077': 0, 'LA032090-0091': 0, 'LA032189-0097': 0, 'LA032790-0103': 1, 'LA040689-0155': 0, 'LA041189-0055': 0, 'LA041389-0038': 1, 'LA041390-0018': 0, 'LA041589-0014': 0, 'LA041689-0150': 1, 'LA041689-0190': 0, 'LA041690-0050': 0, 'LA041690-0051': 0, 'LA041789-0008': 0, 'LA041790-0054': 0, 'LA041790-0055': 0, 'LA041890-0075': 1, 'LA041989-0027': 0, 'LA042190-0078': 0, 'LA042289-0040': 0, 'LA042390-0099': 0, 'LA042690-0169': 0, 'LA042890-0015': 0, 'LA042890-0151': 0, 'LA042989-0116': 0, 'LA043089-0169': 0, 'LA050189-0063': 0, 'LA050489-0093': 0, 'LA050590-0027': 0, 'LA050590-0048': 0, 'LA050690-0134': 1, 'LA050690-0145': 0, 'LA050690-0149': 0, 'LA050789-0006': 1, 'LA050789-0007': 1, 'LA050990-0077': 0, 'LA050990-0078': 0, 'LA050990-0116': 0, 'LA051190-0064': 0, 'LA051389-0039': 1, 'LA051390-0175': 1, 'LA051590-0064': 0, 'LA051690-0108': 1, 'LA052090-0088': 0, 'LA052090-0143': 1, 'LA052189-0123': 0, 'LA052190-0021': 0, 'LA052190-0064': 1, 'LA052289-0047': 0, 'LA052490-0139': 0, 'LA052690-0037': 0, 'LA052690-0142': 0, 'LA052890-0046': 0, 'LA052990-0018': 0, 'LA053089-0075': 0, 'LA053190-0175': 0, 'LA060489-0196': 0, 'LA060490-0021': 0, 'LA060490-0122': 0, 'LA060590-0010': 0, 'LA060790-0159': 0, 'LA060990-0077': 0, 'LA061189-0173': 0, 'LA061190-0085': 0, 'LA061190-0112': 0, 'LA061289-0051': 0, 'LA061290-0117': 0, 'LA061389-0060': 0, 'LA061390-0056': 0, 'LA061490-0229': 0, 'LA061590-0010': 0, 'LA061690-0021': 0, 'LA061690-0030': 0, 'LA061789-0027': 0, 'LA061789-0028': 0, 'LA061790-0205': 0, 'LA062090-0094': 0, 'LA062189-0012': 0, 'LA062189-0052': 0, 'LA062189-0067': 0, 'LA062390-0041': 0, 'LA062690-0041': 0, 'LA062890-0206': 0, 'LA062989-0196': 1, 'LA063089-0061': 1, 'LA070289-0147': 0, 'LA070289-0171': 1, 'LA070290-0003': 0, 'LA070290-0051': 0, 'LA070590-0016': 0, 'LA070590-0097': 0, 'LA070689-0122': 1, 'LA070690-0095': 0, 'LA070790-0061': 0, 'LA070890-0079': 0, 'LA070890-0080': 0, 'LA071089-0065': 0, 'LA071190-0028': 0, 'LA071290-0123': 1, 'LA071489-0020': 1, 'LA071490-0024': 0, 'LA071690-0047': 1, 'LA071889-0026': 0, 'LA071990-0150': 0, 'LA071990-0165': 0, 'LA072090-0146': 0, 'LA072090-0147': 0, 'LA072490-0033': 0, 'LA072590-0115': 0, 'LA072689-0016': 0, 'LA072789-0050': 0, 'LA072890-0052': 0, 'LA073189-0043': 0, 'LA080489-0020': 0, 'LA080590-0195': 0, 'LA080689-0093': 0, 'LA080889-0098': 0, 'LA080890-0044': 0, 'LA080989-0129': 0, 'LA080990-0216': 0, 'LA081089-0167': 1, 'LA081190-0051': 0, 'LA081190-0108': 0, 'LA081589-0042': 0, 'LA081690-0102': 0, 'LA081789-0093': 1, 'LA081790-0083': 0, 'LA081889-0147': 1, 'LA081989-0048': 0, 'LA081990-0158': 0, 'LA082089-0163': 0, 'LA082190-0014': 0, 'LA082190-0015': 0, 'LA082389-0028': 0, 'LA082389-0039': 1, 'LA082390-0176': 0, 'LA082489-0035': 0, 'LA082589-0079': 1, 'LA082589-0090': 1, 'LA082590-0019': 0, 'LA082689-0044': 1, 'LA082689-0054': 1, 'LA082789-0018': 1, 'LA082790-0022': 1, 'LA082889-0047': 1, 'LA082889-0056': 1, 'LA082989-0074': 0, 'LA083089-0017': 1, 'LA083089-0069': 1, 'LA083089-0072': 1, 'LA090189-0018': 0, 'LA090389-0097': 0, 'LA090389-0100': 0, 'LA090689-0015': 0, 'LA090689-0125': 1, 'LA090689-0130': 1, 'LA090690-0234': 0, 'LA090989-0075': 1, 'LA091089-0170': 0, 'LA091089-0172': 0, 'LA091089-0187': 0, 'LA091090-0038': 0, 'LA091189-0110': 1, 'LA091190-0096': 0, 'LA091190-0102': 0, 'LA091289-0135': 1, 'LA091289-0136': 1, 'LA091389-0053': 1, 'LA091390-0046': 0, 'LA091589-0045': 1, 'LA091689-0028': 0, 'LA092089-0143': 1, 'LA092090-0092': 0, 'LA092290-0094': 0, 'LA092489-0121': 0, 'LA092590-0019': 0, 'LA092789-0047': 0, 'LA092790-0128': 0, 'LA092989-0108': 1, 'LA100189-0205': 0, 'LA100289-0104': 1, 'LA100290-0067': 0, 'LA100390-0069': 0, 'LA100589-0136': 1, 'LA100789-0127': 0, 'LA100790-0068': 0, 'LA100989-0008': 0, 'LA101289-0126': 1, 'LA101389-0091': 0, 'LA101390-0083': 0, 'LA101589-0169': 0, 'LA101589-0174': 1, 'LA101590-0071': 0, 'LA101689-0002': 0, 'LA101789-0155': 1, 'LA102089-0025': 1, 'LA102289-0170': 1, 'LA102290-0116': 0, 'LA110990-0184': 0, 'LA112089-0024': 0, 'LA112489-0069': 1, 'LA112489-0141': 0, 'LA112489-0142': 1, 'LA112490-0089': 0, 'LA121089-0089': 0, 'LA121289-0096': 1, 'LA121389-0124': 1, 'LA121490-0027': 1, 'LA121589-0007': 1, 'LA121589-0184': 0, 'LA121689-0077': 0, 'LA121890-0057': 0, 'LA121890-0079': 0, 'LA121890-0086': 0, 'LA121990-0123': 1, 'LA122089-0109': 0, 'LA122389-0069': 1, 'LA122789-0009': 0, 'LA122889-0124': 0, 'LA123090-0148': 0}\n"
          ]
        }
      ]
    },
    {
      "cell_type": "code",
      "source": [
        "## TODO: Compute MAP@1000 for test_topics\n",
        "def meanavgp(n=1000):\n",
        "  mapvals = []\n",
        "  for key in test_topics.keys():\n",
        "    hits = searcher.search(test_topics[key]['title'], n)\n",
        "    docNscore = [hit.docid for hit in hits]\n",
        "\n",
        "    qlist = []\n",
        "    tp = 0\n",
        "    qcount = 0\n",
        "\n",
        "    for doc in docNscore:\n",
        "      qcount += 1\n",
        "      if key in qreldict.keys():\n",
        "        if doc in qreldict[key].keys():\n",
        "          if qreldict[key][doc] != 0:\n",
        "            tp += 1\n",
        "            qlist.append(tp/qcount)\n",
        "              \n",
        "\n",
        "    if len(qlist):\n",
        "      qval = sum(qlist) / len(qlist)\n",
        "      mapvals.append(qval) \n",
        "\n",
        "  # print(mapvals)\n",
        "  # print(len(mapvals))\n",
        "  mapv = sum(mapvals) / len(mapvals)\n",
        "  return mapv\n",
        "\n",
        "val = meanavgp(1000)\n",
        "print('For the list of test_topics, MAP@1000 = ',val)"
      ],
      "metadata": {
        "id": "aGQK-C935EVA",
        "outputId": "34c1b849-d3f8-4832-a159-02f7216835d8",
        "colab": {
          "base_uri": "https://localhost:8080/"
        }
      },
      "execution_count": 16,
      "outputs": [
        {
          "output_type": "stream",
          "name": "stdout",
          "text": [
            "For the list of test_topics, MAP@1000 =  0.332557175419621\n"
          ]
        }
      ]
    },
    {
      "cell_type": "markdown",
      "source": [
        "## Reranking Search Results\n",
        "\n",
        "The default `SimpleSearcher` in pyserini uses a BM25 model. In this final part of the assignment, you should implement a different, and hopefully improved ranking function. To make this easier to implement, you will _re_-rank the top 1000 results for each query that you evaluated above. In other words, rather than retrieving documents from the whole collection, scan through the top 1000 results for each query given by the baseline SimpleSearcher BM25 model and compute a new score for that result. Then re-sort the top-1000 results by your model's score.\n",
        "\n",
        "You may use anything you've learning in this course—or in another course—to build your ranking function. For example, you could implement pseudo-relevance feedback or a relevance model, which would treat the top of each ranked list (e.g., the top 100) as if it were truly relevant and retrain model parameters. You could tune different BM25, query likelihood, or sequential dependence models. You could try to learn different weights or embeddings for different fields in documents. You could use implementations of transformer language models such as [BERT](https://github.com/castorini/anserini-notebooks/blob/master/Pyserini+SciBERT_on_COVID_19_Demo.ipynb) or [SentenceBERT](https://www.sbert.net/examples/training/ms_marco/README.html) to score the compatibility of queries and documents. To be clear, you  don't have to try all of these approaches, nor do you have to try any of them. You are free to try whatever ideas you like.\n",
        "\n",
        "If your reranking model has tunable parameters, you should tune them on the `dev_topics` set. In any case, you should evaluate its MAP@1000 on the `test_topics` set."
      ],
      "metadata": {
        "id": "sjUR-wKz5RNL"
      }
    },
    {
      "cell_type": "code",
      "source": [
        "# Tokenizing and stemming document titles\n",
        "import math\n",
        "from nltk.stem import PorterStemmer\n",
        "\n",
        "ps = PorterStemmer()\n",
        "stats = reader.stats()\n",
        "N = stats['documents']\n",
        "list1 = test_topics[301]['title'].split()\n",
        "for i in range(len(list1)):\n",
        "  list1[i] = ps.stem(list1[i])"
      ],
      "metadata": {
        "id": "kzsbTcDVLYiS"
      },
      "execution_count": 17,
      "outputs": []
    },
    {
      "cell_type": "code",
      "source": [
        "# Calculate TF-IDF weight instances for documents\n",
        "def tfidffunc(docs):\n",
        "  terms = {}\n",
        "  stats = reader.stats()\n",
        "  N = 1000\n",
        "  tf = {}\n",
        "  for doc in docs:\n",
        "    tf.update(reader.get_document_vector(doc))\n",
        "  df = {term: (reader.get_term_counts(term, analyzer=None))[0] for term in tf.keys()}\n",
        "  idf = {term: math.log(1+N/1+df[term])+1 for term in df.keys()}  \n",
        "  return tf,idf"
      ],
      "metadata": {
        "id": "MAwyMZUOrGFk"
      },
      "execution_count": 18,
      "outputs": []
    },
    {
      "cell_type": "code",
      "source": [
        "## TODO: Implement a raranking function that takes a query and a list of results and computes a new score.\n",
        "## Like the original score of the BM25 baseline model, a higher score should mean a better result.\n",
        "\n",
        "# Pseudo-relevance feedback (using Rochio algorithm) with query expansion \n",
        "updated_query_dict = {}\n",
        "query_tf_idf = {}\n",
        "def rocchioalgo(test_topics,n=1000):\n",
        "  mapvals = []\n",
        "  index = 0\n",
        "  for key in test_topics.keys():\n",
        "    hits = searcher.search(test_topics[key]['title'], n)\n",
        "    query_wordlist = test_topics[key]['title'].split()\n",
        "    for i in range(len(query_wordlist)):\n",
        "      query_wordlist[i] = ps.stem(query_wordlist[i])\n",
        "    query_wordset = set(query_wordlist)\n",
        "    docNscore = [hit.docid for hit in hits]\n",
        "    query_tf_idf[index] = {}\n",
        "    tf,idf = tfidffunc(docNscore)\n",
        "    # print('TF: ',tf)\n",
        "    # print('IDF: ',idf)\n",
        "    # print(\"Query wordset :\", query_wordset)\n",
        "\n",
        "  \n",
        "    # Implementing Rochio algorithm for each query (query vector updation)\n",
        "    beta = 0.65\n",
        "    j = 0\n",
        "    for doc in docNscore:\n",
        "      terms = reader.get_document_vector(doc)\n",
        "      for word in terms.keys():\n",
        "        if word in query_tf_idf[index]:\n",
        "          query_tf_idf[index][word] += beta * math.log(tf[word] + 1) * idf[word]\n",
        "        else:\n",
        "          query_tf_idf[index][word] = beta * math.log(tf[word] + 1) * idf[word]\n",
        "      j += 1\n",
        "      # Only top 100 docs from the retrieved 1000 docs\n",
        "      if j == 100:\n",
        "        break\n",
        "    new_query = test_topics[key]['title'] + \" \"\n",
        "    sorted_dict = sorted(query_tf_idf[index], key=query_tf_idf[index].get, reverse=True)\n",
        "    k = 0\n",
        "    # Query expansion upto 10 words\n",
        "    for r in sorted_dict:\n",
        "        new_query += str(r) + \" \"\n",
        "        k += 1\n",
        "        if k == 10:\n",
        "            break\n",
        "    updated_query_dict[key] = new_query\n",
        "    index += 1\n",
        "\n",
        "  return updated_query_dict\n",
        "\n",
        "new_query_dict = rocchioalgo(test_topics, 1000)\n"
      ],
      "metadata": {
        "id": "5clowdaNLbF5"
      },
      "execution_count": 19,
      "outputs": []
    },
    {
      "cell_type": "code",
      "source": [
        "## TODO: Evaluate your reranker's MAP@1000 on test_topics.\n",
        "def meanavgp(n=1000):\n",
        "  mapvals = []\n",
        "  for queryKey in new_query_dict.keys():\n",
        "    hits = searcher.search(new_query_dict[queryKey], n)\n",
        "    docNscore = [hit.docid for hit in hits]\n",
        "\n",
        "    qlist = []\n",
        "    tp = 0\n",
        "    qcount = 0\n",
        "\n",
        "    for doc in docNscore:\n",
        "      qcount += 1\n",
        "      if queryKey in qreldict.keys():\n",
        "        if doc in qreldict[queryKey].keys():\n",
        "          if qreldict[queryKey][doc] != 0:\n",
        "            tp += 1\n",
        "            qlist.append(tp/qcount)\n",
        "              \n",
        "\n",
        "    if len(qlist):\n",
        "      qval = sum(qlist) / len(qlist)\n",
        "      mapvals.append(qval) \n",
        "\n",
        "  # print(mapvals)\n",
        "  # print(len(mapvals))\n",
        "  mapv = sum(mapvals) / len(mapvals)\n",
        "  return mapv\n",
        "\n",
        "val = meanavgp(1000)\n",
        "print('For the list of test_topics, MAP@1000 = ',val)"
      ],
      "metadata": {
        "id": "74jpkLbVHsBo",
        "outputId": "4255bfcf-11cc-46b4-ba03-3c879a615a5c",
        "colab": {
          "base_uri": "https://localhost:8080/"
        }
      },
      "execution_count": 20,
      "outputs": [
        {
          "output_type": "stream",
          "name": "stdout",
          "text": [
            "For the list of test_topics, MAP@1000 =  0.27171649835242334\n"
          ]
        }
      ]
    }
  ]
}