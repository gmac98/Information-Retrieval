{
  "nbformat": 4,
  "nbformat_minor": 0,
  "metadata": {
    "colab": {
      "name": "PageRank.ipynb",
      "provenance": [],
      "include_colab_link": true
    },
    "kernelspec": {
      "name": "python3",
      "display_name": "Python 3"
    },
    "language_info": {
      "name": "python"
    }
  },
  "cells": [
    {
      "cell_type": "markdown",
      "metadata": {
        "id": "view-in-github",
        "colab_type": "text"
      },
      "source": [
        "<a href=\"https://colab.research.google.com/github/NULabTMN/homework-2-gmac98/blob/main/PageRank.ipynb\" target=\"_parent\"><img src=\"https://colab.research.google.com/assets/colab-badge.svg\" alt=\"Open In Colab\"/></a>"
      ]
    },
    {
      "cell_type": "markdown",
      "metadata": {
        "id": "Q2QKFIlR6HCY"
      },
      "source": [
        "# PageRank\n",
        "\n",
        "In this assignment, you will compute PageRank on a collection of 469,235 web sites using the iterative version of the PageRank algorithm described in class for sparse graphs (NOT the power method with explicit matrix multiplication).\n",
        "\n",
        "Consider the following directed graph:\n",
        "\n",
        "![A directed link graph](https://ccs.neu.edu/home/dasmith/courses/cs6200/pagerank.jpg)\n",
        "\n",
        "We can represent this graph as a collection of nodes, here, ordered pairs of node index and node name:"
      ]
    },
    {
      "cell_type": "code",
      "metadata": {
        "id": "4D_Mxj5pXKPl"
      },
      "source": [
        "small_nodes = [(0, 'A'),\n",
        "              (1, 'B'),\n",
        "              (2, 'C'),\n",
        "              (3, 'D'),\n",
        "              (4, 'E'),\n",
        "              (5, 'F')]"
      ],
      "execution_count": 1,
      "outputs": []
    },
    {
      "cell_type": "markdown",
      "metadata": {
        "id": "RTF3JKtTYxiZ"
      },
      "source": [
        "and a collection of directed links, i.e., ordered pairs from source to target:"
      ]
    },
    {
      "cell_type": "code",
      "metadata": {
        "id": "-i0V5ueOYDDN"
      },
      "source": [
        "small_edges = [\n",
        "  (0, 1),\n",
        "  (0, 2),\n",
        "  (0, 5),\n",
        "  (1, 2),\n",
        "  (1, 3),\n",
        "  (1, 4),\n",
        "  (1, 5),\n",
        "  (2, 3),\n",
        "  (2, 4),\n",
        "  (3, 0),\n",
        "  (3, 2),\n",
        "  (3, 4),\n",
        "  (3, 5),\n",
        "  (4, 0),\n",
        "  (5, 0),\n",
        "  (5, 1),\n",
        "  (5, 4)\n",
        "]"
      ],
      "execution_count": 2,
      "outputs": []
    },
    {
      "cell_type": "markdown",
      "metadata": {
        "id": "kBVDeszXY4B_"
      },
      "source": [
        "We use integer identifiers for the nodes for efficiency. Note that, unlike this example, in a real web graph, not every page will have in-links, nor will every page have out-links."
      ]
    },
    {
      "cell_type": "markdown",
      "metadata": {
        "id": "QPNsTGSsEwMX"
      },
      "source": [
        "## First Implementation and Test\n",
        "\n",
        "\\[10 points\\] Implement the iterative PageRank algorithm. Test your code on the six-node example using the input representation given above.  Be sure that your code handles pages that have no in-links or out-links properly.  (You may wish to test on a few such examples.) In later parts of this assignment, depending on how you store the data, it may be convenient to use iterators rather than storing the data in memory."
      ]
    },
    {
      "cell_type": "code",
      "metadata": {
        "id": "NMu_WaDA55sk",
        "outputId": "25ac0e52-7dd4-4ab3-fac6-019a5a9bcf17",
        "colab": {
          "base_uri": "https://localhost:8080/"
        }
      },
      "source": [
        "# TODO: Implement PageRank, given nodes and edges, to start with a uniform\n",
        "# distribution over nodes, run a fixed number of iterations, and\n",
        "# return a distribution over nodes.\n",
        "import math\n",
        "import numpy as np\n",
        "from collections import defaultdict\n",
        "\n",
        "def page_rank_fixed_iter(nodes, edges, max_iterations=10):\n",
        "    \n",
        "    damping_factor = 0.85\n",
        "    node_dict = dict(nodes)\n",
        "    \n",
        "    page_set = []\n",
        "    dict1 = defaultdict(list)\n",
        "    for i, j in edges:\n",
        "        page_set.append(i)\n",
        "        page_set.append(j)\n",
        "        dict1[j].append(i)\n",
        "    page_set = list(dict.fromkeys(page_set))\n",
        "    inlink_dict = dict(dict1)\n",
        "        \n",
        "    for page in page_set:\n",
        "        if page not in inlink_dict.keys():\n",
        "            inlink_dict[page] = []\n",
        "\n",
        "    outlink_count_dict = {}\n",
        "    for page in page_set:\n",
        "        outlink_count_dict[page] = 0\n",
        "\n",
        "    for values in inlink_dict.values():\n",
        "        for v in values:\n",
        "            outlink_count_dict[v] += 1\n",
        "\n",
        "    sink_set = []\n",
        "    for k in outlink_count_dict.keys():\n",
        "        if outlink_count_dict.get(k) == 0:\n",
        "            sink_set.append(k)\n",
        "    \n",
        "    # page rank calculation\n",
        "    N = len(page_set)\n",
        "    final_rank_dict = {}\n",
        "    pagerank_new = {}\n",
        "\n",
        "    for page in page_set:\n",
        "        final_rank_dict[page] = 1 / N\n",
        "\n",
        "    iter = 0\n",
        "    while iter < max_iterations:\n",
        "        sink_rank = 0\n",
        "        for page in sink_set:\n",
        "            sink_rank += final_rank_dict[page]\n",
        "        for page in page_set:\n",
        "            pagerank_new[page] = (1 - damping_factor) / N\n",
        "            pagerank_new[page] += damping_factor * sink_rank / N\n",
        "            for i in inlink_dict[page]:\n",
        "                pagerank_new[page] += damping_factor * final_rank_dict[i] / outlink_count_dict[i]\n",
        "        final_rank_dict = pagerank_new\n",
        "        iter += 1\n",
        "      \n",
        "    pagerank_sorted = sorted(final_rank_dict.items())\n",
        "    return list((page[0],node_dict[page[0]],page[1]) for page in pagerank_sorted)\n",
        "\n",
        "# Output PageRank on the toy graph at various points.\n",
        "# Make sure your output has node number, name, and PageRank value.\n",
        "print(\"Page Rank on toy graph at 1 iteration: \\n\", page_rank_fixed_iter(small_nodes, small_edges, 1))\n",
        "print(\"Page Rank on toy graph at 10 iterations: \\n\",page_rank_fixed_iter(small_nodes, small_edges, 10))\n",
        "print(\"Page Rank on toy graph at 100 iterations: \\n\",page_rank_fixed_iter(small_nodes, small_edges, 100))"
      ],
      "execution_count": 3,
      "outputs": [
        {
          "output_type": "stream",
          "name": "stdout",
          "text": [
            "Page Rank on toy graph at 1 iteration: \n",
            " [(0, 'A', 0.24930555555555556), (1, 'B', 0.11944444444444445), (2, 'C', 0.14305555555555555), (3, 'D', 0.13125), (4, 'E', 0.2138888888888889), (5, 'F', 0.14305555555555555)]\n",
            "Page Rank on toy graph at 10 iterations: \n",
            " [(0, 'A', 0.25270193989927037), (1, 'B', 0.1395924623608689), (2, 'C', 0.15158942960414695), (3, 'D', 0.1190889058334471), (4, 'E', 0.18734563671089624), (5, 'F', 0.15158942960414695)]\n",
            "Page Rank on toy graph at 100 iterations: \n",
            " [(0, 'A', 0.2521271053751956), (1, 'B', 0.1393061853185386), (2, 'C', 0.1513064898667053), (3, 'D', 0.11890782257353921), (4, 'E', 0.18704590699931614), (5, 'F', 0.1513064898667053)]\n"
          ]
        }
      ]
    },
    {
      "cell_type": "markdown",
      "metadata": {
        "id": "y4duRjzABB9n"
      },
      "source": [
        "## PageRank on Web Crawl Data\n",
        "\n",
        "\\[20 points\\] Download and unpack a list of `.edu` websites and the links among them from the [Common Crawl](https://commoncrawl.org/2017/05/hostgraph-2017-feb-mar-apr-crawls/) open-source web crawl. For the sake of brevity, the data record links among websites, not web pages. The information for nodes and links is the same as the toy example above."
      ]
    },
    {
      "cell_type": "code",
      "metadata": {
        "id": "v6EDDdTQCd3y",
        "outputId": "e1672afa-4953-44f5-83b2-2770db1c58c4",
        "colab": {
          "base_uri": "https://localhost:8080/"
        }
      },
      "source": [
        "# If you're running on a machine (e.g., Windows) that doesn't have wget or gzip,\n",
        "# feel free to comment this out and use a different set of commands to load\n",
        "# the data.\n",
        "!wget https://ccs.neu.edu/home/dasmith/courses/cs6200/vertices-edu.txt.gz\n",
        "!gzip -df vertices-edu.txt.gz\n",
        "!wget https://ccs.neu.edu/home/dasmith/courses/cs6200/edges-edu.txt.gz\n",
        "!gzip -df edges-edu.txt.gz"
      ],
      "execution_count": 4,
      "outputs": [
        {
          "output_type": "stream",
          "name": "stdout",
          "text": [
            "--2022-02-28 03:41:52--  https://ccs.neu.edu/home/dasmith/courses/cs6200/vertices-edu.txt.gz\n",
            "Resolving ccs.neu.edu (ccs.neu.edu)... 52.70.229.197\n",
            "Connecting to ccs.neu.edu (ccs.neu.edu)|52.70.229.197|:443... connected.\n",
            "HTTP request sent, awaiting response... 200 OK\n",
            "Length: 3703486 (3.5M) [application/x-gzip]\n",
            "Saving to: ‘vertices-edu.txt.gz’\n",
            "\n",
            "vertices-edu.txt.gz 100%[===================>]   3.53M  --.-KB/s    in 0.09s   \n",
            "\n",
            "2022-02-28 03:42:07 (38.9 MB/s) - ‘vertices-edu.txt.gz’ saved [3703486/3703486]\n",
            "\n",
            "--2022-02-28 03:42:07--  https://ccs.neu.edu/home/dasmith/courses/cs6200/edges-edu.txt.gz\n",
            "Resolving ccs.neu.edu (ccs.neu.edu)... 52.70.229.197\n",
            "Connecting to ccs.neu.edu (ccs.neu.edu)|52.70.229.197|:443... connected.\n",
            "HTTP request sent, awaiting response... 503 Service Temporarily Unavailable\n",
            "2022-02-28 03:42:28 ERROR 503: Service Temporarily Unavailable.\n",
            "\n",
            "gzip: edges-edu.txt.gz: No such file or directory\n"
          ]
        }
      ]
    },
    {
      "cell_type": "markdown",
      "metadata": {
        "id": "CW4yp1gPUwzb"
      },
      "source": [
        "There should now be files `vertices-edu.txt` and `edges-edu.txt`."
      ]
    },
    {
      "cell_type": "code",
      "metadata": {
        "id": "ly1t9fyjK7eC"
      },
      "source": [
        "# TODO: Process the raw data into the same format as the simple graph.\n",
        "# You may create lists or iterators.\n",
        "edges = []\n",
        "with open('edges-edu.txt', 'r') as f:\n",
        "    edges = [l.strip() for l in f.readlines()]\n",
        "    \n",
        "nodes = []\n",
        "with open('vertices-edu.txt', 'r') as f:\n",
        "    nodes = [l.strip() for l in f.readlines()]"
      ],
      "execution_count": 5,
      "outputs": []
    },
    {
      "cell_type": "markdown",
      "metadata": {
        "id": "0WMf5L5VEqZb"
      },
      "source": [
        "Refine your implementation of PageRank to test for numerical convergence. Specificially, at each iteration, calculate the [perplexity](https://en.wikipedia.org/wiki/Perplexity) of the PageRank distribution, where perplexity is defined as 2 raised to the [Shannon entropy](https://en.wikipedia.org/wiki/Entropy_(information_theory)) of the PageRank distribution, i.e., $2^{H(PR)}$. (Recall that we defined entropy when talking about data compression.) The maximum perplexity of a PageRank distribution will therefore be the number of nodes in the graph.\n",
        "\n",
        "At each iteration, check the _change_ in perplexity. If the change is less than some threshold, you can stop.\n"
      ]
    },
    {
      "cell_type": "code",
      "metadata": {
        "id": "wsL0yQKvKqAC",
        "outputId": "17329fde-8e40-4210-9db3-ebb1d4fae033",
        "colab": {
          "base_uri": "https://localhost:8080/"
        }
      },
      "source": [
        "from math import log\n",
        "\n",
        "def page_rank(nodes, edges, threshold=1):\n",
        "    \n",
        "    damping_factor = 0.85 \n",
        "    final_rank_dict = {}\n",
        "    pagerank_new = {}   \n",
        "    perplexity = []\n",
        "\n",
        "    page_set = []\n",
        "    dict1 = defaultdict(list)\n",
        "    for edge in edges:\n",
        "        nodes = edge.split()\n",
        "        from_, to_ = nodes[0],nodes[1]\n",
        "        page_set.append(from_)\n",
        "        page_set.append(to_)\n",
        "        dict1[to_].append(from_)\n",
        "\n",
        "    page_set = list(dict.fromkeys(page_set))\n",
        "    inlink_dict = dict(dict1)\n",
        "    for page in page_set:\n",
        "        if page not in inlink_dict.keys():\n",
        "            inlink_dict[page] = []\n",
        "\n",
        "    outlink_count_dict = {}\n",
        "    inlink_count_dict = {}\n",
        "    for page in page_set:\n",
        "        outlink_count_dict[page] = 0\n",
        "        inlink_count_dict[page] = 0\n",
        "\n",
        "    for values in inlink_dict.values():\n",
        "        for v in values:\n",
        "            outlink_count_dict[v] += 1\n",
        "\n",
        "    sink_set = []\n",
        "    for k in outlink_count_dict.keys():\n",
        "        if outlink_count_dict.get(k) == 0:\n",
        "            sink_set.append(k)\n",
        "\n",
        "    for k in inlink_dict.keys():\n",
        "        inlink_count_dict[k] = len(inlink_dict.get(k))\n",
        "\n",
        "    source_set = []\n",
        "    for i in inlink_count_dict:\n",
        "        if inlink_count_dict.get(i) == 0 :\n",
        "            source_set.append(i)\n",
        "            \n",
        "    # numerical convergence checking helper function\n",
        "    def check_convergence(iter):\n",
        "        perplexity.append(compute_perplexity(iter))\n",
        "        if iter > 0:\n",
        "            diff = abs(perplexity[iter] - perplexity[iter - 1])\n",
        "            if diff < threshold:\n",
        "                return True\n",
        "            else:\n",
        "                return False\n",
        "        else:\n",
        "            return False\n",
        "\n",
        "    # perplexity calculation helper function\n",
        "    def compute_perplexity(iter):\n",
        "        H = 0\n",
        "        for page in final_rank_dict.keys():\n",
        "            H += final_rank_dict[page] * log( 1 / final_rank_dict[page], 2)\n",
        "        perplexity_val = 2**H\n",
        "        return perplexity_val\n",
        "    \n",
        "    \n",
        "    # page rank calculation\n",
        "    N = len(page_set)\n",
        "    for page in page_set:\n",
        "        final_rank_dict[page] = 1 / N\n",
        "\n",
        "    iter = 0\n",
        "    while not check_convergence(iter):\n",
        "        print(\"Iteration : \",iter+1,\", Perplexity :\",compute_perplexity(iter))\n",
        "        sink_rank = 0\n",
        "        for page in sink_set:\n",
        "            sink_rank += final_rank_dict[page]\n",
        "        for page in page_set:\n",
        "            pagerank_new[page] = (1 - damping_factor) / N\n",
        "            pagerank_new[page] += damping_factor * sink_rank / N\n",
        "            for i in inlink_dict[page]:\n",
        "                pagerank_new[page] += damping_factor * final_rank_dict[i] / outlink_count_dict[i]\n",
        "        # final_rank_dict = pagerank_new\n",
        "        for page in page_set:\n",
        "          final_rank_dict[page] = pagerank_new[page]\n",
        "        iter += 1\n",
        "\n",
        "    return final_rank_dict, inlink_count_dict, page_set, sink_set, source_set\n",
        "\n",
        "# Run until perplexity changes by less than 1\n",
        "print('Computing PageRank and change in perplexity')\n",
        "final_rank_dict, inlink_count_dict, page_set, sink_set, source_set = page_rank(nodes, edges, 1)"
      ],
      "execution_count": 6,
      "outputs": [
        {
          "output_type": "stream",
          "name": "stdout",
          "text": [
            "Computing PageRank and change in perplexity\n",
            "Iteration :  1 , Perplexity : 365475.00000684883\n",
            "Iteration :  2 , Perplexity : 203521.1119383656\n",
            "Iteration :  3 , Perplexity : 182231.54293486135\n",
            "Iteration :  4 , Perplexity : 171348.75333868322\n",
            "Iteration :  5 , Perplexity : 167989.13141405568\n",
            "Iteration :  6 , Perplexity : 165876.4885006344\n",
            "Iteration :  7 , Perplexity : 165026.42508863745\n",
            "Iteration :  8 , Perplexity : 164384.73241848018\n",
            "Iteration :  9 , Perplexity : 164081.16846741337\n",
            "Iteration :  10 , Perplexity : 163831.13997000034\n",
            "Iteration :  11 , Perplexity : 163704.27042062077\n",
            "Iteration :  12 , Perplexity : 163588.75888346083\n",
            "Iteration :  13 , Perplexity : 163527.57152784104\n",
            "Iteration :  14 , Perplexity : 163468.05352149493\n",
            "Iteration :  15 , Perplexity : 163434.78700437472\n",
            "Iteration :  16 , Perplexity : 163401.30566470226\n",
            "Iteration :  17 , Perplexity : 163381.54199576954\n",
            "Iteration :  18 , Perplexity : 163361.3469764021\n",
            "Iteration :  19 , Perplexity : 163348.81422893237\n",
            "Iteration :  20 , Perplexity : 163336.00787719153\n",
            "Iteration :  21 , Perplexity : 163327.69605063507\n",
            "Iteration :  22 , Perplexity : 163319.2739968196\n",
            "Iteration :  23 , Perplexity : 163313.59930515962\n",
            "Iteration :  24 , Perplexity : 163307.91546488254\n",
            "Iteration :  25 , Perplexity : 163303.9679952519\n",
            "Iteration :  26 , Perplexity : 163300.06212949663\n",
            "Iteration :  27 , Perplexity : 163297.28305660863\n",
            "Iteration :  28 , Perplexity : 163294.5644108359\n",
            "Iteration :  29 , Perplexity : 163292.59266830437\n",
            "Iteration :  30 , Perplexity : 163290.68306325455\n",
            "Iteration :  31 , Perplexity : 163289.2769739456\n",
            "Iteration :  32 , Perplexity : 163287.9268265108\n",
            "Iteration :  33 , Perplexity : 163286.9206991719\n"
          ]
        }
      ]
    },
    {
      "cell_type": "markdown",
      "metadata": {
        "id": "rcncY2QHNl0M"
      },
      "source": [
        "## Link Analysis\n",
        "\n",
        "\\[20 points\\] In this final section, you will compute some properties of the web-site graph you downloaded.\n",
        "\n",
        "First, consider the _in-link count_ of a website, simply the number of web-sites pointing to it (including self-links). "
      ]
    },
    {
      "cell_type": "code",
      "metadata": {
        "id": "a_FyPlLSO2bu",
        "outputId": "df9cabb6-c3bc-468e-d6f9-c97185561268",
        "colab": {
          "base_uri": "https://localhost:8080/"
        }
      },
      "source": [
        "# TODO: List the document ID, domain name, and in-link count of the 60 websites with the highest in-link count\n",
        "\n",
        "sorted_inlink_count_dict = sorted(inlink_count_dict.items(), key=lambda x: x[1], reverse = True)\n",
        "\n",
        "websitelist = []\n",
        "for n in nodes:\n",
        "  val = n.split()\n",
        "  websitelist.append(val)\n",
        "website_dict = dict(websitelist)\n",
        "\n",
        "total = 0\t\t\t\n",
        "for website in sorted_inlink_count_dict:\n",
        "    if(total < 60):\n",
        "      print('Document ID: ', website[0],', domain name: ', website_dict[website[0]],', in-link count: ',website[1])\n",
        "      total += 1"
      ],
      "execution_count": 7,
      "outputs": [
        {
          "output_type": "stream",
          "name": "stdout",
          "text": [
            "Document ID:  185524 , domain name:  edu.mit.web , in-link count:  4388\n",
            "Document ID:  278032 , domain name:  edu.stanford , in-link count:  4021\n",
            "Document ID:  244433 , domain name:  edu.purdue.english.owl , in-link count:  3531\n",
            "Document ID:  140443 , domain name:  edu.indiana , in-link count:  3339\n",
            "Document ID:  237176 , domain name:  edu.princeton , in-link count:  3251\n",
            "Document ID:  64587 , domain name:  edu.columbia , in-link count:  3123\n",
            "Document ID:  465503 , domain name:  edu.yale , in-link count:  2804\n",
            "Document ID:  418623 , domain name:  edu.utexas , in-link count:  2622\n",
            "Document ID:  383763 , domain name:  edu.unc , in-link count:  2592\n",
            "Document ID:  197698 , domain name:  edu.nap , in-link count:  2494\n",
            "Document ID:  439637 , domain name:  edu.washington , in-link count:  2291\n",
            "Document ID:  373442 , domain name:  edu.umich , in-link count:  2281\n",
            "Document ID:  440674 , domain name:  edu.washington.depts , in-link count:  2276\n",
            "Document ID:  148945 , domain name:  edu.jhu.muse , in-link count:  2255\n",
            "Document ID:  60975 , domain name:  edu.colorado , in-link count:  2232\n",
            "Document ID:  449738 , domain name:  edu.wisc , in-link count:  2230\n",
            "Document ID:  38320 , domain name:  edu.bu , in-link count:  2205\n",
            "Document ID:  83572 , domain name:  edu.dartmouth , in-link count:  1965\n",
            "Document ID:  408380 , domain name:  edu.usc , in-link count:  1952\n",
            "Document ID:  178879 , domain name:  edu.mit , in-link count:  1946\n",
            "Document ID:  27307 , domain name:  edu.berkeley , in-link count:  1908\n",
            "Document ID:  233405 , domain name:  edu.pitt , in-link count:  1857\n",
            "Document ID:  191069 , domain name:  edu.msu , in-link count:  1810\n",
            "Document ID:  326371 , domain name:  edu.uchicago.press , in-link count:  1763\n",
            "Document ID:  136464 , domain name:  edu.illinois , in-link count:  1753\n",
            "Document ID:  93874 , domain name:  edu.educause , in-link count:  1741\n",
            "Document ID:  56979 , domain name:  edu.cmu.cs , in-link count:  1730\n",
            "Document ID:  199032 , domain name:  edu.ncsu , in-link count:  1709\n",
            "Document ID:  36294 , domain name:  edu.brown , in-link count:  1702\n",
            "Document ID:  202182 , domain name:  edu.nd , in-link count:  1689\n",
            "Document ID:  68675 , domain name:  edu.cornell , in-link count:  1685\n",
            "Document ID:  71095 , domain name:  edu.cornell.law , in-link count:  1646\n",
            "Document ID:  183214 , domain name:  edu.mit.mitpress , in-link count:  1644\n",
            "Document ID:  215627 , domain name:  edu.nyu , in-link count:  1625\n",
            "Document ID:  56538 , domain name:  edu.cmu , in-link count:  1583\n",
            "Document ID:  239378 , domain name:  edu.psu , in-link count:  1541\n",
            "Document ID:  350412 , domain name:  edu.ufl , in-link count:  1533\n",
            "Document ID:  120819 , domain name:  edu.harvard , in-link count:  1529\n",
            "Document ID:  270369 , domain name:  edu.si , in-link count:  1513\n",
            "Document ID:  107916 , domain name:  edu.gatech , in-link count:  1500\n",
            "Document ID:  365396 , domain name:  edu.uky , in-link count:  1497\n",
            "Document ID:  337138 , domain name:  edu.ucop , in-link count:  1482\n",
            "Document ID:  358246 , domain name:  edu.uic , in-link count:  1472\n",
            "Document ID:  382564 , domain name:  edu.umn.www1 , in-link count:  1470\n",
            "Document ID:  403069 , domain name:  edu.upenn , in-link count:  1464\n",
            "Document ID:  293521 , domain name:  edu.tamu , in-link count:  1452\n",
            "Document ID:  284517 , domain name:  edu.stanford.web , in-link count:  1451\n",
            "Document ID:  256613 , domain name:  edu.rutgers , in-link count:  1440\n",
            "Document ID:  367316 , domain name:  edu.umass , in-link count:  1430\n",
            "Document ID:  457936 , domain name:  edu.wsu , in-link count:  1419\n",
            "Document ID:  36154 , domain name:  edu.brookings , in-link count:  1388\n",
            "Document ID:  323918 , domain name:  edu.uchicago , in-link count:  1377\n",
            "Document ID:  440902 , domain name:  edu.washington.faculty , in-link count:  1363\n",
            "Document ID:  282555 , domain name:  edu.stanford.plato , in-link count:  1353\n",
            "Document ID:  392894 , domain name:  edu.universityofcalifornia , in-link count:  1353\n",
            "Document ID:  329686 , domain name:  edu.ucla , in-link count:  1347\n",
            "Document ID:  317828 , domain name:  edu.ucdavis , in-link count:  1343\n",
            "Document ID:  354337 , domain name:  edu.uga , in-link count:  1339\n",
            "Document ID:  225417 , domain name:  edu.osu , in-link count:  1322\n",
            "Document ID:  393138 , domain name:  edu.unl , in-link count:  1319\n"
          ]
        }
      ]
    },
    {
      "cell_type": "markdown",
      "metadata": {
        "id": "5uSlQEtmPTTA"
      },
      "source": [
        "Then, use the PageRank values compute by your second implementation. Note that some websites will have both a high in-link count and PageRank."
      ]
    },
    {
      "cell_type": "code",
      "metadata": {
        "id": "nwcci2kdPlMR",
        "outputId": "cfbd8ae2-74fa-4dde-f37a-cc3d4f057389",
        "colab": {
          "base_uri": "https://localhost:8080/"
        }
      },
      "source": [
        "# TODO: List the document ID, domain name, and PageRank of the 60 websites with the highest PageRank.\n",
        "pagerank_sorted = sorted(final_rank_dict.items(), key=lambda x: x[1], reverse = True)\n",
        "\n",
        "total = 0\n",
        "for website in pagerank_sorted:\n",
        "    if(total < 60):\n",
        "      print('Document ID: ', website[0], ', domain name: ', website_dict[website[0]], ', PageRank: ',website[1])\n",
        "      total += 1"
      ],
      "execution_count": 8,
      "outputs": [
        {
          "output_type": "stream",
          "name": "stdout",
          "text": [
            "Document ID:  185524 , domain name:  edu.mit.web , PageRank:  0.0010322121730479438\n",
            "Document ID:  465503 , domain name:  edu.yale , PageRank:  0.0007792600322022543\n",
            "Document ID:  318278 , domain name:  edu.ucdavis.cas , PageRank:  0.0007138379243956912\n",
            "Document ID:  278032 , domain name:  edu.stanford , PageRank:  0.0006612208801239564\n",
            "Document ID:  136464 , domain name:  edu.illinois , PageRank:  0.0006447950534319456\n",
            "Document ID:  319795 , domain name:  edu.ucdavis.ice.code , PageRank:  0.0006070516209454314\n",
            "Document ID:  237176 , domain name:  edu.princeton , PageRank:  0.0005583215710547086\n",
            "Document ID:  284517 , domain name:  edu.stanford.web , PageRank:  0.0005280978774652548\n",
            "Document ID:  383763 , domain name:  edu.unc , PageRank:  0.0005246428403445298\n",
            "Document ID:  64587 , domain name:  edu.columbia , PageRank:  0.000497604257700617\n",
            "Document ID:  449738 , domain name:  edu.wisc , PageRank:  0.0004851902653943506\n",
            "Document ID:  60975 , domain name:  edu.colorado , PageRank:  0.0004809502466449754\n",
            "Document ID:  346969 , domain name:  edu.ucsf , PageRank:  0.00047834096985201614\n",
            "Document ID:  140443 , domain name:  edu.indiana , PageRank:  0.00047786805668546454\n",
            "Document ID:  42502 , domain name:  edu.byu.cas , PageRank:  0.0004647460258218085\n",
            "Document ID:  334739 , domain name:  edu.uconn , PageRank:  0.00045914009760402065\n",
            "Document ID:  14945 , domain name:  edu.arizona , PageRank:  0.0004552343015336378\n",
            "Document ID:  244433 , domain name:  edu.purdue.english.owl , PageRank:  0.00044828590853064507\n",
            "Document ID:  373442 , domain name:  edu.umich , PageRank:  0.0004472290251267366\n",
            "Document ID:  439637 , domain name:  edu.washington , PageRank:  0.0004431653543607246\n",
            "Document ID:  408380 , domain name:  edu.usc , PageRank:  0.0004354120474651303\n",
            "Document ID:  191069 , domain name:  edu.msu , PageRank:  0.00043534602376735183\n",
            "Document ID:  281817 , domain name:  edu.stanford.med , PageRank:  0.00043533608189290124\n",
            "Document ID:  418623 , domain name:  edu.utexas , PageRank:  0.0004248467069015723\n",
            "Document ID:  239378 , domain name:  edu.psu , PageRank:  0.0004210882530227905\n",
            "Document ID:  68675 , domain name:  edu.cornell , PageRank:  0.00041554788150257856\n",
            "Document ID:  342997 , domain name:  edu.ucsd , PageRank:  0.0003981721367691206\n",
            "Document ID:  153823 , domain name:  edu.kit , PageRank:  0.00039810154675656465\n",
            "Document ID:  293521 , domain name:  edu.tamu , PageRank:  0.00039666296441275435\n",
            "Document ID:  197698 , domain name:  edu.nap , PageRank:  0.00039272666744784984\n",
            "Document ID:  337138 , domain name:  edu.ucop , PageRank:  0.00038462555507745057\n",
            "Document ID:  233405 , domain name:  edu.pitt , PageRank:  0.00038282553199465985\n",
            "Document ID:  307291 , domain name:  edu.ttu.depts , PageRank:  0.00037783556833284837\n",
            "Document ID:  323918 , domain name:  edu.uchicago , PageRank:  0.0003751448598015242\n",
            "Document ID:  225417 , domain name:  edu.osu , PageRank:  0.0003722620237488844\n",
            "Document ID:  126385 , domain name:  edu.harvard.pin1 , PageRank:  0.00036842466023704896\n",
            "Document ID:  317828 , domain name:  edu.ucdavis , PageRank:  0.0003637450663812397\n",
            "Document ID:  459977 , domain name:  edu.wustl , PageRank:  0.00036359279695445104\n",
            "Document ID:  358246 , domain name:  edu.uic , PageRank:  0.00036144678573133576\n",
            "Document ID:  256613 , domain name:  edu.rutgers , PageRank:  0.00035687317550866154\n",
            "Document ID:  440674 , domain name:  edu.washington.depts , PageRank:  0.0003525679283720138\n",
            "Document ID:  120819 , domain name:  edu.harvard , PageRank:  0.0003472642606940298\n",
            "Document ID:  71095 , domain name:  edu.cornell.law , PageRank:  0.0003450249927921765\n",
            "Document ID:  392894 , domain name:  edu.universityofcalifornia , PageRank:  0.00034395724495230045\n",
            "Document ID:  415321 , domain name:  edu.utah , PageRank:  0.00034325948652787886\n",
            "Document ID:  227645 , domain name:  edu.ou , PageRank:  0.00034283072321455006\n",
            "Document ID:  230724 , domain name:  edu.paulmitchell , PageRank:  0.0003374962744958389\n",
            "Document ID:  107916 , domain name:  edu.gatech , PageRank:  0.0003368968207040281\n",
            "Document ID:  202182 , domain name:  edu.nd , PageRank:  0.0003316174602423329\n",
            "Document ID:  27307 , domain name:  edu.berkeley , PageRank:  0.0003275552058066391\n",
            "Document ID:  38320 , domain name:  edu.bu , PageRank:  0.00032738909425686103\n",
            "Document ID:  56538 , domain name:  edu.cmu , PageRank:  0.000323015934274283\n",
            "Document ID:  310453 , domain name:  edu.ua , PageRank:  0.0003218644721698307\n",
            "Document ID:  466684 , domain name:  edu.yale.its.secure , PageRank:  0.00031974177094839254\n",
            "Document ID:  369944 , domain name:  edu.umd , PageRank:  0.00031459837371718635\n",
            "Document ID:  178879 , domain name:  edu.mit , PageRank:  0.00031175829350237023\n",
            "Document ID:  148945 , domain name:  edu.jhu.muse , PageRank:  0.00030676653428842143\n",
            "Document ID:  144435 , domain name:  edu.iu , PageRank:  0.0003051783740091963\n",
            "Document ID:  416152 , domain name:  edu.utah.go , PageRank:  0.0003017942296320065\n",
            "Document ID:  46450 , domain name:  edu.caltech , PageRank:  0.00030072094773037175\n"
          ]
        }
      ]
    },
    {
      "cell_type": "markdown",
      "metadata": {
        "id": "SxODBxL_Pyy2"
      },
      "source": [
        "Finally, compute some summary statistics on this dataset."
      ]
    },
    {
      "cell_type": "code",
      "metadata": {
        "id": "oD4bq6AyQIsU",
        "outputId": "35e50bbf-86f3-4a08-8dbc-d3652a3ccace",
        "colab": {
          "base_uri": "https://localhost:8080/"
        }
      },
      "source": [
        "# TODO: Compute:\n",
        "# - the proportion of websites with no in-links (i.e., source nodes);\n",
        "print('Proportion of websites with no in-links (i.e., source nodes) : ',len(source_set)/len(page_set))\n",
        "\n",
        "# - the proportion of websites with no out-links (i.e., sink nodes);\n",
        "print('Proportion of websites with no out-links (i.e., sink nodes) : ',len(sink_set)/len(page_set))\n",
        "\n",
        "# - the proportion of websites whose PageRank is higher than the initial uniform distribution.\n",
        "N = len(page_set)\n",
        "count = 0\n",
        "for website in pagerank_sorted:\n",
        "  if(website[1] < 1 / N):\n",
        "    count += 1\n",
        "print('Proportion of websites whose PageRank is higher than the initial uniform distribution : ', count / N)"
      ],
      "execution_count": 9,
      "outputs": [
        {
          "output_type": "stream",
          "name": "stdout",
          "text": [
            "Proportion of websites with no in-links (i.e., source nodes) :  0.05188316574321089\n",
            "Proportion of websites with no out-links (i.e., sink nodes) :  0.5001299678500581\n",
            "Proportion of websites whose PageRank is higher than the initial uniform distribution :  0.8356987482043915\n"
          ]
        }
      ]
    }
  ]
}